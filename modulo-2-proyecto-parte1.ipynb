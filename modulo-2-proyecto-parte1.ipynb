{
 "cells": [
  {
   "cell_type": "markdown",
   "metadata": {},
   "source": [
    "# Pruebas iniciales codigo Fase1"
   ]
  },
  {
   "cell_type": "code",
   "execution_count": 6,
   "metadata": {},
   "outputs": [],
   "source": [
    "#Importamos las librerias necesarias\n",
    "from bs4 import BeautifulSoup\n",
    "import pandas as pd\n",
    "import requests\n",
    "import re\n",
    "import json\n",
    "#import selenium"
   ]
  },
  {
   "cell_type": "code",
   "execution_count": 3,
   "metadata": {},
   "outputs": [],
   "source": [
    "import requests"
   ]
  },
  {
   "cell_type": "code",
   "execution_count": null,
   "metadata": {},
   "outputs": [],
   "source": [
    "#API_key = '039163dca0msh7ecfddf47a57b42p193f39jsn80c27500a5c2'\n",
    "API_key = '2d7083a699mshd0e8039e2063bedp140338jsn9b141653fce1'\n",
    "\n",
    "url = \"https://moviesdatabase.p.rapidapi.com/titles\"\n",
    "#url = \"https://moviesdatabase.p.rapidapi.com/titles/utils/genres\"\n",
    "\n",
    "querystring = {\"startYear\":\"2010\",\"endYear\":\"2024\",\"limit\":\"50\"}  # limite 50\n",
    "#querystring = {\"genre\":\"Drama\",\"titleType\":\"movie\",\"year\":\"2010\",\"limit\":\"50\"}\n",
    "headers = {\n",
    "\t\"X-RapidAPI-Key\": API_key,\n",
    "\t\"X-RapidAPI-Host\": \"moviesdatabase.p.rapidapi.com\"\n",
    "}\n",
    "\n",
    "#response = requests.get(url, headers=headers, params=querystring)\n",
    "response = requests.get(url, headers=headers,params=querystring )\n",
    "#print(type(response.json()))\n",
    "print(response.json())\n",
    "\n",
    "#next = response.json()['next']\n",
    "page = int(response.json()['page'])\n",
    "\n",
    "#while 'next' in response.json():\n",
    "while page <50:\n",
    "    page = int(response.json()['page']) + 1\n",
    "    \n",
    "    querystring = {\"startYear\":\"2010\",\"endYear\":\"2024\",\"limit\":\"50\",\"page\":page}\n",
    "    \n",
    "    #querystring = {\"genre\":\"Drama\",\"titleType\":\"movie\",\"year\":\"2010\",\"limit\":\"50\",\"page\":page}\n",
    "    print(querystring)\n",
    "    #url_next = f\"https://moviesdatabase.p.rapidapi.com{(next)}/\"\n",
    "    #print(url_next)\n",
    "    response = requests.get(url, headers=headers,params=querystring)\n",
    "    #print(type(response.json()))\n",
    "    print(response.json())\n",
    "    len(response.json())\n",
    "    # Películas que pertenezcan a los siguientes géneros: Drama, Comedy, Action.\n",
    "\n",
    "    #querystring = {\"genre\":\"Drama\",\"titleType\":\"movie\",\"year\":\"2010\",\"limit\":\"50\",\"page\":page}\n"
   ]
  },
  {
   "cell_type": "code",
   "execution_count": null,
   "metadata": {},
   "outputs": [],
   "source": [
    "len(response.json())\n",
    "\n",
    "response.json().keys()\n",
    "\n",
    "response.json()['results']\n"
   ]
  },
  {
   "cell_type": "code",
   "execution_count": null,
   "metadata": {},
   "outputs": [],
   "source": [
    "next = response.json()['next']\n",
    "\n",
    "while len(next)!=0:\n",
    "    \n",
    "    url_next = f\"https://moviesdatabase.p.rapidapi.com{(next)}/\"\n",
    "    print(url_next)\n",
    "    response = requests.get(url_next, headers=headers)\n",
    "    print(type(response.json()))\n",
    "    print(response.json())"
   ]
  },
  {
   "cell_type": "code",
   "execution_count": 21,
   "metadata": {},
   "outputs": [
    {
     "name": "stdout",
     "output_type": "stream",
     "text": [
      "{'results': {'_id': '61e58b8aa66e59642343ac3f', 'id': 'tt10061702', 'primaryImage': {'id': 'rm13190401', 'width': 2048, 'height': 2732, 'url': 'https://m.media-amazon.com/images/M/MV5BMjljOTM5YzEtYjQ1Yy00NjQzLWE4YjgtZGQwMDFkNGRiZjRmXkEyXkFqcGdeQXVyMTkzMTgzMTU@._V1_.jpg', 'caption': {'plainText': \"We're Alive: Scout's Honor (2024)\", '__typename': 'Markdown'}, '__typename': 'Image'}, 'titleType': {'displayableProperty': {'value': {'plainText': 'TV Mini Series', '__typename': 'Markdown'}, '__typename': 'DisplayableTitleTypeProperty'}, 'text': 'TV Mini Series', 'id': 'tvMiniSeries', 'isSeries': True, 'isEpisode': False, 'categories': [{'value': 'tv', '__typename': 'TitleTypeCategory'}], 'canHaveEpisodes': True, '__typename': 'TitleType'}, 'titleText': {'text': \"We're Alive: Scout's Honor\", '__typename': 'TitleText'}, 'originalTitleText': {'text': \"We're Alive: Scout's Honor\", '__typename': 'TitleText'}, 'releaseYear': {'year': 2024, 'endYear': None, '__typename': 'YearRange'}, 'releaseDate': {'day': 19, 'month': 3, 'year': 2024, '__typename': 'ReleaseDate'}}}\n"
     ]
    }
   ],
   "source": [
    "url = \"https://moviesdatabase.p.rapidapi.com/titles/tt10061702\"\n",
    "\n",
    "headers = {\n",
    "\t\"X-RapidAPI-Key\": \"039163dca0msh7ecfddf47a57b42p193f39jsn80c27500a5c2\",\n",
    "\t\"X-RapidAPI-Host\": \"moviesdatabase.p.rapidapi.com\"\n",
    "}\n",
    "\n",
    "response = requests.get(url, headers=headers)\n",
    "\n",
    "print(response.json())"
   ]
  },
  {
   "cell_type": "code",
   "execution_count": null,
   "metadata": {},
   "outputs": [],
   "source": [
    "# Prueba con los primeros 50 resultados de Drama de 2010 \n",
    "\n",
    "API_key = '039163dca0msh7ecfddf47a57b42p193f39jsn80c27500a5c2'\n",
    "\n",
    "url = \"https://moviesdatabase.p.rapidapi.com/titles\"\n",
    "\n",
    "querystring = {\"genre\":\"Drama\",\"year\":\"2010\",\"limit\":\"50\"} # limite 50 #50 primeros drama 2010\n",
    "\n",
    "headers = {\n",
    "\t\"X-RapidAPI-Key\": API_key,\n",
    "\t\"X-RapidAPI-Host\": \"moviesdatabase.p.rapidapi.com\"\n",
    "}\n",
    "\n",
    "response = requests.get(url, headers=headers, params=querystring)\n",
    "\n",
    "next = response.json()['next']\n",
    "\n",
    "response_json = response.json()\n",
    "response_json.keys()\n",
    "\n",
    "lista_cincuenta_pelicula_drama = []\n",
    "\n",
    "for result in response_json['results']:\n",
    "    print(result['id'])\n",
    "    print(result['titleType']['id'])\n",
    "    print(result['titleText']['text'])\n",
    "    print(result)\n"
   ]
  },
  {
   "cell_type": "markdown",
   "metadata": {},
   "source": [
    "# Fase 3: Extracción de Detalles de Actores con Selenium - Parte final\n",
    "\n",
    "Extraer información detallada de los 10 principales actores de cada una de las películas extraidas en la fase 1 utilizando Selenium (desde la página e IMDB). Debereis solo tener en cuenta los 10 primeros actores de cada película o corto (en caso de que los haya)La información que deberás extraer es:\n",
    "\n",
    "Nombre.\n",
    "\n",
    "Año nacimiento.\n",
    "\n",
    "¿Por qué es conocido?\n",
    "\n",
    "¿Qué hace?\n",
    "\n",
    "Premios.\n",
    "\n",
    "NOTA: La información de la API deberá ser almacenada en una lista de tuplas. Cada tupla corresponderá a una película. \n",
    "\n"
   ]
  },
  {
   "cell_type": "code",
   "execution_count": null,
   "metadata": {},
   "outputs": [],
   "source": []
  }
 ],
 "metadata": {
  "kernelspec": {
   "display_name": "Python 3 (ipykernel)",
   "language": "python",
   "name": "python3"
  },
  "language_info": {
   "codemirror_mode": {
    "name": "ipython",
    "version": 3
   },
   "file_extension": ".py",
   "mimetype": "text/x-python",
   "name": "python",
   "nbconvert_exporter": "python",
   "pygments_lexer": "ipython3",
   "version": "3.9.7"
  },
  "toc": {
   "base_numbering": 1,
   "nav_menu": {},
   "number_sections": true,
   "sideBar": true,
   "skip_h1_title": false,
   "title_cell": "Table of Contents",
   "title_sidebar": "Contents",
   "toc_cell": true,
   "toc_position": {},
   "toc_section_display": true,
   "toc_window_display": true
  },
  "vscode": {
   "interpreter": {
    "hash": "f7912e45f56376859e46a323936f3af5ef395502effe5c6049b04a4785be6cad"
   }
  }
 },
 "nbformat": 4,
 "nbformat_minor": 2
}
