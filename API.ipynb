{
 "cells": [
  {
   "cell_type": "markdown",
   "metadata": {},
   "source": [
    "API: https://rapidapi.com/SAdrian/api/moviesdatabase"
   ]
  },
  {
   "cell_type": "code",
   "execution_count": 26,
   "metadata": {},
   "outputs": [],
   "source": [
    "#Importamos las librerias necesarias\n",
    "from bs4 import BeautifulSoup\n",
    "import pandas as pd\n",
    "import requests\n",
    "import re\n",
    "from time import sleep\n",
    "\n",
    "#importamos librerias de selenium\n",
    "from selenium import webdriver\n",
    "from webdriver_manager.chrome import ChromeDriverManager\n",
    "from selenium.webdriver.common.keys import Keys\n",
    "from selenium.webdriver.support.ui import Select\n",
    "\n",
    "# Importar librerías para pausar la ejecución\n",
    "# -----------------------------------------------------------------------\n",
    "from time import sleep  # Sleep se utiliza para pausar la ejecución del programa por un número de segundos.\n",
    "\n",
    "# Configuraciones\n",
    "# -----------------------------------------------------------------------\n",
    "pd.set_option('display.max_columns', None)  # Establece una opción de Pandas para mostrar todas las columnas de un DataFrame."
   ]
  },
  {
   "cell_type": "code",
   "execution_count": 27,
   "metadata": {},
   "outputs": [],
   "source": [
    "#creamos el diccionario donde alamcenaremos la información\n",
    "dic_API_Pelis = {'Tipo':[],\n",
    "                 'Nombre':[],\n",
    "                 'Año_estreno':[],\n",
    "                 'Mes_estreno': [],\n",
    "                 'Id':[],\n",
    "                 'Genero':[]}\n",
    "\n",
    "# creamos una lista para almacenar las respuestas de la funcion de llamada a la API\n",
    "lista_respuestas = []\n",
    "lista_info_respuestas = []\n",
    "\n",
    "\n",
    "#creamos las variables relacionadas con el ENDPOINT\n",
    "url = \"https://moviesdatabase.p.rapidapi.com/titles\"\n",
    "\n",
    "# API_key Nuria = '58296df2a9mshb28a81ec4003c84p15333ejsn11ad25c7c1b8'\n",
    "# API_key Sharon = '2d7083a699mshd0e8039e2063bedp140338jsn9b141653fce1'\n",
    "# API_key3 Silvia = '039163dca0msh7ecfddf47a57b42p193f39jsn80c27500a5c2'\n",
    "\n",
    "# headers = {\"X-RapidAPI-Key\": API_key,\"X-RapidAPI-Host\": \"moviesdatabase.p.rapidapi.com\"}\n",
    "\n",
    "titleType_list = ['movie', 'short']\n",
    "genere_list = ['Action']\n",
    "               #'Drama', 'Comedy']\n",
    "\n",
    "              # \"year\":\"2010\"\n",
    "\n",
    "# querystring = {\"titleType\":\"short\",\"startYear\":\"2010\",\"endYear\":\"2024\",\"genre\":\"Drama\"}"
   ]
  },
  {
   "cell_type": "code",
   "execution_count": 28,
   "metadata": {},
   "outputs": [],
   "source": [
    "# Definimos una fucnción para extraer información de la API y almacenarla en un diccionario\n",
    "\n",
    "def llamar_API (url,type, genere, **dict):\n",
    "    '''\n",
    "    Esta función realiza una llamada a una API a partir de una url y guarda la información en un diccionario.\n",
    "\n",
    "    Parametros:\n",
    "    -----------\n",
    "    url (str): la dirección url de la API a la que queremos hacer la llamada\n",
    "    type (str): El tipo de pelícua que queremos buscar. \n",
    "    genere (dtr): El género que ueremos buscar. \n",
    "    dict (dict): el diccionario dónde se almacenará la información\n",
    "\n",
    "    Returns:\n",
    "    -------\n",
    "    dict (dict): el diccionario donde se almacenará la información\n",
    "    '''\n",
    "    #definimos la querystring y la API key\n",
    "    querystring = {\"titleType\":type,\"year\":\"2010\",\"genre\":genere}\n",
    "\n",
    "    # API_key = '2d7083a699mshd0e8039e2063bedp140338jsn9b141653fce1'\n",
    "    # API_key Nuria = '58296df2a9mshb28a81ec4003c84p15333ejsn11ad25c7c1b8'\n",
    "    # API_key = '2d7083a699mshd0e8039e2063bedp140338jsn9b141653fce1'\n",
    "    API_key = '039163dca0msh7ecfddf47a57b42p193f39jsn80c27500a5c2'\n",
    "    headers = {\"X-RapidAPI-Key\": API_key,\"X-RapidAPI-Host\": \"moviesdatabase.p.rapidapi.com\"}    \n",
    "\n",
    "    #iniciamos el loop while para navegar por las distintas páginas\n",
    "    while url.startswith('https'):\n",
    "\n",
    "        #realizmos la llamada y almacenamos los códigos de respuesta en la lista de respuestas\n",
    "        response_pelis = requests.get(url, headers=headers, params=querystring)\n",
    "        lista_respuestas.append(response_pelis.status_code)\n",
    "        lista_info_respuestas.append(response_pelis.reason)\n",
    "\n",
    "        if response_pelis.status_code == 200:\n",
    "\n",
    "            #convertimos los resulatos a formato json\n",
    "            js_response_pelis = response_pelis.json()\n",
    "\n",
    "            #guardamos la inforación de la API dónde tenemos la dirección de la siguiente página\n",
    "            next = js_response_pelis['next']\n",
    "\n",
    "            #guardamos la parte donde tenemos la infomación en una variable\n",
    "            info_pelis = js_response_pelis['results']\n",
    "\n",
    "            #guardamos toda la información en el diccionario con un for loop    \n",
    "            for peli in info_pelis:\n",
    "\n",
    "                dict['Genero'].append(genere)\n",
    "                dict['Tipo'].append(peli['titleType']['text'])\n",
    "                dict['Nombre'].append(peli['titleText']['text'])\n",
    "                dict['Id'].append(peli['id'])\n",
    "                dict['Año_estreno'].append(peli['releaseYear']['year'])\n",
    "\n",
    "                #Hacemos un try/expect para las películas que no se han estrenado todavía            \n",
    "                try:\n",
    "                    dict['Mes_estreno'].append(peli['releaseDate']['month'])\n",
    "                except:            \n",
    "                    dict['Mes_estreno'].append('por estrenar')\n",
    "\n",
    "            #iniciamos el loop try-except para que cree la variable de la nueva url mientras tengamos una url en ´next´\n",
    "            try:\n",
    "                #definimos la base de la nueva url\n",
    "                url_fixed = \"https://moviesdatabase.p.rapidapi.com\"\n",
    "                #definimos la nueva url\n",
    "                url=url_fixed+next\n",
    "                #definimos el nuevo querystring\n",
    "                querystring = {}\n",
    "\n",
    "            except:\n",
    "                break\n",
    "\n",
    "        else:\n",
    "            print(f'Error {response_pelis.status_code} en la llamada a la API')\n",
    "            break\n",
    "\n",
    "\n",
    "    #mostramos los resultados\n",
    "    print(f'Fin: Se han añadido l@s {type}s del género {genere} a tu diccionario.')"
   ]
  },
  {
   "cell_type": "code",
   "execution_count": 29,
   "metadata": {},
   "outputs": [
    {
     "name": "stdout",
     "output_type": "stream",
     "text": [
      "Fin: Se han añadido l@s movies del género Action a tu diccionario.\n",
      "Fin: Se han añadido l@s shorts del género Action a tu diccionario.\n"
     ]
    }
   ],
   "source": [
    "# Iniciamos el loop for para conseguir información de todos los tipos y géneros\n",
    "for type in titleType_list:\n",
    "    for genere in genere_list:\n",
    "        #iniciamos la funcion que llama a la API\n",
    "        llamar_API(url,type,genere, **dic_API_Pelis)"
   ]
  },
  {
   "cell_type": "code",
   "execution_count": 32,
   "metadata": {},
   "outputs": [
    {
     "data": {
      "text/html": [
       "<div>\n",
       "<style scoped>\n",
       "    .dataframe tbody tr th:only-of-type {\n",
       "        vertical-align: middle;\n",
       "    }\n",
       "\n",
       "    .dataframe tbody tr th {\n",
       "        vertical-align: top;\n",
       "    }\n",
       "\n",
       "    .dataframe thead th {\n",
       "        text-align: right;\n",
       "    }\n",
       "</style>\n",
       "<table border=\"1\" class=\"dataframe\">\n",
       "  <thead>\n",
       "    <tr style=\"text-align: right;\">\n",
       "      <th></th>\n",
       "      <th>Tipo</th>\n",
       "      <th>Nombre</th>\n",
       "      <th>Año_estreno</th>\n",
       "      <th>Mes_estreno</th>\n",
       "      <th>Id</th>\n",
       "      <th>Genero</th>\n",
       "    </tr>\n",
       "  </thead>\n",
       "  <tbody>\n",
       "    <tr>\n",
       "      <th>0</th>\n",
       "      <td>Movie</td>\n",
       "      <td>Tekken</td>\n",
       "      <td>2010</td>\n",
       "      <td>3</td>\n",
       "      <td>tt0411951</td>\n",
       "      <td>Action</td>\n",
       "    </tr>\n",
       "    <tr>\n",
       "      <th>1</th>\n",
       "      <td>Movie</td>\n",
       "      <td>Venus &amp; Vegas</td>\n",
       "      <td>2010</td>\n",
       "      <td>11</td>\n",
       "      <td>tt0423474</td>\n",
       "      <td>Action</td>\n",
       "    </tr>\n",
       "    <tr>\n",
       "      <th>2</th>\n",
       "      <td>Movie</td>\n",
       "      <td>The A-Team</td>\n",
       "      <td>2010</td>\n",
       "      <td>6</td>\n",
       "      <td>tt0429493</td>\n",
       "      <td>Action</td>\n",
       "    </tr>\n",
       "    <tr>\n",
       "      <th>3</th>\n",
       "      <td>Movie</td>\n",
       "      <td>Segurança Nacional</td>\n",
       "      <td>2010</td>\n",
       "      <td>5</td>\n",
       "      <td>tt0439801</td>\n",
       "      <td>Action</td>\n",
       "    </tr>\n",
       "    <tr>\n",
       "      <th>4</th>\n",
       "      <td>Movie</td>\n",
       "      <td>Scott Pilgrim vs. the World</td>\n",
       "      <td>2010</td>\n",
       "      <td>11</td>\n",
       "      <td>tt0446029</td>\n",
       "      <td>Action</td>\n",
       "    </tr>\n",
       "  </tbody>\n",
       "</table>\n",
       "</div>"
      ],
      "text/plain": [
       "    Tipo                       Nombre  Año_estreno Mes_estreno         Id  \\\n",
       "0  Movie                       Tekken         2010           3  tt0411951   \n",
       "1  Movie                Venus & Vegas         2010          11  tt0423474   \n",
       "2  Movie                   The A-Team         2010           6  tt0429493   \n",
       "3  Movie           Segurança Nacional         2010           5  tt0439801   \n",
       "4  Movie  Scott Pilgrim vs. the World         2010          11  tt0446029   \n",
       "\n",
       "   Genero  \n",
       "0  Action  \n",
       "1  Action  \n",
       "2  Action  \n",
       "3  Action  \n",
       "4  Action  "
      ]
     },
     "execution_count": 32,
     "metadata": {},
     "output_type": "execute_result"
    }
   ],
   "source": [
    "df = pd.DataFrame(dic_API_Pelis)\n",
    "df.head()\n"
   ]
  },
  {
   "cell_type": "code",
   "execution_count": 31,
   "metadata": {},
   "outputs": [
    {
     "data": {
      "text/plain": [
       "array([2010])"
      ]
     },
     "execution_count": 31,
     "metadata": {},
     "output_type": "execute_result"
    }
   ],
   "source": [
    "df['Año_estreno'].unique()"
   ]
  },
  {
   "cell_type": "code",
   "execution_count": 40,
   "metadata": {},
   "outputs": [
    {
     "data": {
      "text/plain": [
       "2012"
      ]
     },
     "execution_count": 40,
     "metadata": {},
     "output_type": "execute_result"
    }
   ],
   "source": [
    "years = range(2010,2025)\n",
    "year = years[2]\n",
    "year"
   ]
  }
 ],
 "metadata": {
  "kernelspec": {
   "display_name": "base",
   "language": "python",
   "name": "python3"
  },
  "language_info": {
   "codemirror_mode": {
    "name": "ipython",
    "version": 3
   },
   "file_extension": ".py",
   "mimetype": "text/x-python",
   "name": "python",
   "nbconvert_exporter": "python",
   "pygments_lexer": "ipython3",
   "version": "3.9.7"
  }
 },
 "nbformat": 4,
 "nbformat_minor": 2
}
