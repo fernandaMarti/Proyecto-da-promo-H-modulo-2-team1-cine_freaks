{
 "cells": [
  {
   "cell_type": "markdown",
   "metadata": {},
   "source": [
    "## Fase 3: Extracción de Detalles de Actores con Selenium\n",
    "\n",
    "El siguiente paso es extraer información detallada de los 10 principales actores de cada una de las películas extraidas en la fase 1 utilizando Selenium (desde la página e IMDB). Debereis solo tener en cuenta los 10 primeros actores de cada película o corto (en caso de que los haya)La información que deberás extraer es:\n",
    "\n",
    "    Nombre.\n",
    "\n",
    "    Año nacimiento.\n",
    "\n",
    "    ¿Por qué es conocido?\n",
    "\n",
    "    ¿Qué hace?\n",
    "\n",
    "    Premios.\n",
    "\n",
    "NOTA: La información de la API deberá ser almacenada en una lista de tuplas. Cada tupla corresponderá a una película. Siguiendo el siguiente ejemplo:\n",
    "\n",
    "\n",
    "    [(\"Adam Sadler\", 1966, [\"El aguador\", \"Little Nicky\", \"Un papá genial\", \"El chico ideal\" ], [\"Reparto\", \"Producción\", \"Guion\"] , [\"American Comedy Awards, USA\", \"Annie Awards\"],   ),  \n",
    "    ...]"
   ]
  },
  {
   "cell_type": "markdown",
   "metadata": {},
   "source": [
    "(\n",
    "    \"Nombre del actor\",     # Nombre del actor (cadena de texto)\n",
    "    Año de nacimiento,      # Año de nacimiento del actor (entero)\n",
    "    [\"Película 1\", \"Película 2\", ...],  # Lista de películas destacadas del actor (lista de cadenas de texto)\n",
    "    [\"Rol 1\", \"Rol 2\", ...],  # Lista de roles del actor (lista de cadenas de texto)\n",
    "    [\"Premio 1\", \"Premio 2\", ...],  # Lista de premios importantes del actor (lista de cadenas de texto)\n",
    ")"
   ]
  },
  {
   "cell_type": "markdown",
   "metadata": {},
   "source": [
    "actores = [\n",
    "    (\"Adam Sandler\", 1966, [\"The Waterboy\", \"Little Nicky\", \"Big Daddy\", \"The Wedding Singer\"], [\"Actor\", \"Producer\", \"Writer\"], [\"MTV Movie Awards\", \"People's Choice Awards\"]),\n",
    "    (\"Leonardo DiCaprio\", 1974, [\"Titanic\", \"Inception\", \"The Revenant\", \"The Wolf of Wall Street\"], [\"Actor\", \"Producer\"], [\"Academy Awards\", \"Golden Globe Awards\"]),\n",
    "    (\"Meryl Streep\", 1949, [\"The Devil Wears Prada\", \"Sophie's Choice\", \"The Iron Lady\", \"Doubt\"], [\"Actress\"], [\"Academy Awards\", \"BAFTA Awards\"]),\n",
    "    (\"Tom Hanks\", 1956, [\"Forrest Gump\", \"Cast Away\", \"Saving Private Ryan\", \"Philadelphia\"], [\"Actor\", \"Producer\"], [\"Academy Awards\", \"Golden Globe Awards\"]),\n",
    "    (\"Jennifer Lawrence\", 1990, [\"The Hunger Games\", \"Silver Linings Playbook\", \"Joy\", \"Winter's Bone\"], [\"Actress\"], [\"Academy Awards\", \"Golden Globe Awards\"]),\n",
    "    (\"Brad Pitt\", 1963, [\"Fight Club\", \"Inglourious Basterds\", \"The Curious Case of Benjamin Button\", \"Once Upon a Time in Hollywood\"], [\"Actor\", \"Producer\"], [\"Academy Awards\", \"Golden Globe Awards\"]),\n",
    "    (\"Emma Stone\", 1988, [\"La La Land\", \"The Help\", \"Birdman\", \"Easy A\"], [\"Actress\"], [\"Academy Awards\", \"BAFTA Awards\"]),\n",
    "    (\"Robert Downey Jr.\", 1965, [\"Iron Man\", \"Sherlock Holmes\", \"Chaplin\", \"Tropic Thunder\"], [\"Actor\", \"Producer\"], [\"Golden Globe Awards\", \"BAFTA Awards\"]),\n",
    "    (\"Denzel Washington\", 1954, [\"Training Day\", \"Malcolm X\", \"Fences\", \"Flight\"], [\"Actor\", \"Director\", \"Producer\"], [\"Academy Awards\", \"Golden Globe Awards\"]),\n",
    "    (\"Scarlett Johansson\", 1984, [\"Lost in Translation\", \"Marriage Story\", \"Avengers: Endgame\", \"Her\"], [\"Actress\"], [\"BAFTA Awards\", \"Tony Awards\"])\n",
    "]"
   ]
  },
  {
   "cell_type": "code",
   "execution_count": 16,
   "metadata": {},
   "outputs": [],
   "source": [
    "from bs4 import BeautifulSoup\n",
    "import requests\n",
    "\n",
    "from selenium import webdriver  # Selenium es una herramienta para automatizar la interacción con navegadores web.\n",
    "from webdriver_manager.chrome import ChromeDriverManager  # ChromeDriverManager gestiona la instalación del controlador de Chrome.\n",
    "from selenium.webdriver.common.keys import Keys  # Keys es útil para simular eventos de teclado en Selenium.\n",
    "from selenium.webdriver.support.ui import Select  # Select se utiliza para interactuar con elementos <select> en páginas web.\n",
    "from selenium.webdriver.common.by import By\n",
    "from selenium.webdriver.support.ui import WebDriverWait\n",
    "from selenium.webdriver.support import expected_conditions as EC\n",
    "import pandas as pd\n",
    "\n",
    "from time import sleep\n",
    "\n",
    "pd.set_option('display.max_columns', None)  # Establece una opción de Pandas para mostrar todas las columnas de un DataFrame."
   ]
  },
  {
   "cell_type": "code",
   "execution_count": 36,
   "metadata": {},
   "outputs": [],
   "source": [
    "lista_actores = [\"Adam Sandler\"]\n",
    "\n",
    "''', \"Leonardo DiCaprio\", \"Meryl Streep\",\n",
    "        \"Tom Hanks\",\"Jennifer Lawrence\",\"Brad Pitt\", \"Emma Stone\",\n",
    "        \"Robert Downey Jr.\",\"Denzel Washington\",\"Scarlett Johansson\"]'''\n",
    "\n",
    "\n",
    "# Crear un diccionario llamado \"resultados_actores\" para almacenar la información de cada unos de los actores\n",
    "resultados_actores = {\n",
    "    \"nombre_actor\": [],\n",
    "    \"anno_nacimiento\": [],\n",
    "    \"fecha\": [],\n",
    "    \"peliculas\":[],\n",
    "    \"que_hace\":[],\n",
    "    \"premios\":[]\n",
    "}\n",
    "url_actores=(f\"https://www.imdb.com/\")\n",
    "\n",
    "# Inicializa el navegador Chrome\n",
    "driver = webdriver.Chrome()\n",
    "\n",
    "# Navega a la página web \"https://www.imdb.com/\"\n",
    "driver.get(url_actores)\n",
    "\n",
    "driver.maximize_window()\n",
    "\n",
    "sleep(5)\n",
    "\n",
    "# Aceptar las cookies en la página web\n",
    "driver.find_element(\"css selector\", \"#__next > div > div > div.sc-jrcTuL.bPmWiM > div > button.icb-btn.sc-bcXHqe.sc-dkrFOg.sc-iBYQkv.dcvrLS.ddtuHe.dRCGjd\").click()\n",
    "\n",
    "sleep(5)\n",
    "\n",
    "#driver.close()\n",
    "lista_url = []\n",
    "\n",
    "#Vamos a recorrer la lista\n",
    "for actor in lista_actores:\n",
    "    # Ingresar la el actor de la lista de actores y coger los datos en el campo de búsqueda y presionar Enter\n",
    "    driver.find_element(\"css selector\", \"#suggestion-search\").send_keys(actor, Keys.ENTER)\n",
    "    \n",
    "    sleep(5)\n",
    "    \n",
    "    #driver.execute_script(\"window.scrollTo(0,200)\")\n",
    "    \n",
    "    #pinchamos en el resultado de la busqueda que nos lleva al a info del actor\n",
    "    \n",
    "    driver.find_element(\"css selector\", \"#__next > main > div.ipc-page-content-container.ipc-page-content-container--full.sc-dec63aac-0.uHlFE > div.ipc-page-content-container.ipc-page-content-container--center > section > div > div.ipc-page-grid__item.ipc-page-grid__item--span-2 > section:nth-child(3) > div.sc-17bafbdb-2.iUyFfD > ul > li:nth-child(1) > div.ipc-metadata-list-summary-item__c > div > a\").click()\n",
    "    \n",
    "    #vamos a buscar porque es conocido el actor.\n",
    "    \n",
    "    for i in range[1,4]:\n",
    "        lista_url.append(driver.find_element(\"xpath\", f'//*[@id=\"js-product-list\"]/div/article[{i}]/div/div[1]/h3/a').get_attribute(\"href\"))\n",
    "  \n"
   ]
  },
  {
   "cell_type": "code",
   "execution_count": 9,
   "metadata": {},
   "outputs": [],
   "source": [
    "# Crear un diccionario llamado \"resultados_actores\" para almacenar la información de cada unos de los actores\n",
    "resultados_actores = {\n",
    "    \"nombre_actor\": [],\n",
    "    \"anno_nacimiento\": [],\n",
    "    \"fecha\": [],\n",
    "    \"peliculas\":[],\n",
    "    \"que_hace\":[],\n",
    "    \"premios\":[]\n",
    "}\n",
    "\n"
   ]
  },
  {
   "cell_type": "code",
   "execution_count": null,
   "metadata": {},
   "outputs": [],
   "source": [
    "#Vamos a recorrer la lista\n",
    "for actor in lista_actores:\n",
    "    # Ingresar la el actor de la lista de actores y coger los datos en el campo de búsqueda y presionar Enter\n",
    "    driver.find_element(\"css selector\", \"#suggestion-search\").send_keys(actor, Keys.ENTER)\n",
    "\n",
    "sleep(5)"
   ]
  }
 ],
 "metadata": {
  "kernelspec": {
   "display_name": "Python 3",
   "language": "python",
   "name": "python3"
  },
  "language_info": {
   "codemirror_mode": {
    "name": "ipython",
    "version": 3
   },
   "file_extension": ".py",
   "mimetype": "text/x-python",
   "name": "python",
   "nbconvert_exporter": "python",
   "pygments_lexer": "ipython3",
   "version": "3.11.9"
  }
 },
 "nbformat": 4,
 "nbformat_minor": 2
}
