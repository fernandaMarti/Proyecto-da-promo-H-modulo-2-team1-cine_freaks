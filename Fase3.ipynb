{
 "cells": [
  {
   "cell_type": "markdown",
   "metadata": {},
   "source": [
    "## Fase 3: Extracción de Detalles de Actores con Selenium\n",
    "\n",
    "El siguiente paso es extraer información detallada de los 10 principales actores de cada una de las películas extraidas en la fase 1 utilizando Selenium (desde la página e IMDB). Debereis solo tener en cuenta los 10 primeros actores de cada película o corto (en caso de que los haya)La información que deberás extraer es:\n",
    "\n",
    "    Nombre.\n",
    "\n",
    "    Año nacimiento.\n",
    "\n",
    "    ¿Por qué es conocido?\n",
    "\n",
    "    ¿Qué hace?\n",
    "\n",
    "    Premios.\n",
    "\n",
    "NOTA: La información de la API deberá ser almacenada en una lista de tuplas. Cada tupla corresponderá a una película. Siguiendo el siguiente ejemplo:\n",
    "\n",
    "\n",
    "    [(\"Adam Sadler\", 1966, [\"El aguador\", \"Little Nicky\", \"Un papá genial\", \"El chico ideal\" ], [\"Reparto\", \"Producción\", \"Guion\"] , [\"American Comedy Awards, USA\", \"Annie Awards\"],   ),  \n",
    "    ...]"
   ]
  },
  {
   "cell_type": "markdown",
   "metadata": {},
   "source": [
    "(\n",
    "    \"Nombre del actor\",     # Nombre del actor (cadena de texto)\n",
    "    Año de nacimiento,      # Año de nacimiento del actor (entero)\n",
    "    [\"Película 1\", \"Película 2\", ...],  # Lista de películas destacadas del actor (lista de cadenas de texto)\n",
    "    [\"Rol 1\", \"Rol 2\", ...],  # Lista de roles del actor (lista de cadenas de texto)\n",
    "    [\"Premio 1\", \"Premio 2\", ...],  # Lista de premios importantes del actor (lista de cadenas de texto)\n",
    ")"
   ]
  },
  {
   "cell_type": "markdown",
   "metadata": {},
   "source": [
    "actores = [\n",
    "    (\"Adam Sandler\", 1966, [\"The Waterboy\", \"Little Nicky\", \"Big Daddy\", \"The Wedding Singer\"], [\"Actor\", \"Producer\", \"Writer\"], [\"MTV Movie Awards\", \"People's Choice Awards\"]),\n",
    "    (\"Leonardo DiCaprio\", 1974, [\"Titanic\", \"Inception\", \"The Revenant\", \"The Wolf of Wall Street\"], [\"Actor\", \"Producer\"], [\"Academy Awards\", \"Golden Globe Awards\"]),\n",
    "    (\"Meryl Streep\", 1949, [\"The Devil Wears Prada\", \"Sophie's Choice\", \"The Iron Lady\", \"Doubt\"], [\"Actress\"], [\"Academy Awards\", \"BAFTA Awards\"]),\n",
    "    (\"Tom Hanks\", 1956, [\"Forrest Gump\", \"Cast Away\", \"Saving Private Ryan\", \"Philadelphia\"], [\"Actor\", \"Producer\"], [\"Academy Awards\", \"Golden Globe Awards\"]),\n",
    "    (\"Jennifer Lawrence\", 1990, [\"The Hunger Games\", \"Silver Linings Playbook\", \"Joy\", \"Winter's Bone\"], [\"Actress\"], [\"Academy Awards\", \"Golden Globe Awards\"]),\n",
    "    (\"Brad Pitt\", 1963, [\"Fight Club\", \"Inglourious Basterds\", \"The Curious Case of Benjamin Button\", \"Once Upon a Time in Hollywood\"], [\"Actor\", \"Producer\"], [\"Academy Awards\", \"Golden Globe Awards\"]),\n",
    "    (\"Emma Stone\", 1988, [\"La La Land\", \"The Help\", \"Birdman\", \"Easy A\"], [\"Actress\"], [\"Academy Awards\", \"BAFTA Awards\"]),\n",
    "    (\"Robert Downey Jr.\", 1965, [\"Iron Man\", \"Sherlock Holmes\", \"Chaplin\", \"Tropic Thunder\"], [\"Actor\", \"Producer\"], [\"Golden Globe Awards\", \"BAFTA Awards\"]),\n",
    "    (\"Denzel Washington\", 1954, [\"Training Day\", \"Malcolm X\", \"Fences\", \"Flight\"], [\"Actor\", \"Director\", \"Producer\"], [\"Academy Awards\", \"Golden Globe Awards\"]),\n",
    "    (\"Scarlett Johansson\", 1984, [\"Lost in Translation\", \"Marriage Story\", \"Avengers: Endgame\", \"Her\"], [\"Actress\"], [\"BAFTA Awards\", \"Tony Awards\"])\n",
    "]"
   ]
  },
  {
   "cell_type": "code",
   "execution_count": 1,
   "metadata": {},
   "outputs": [],
   "source": [
    "from bs4 import BeautifulSoup\n",
    "import requests\n",
    "\n",
    "from selenium import webdriver  # Selenium es una herramienta para automatizar la interacción con navegadores web.\n",
    "from webdriver_manager.chrome import ChromeDriverManager  # ChromeDriverManager gestiona la instalación del controlador de Chrome.\n",
    "from selenium.webdriver.common.keys import Keys  # Keys es útil para simular eventos de teclado en Selenium.\n",
    "from selenium.webdriver.support.ui import Select  # Select se utiliza para interactuar con elementos <select> en páginas web.\n",
    "from selenium.webdriver.common.by import By\n",
    "from selenium.webdriver.support.ui import WebDriverWait\n",
    "from selenium.webdriver.support import expected_conditions as EC\n",
    "import pandas as pd\n",
    "\n",
    "from time import sleep\n",
    "\n",
    "pd.set_option('display.max_columns', None)  # Establece una opción de Pandas para mostrar todas las columnas de un DataFrame."
   ]
  },
  {
   "cell_type": "code",
   "execution_count": 36,
   "metadata": {},
   "outputs": [
    {
     "ename": "NoSuchElementException",
     "evalue": "Message: no such element: Unable to locate element: {\"method\":\"xpath\",\"selector\":\"//*[@id=\"__next\"]/main/div/section[1]/div/section/div/div[1]/div[3]/section[1]/div[2]/div/div[2]/div[1]/div[2]/div[1]/a\"}\n  (Session info: chrome=123.0.6312.124); For documentation on this error, please visit: https://www.selenium.dev/documentation/webdriver/troubleshooting/errors#no-such-element-exception\nStacktrace:\n\tGetHandleVerifier [0x00007FF7DBEA7032+63090]\n\t(No symbol) [0x00007FF7DBE12C82]\n\t(No symbol) [0x00007FF7DBCAEC65]\n\t(No symbol) [0x00007FF7DBCF499D]\n\t(No symbol) [0x00007FF7DBCF4ADC]\n\t(No symbol) [0x00007FF7DBD35B37]\n\t(No symbol) [0x00007FF7DBD1701F]\n\t(No symbol) [0x00007FF7DBD33412]\n\t(No symbol) [0x00007FF7DBD16D83]\n\t(No symbol) [0x00007FF7DBCE83A8]\n\t(No symbol) [0x00007FF7DBCE9441]\n\tGetHandleVerifier [0x00007FF7DC2A25AD+4238317]\n\tGetHandleVerifier [0x00007FF7DC2DF70D+4488525]\n\tGetHandleVerifier [0x00007FF7DC2D79EF+4456495]\n\tGetHandleVerifier [0x00007FF7DBF80576+953270]\n\t(No symbol) [0x00007FF7DBE1E54F]\n\t(No symbol) [0x00007FF7DBE19224]\n\t(No symbol) [0x00007FF7DBE1935B]\n\t(No symbol) [0x00007FF7DBE09B94]\n\tBaseThreadInitThunk [0x00007FFF4A057344+20]\n\tRtlUserThreadStart [0x00007FFF4A6426B1+33]\n",
     "output_type": "error",
     "traceback": [
      "\u001b[1;31m---------------------------------------------------------------------------\u001b[0m",
      "\u001b[1;31mNoSuchElementException\u001b[0m                    Traceback (most recent call last)",
      "Cell \u001b[1;32mIn[36], line 62\u001b[0m\n\u001b[0;32m     60\u001b[0m sleep(\u001b[38;5;241m5\u001b[39m) \n\u001b[0;32m     61\u001b[0m \u001b[38;5;66;03m#lista_url.append(driver.find_element(\"css selector\",\"#__next > main > div > section.ipc-page-background.ipc-page-background--base.sc-304f99f6-0.fSJiHR > div > section > div > div.sc-978e9339-1.ihWZgK.ipc-page-grid__item.ipc-page-grid__item--span-2 > div.celwidget > section:nth-child(1) > div.sc-a6d4b6c0-0.bBRhdF > div > div.ipc-sub-grid.ipc-sub-grid--page-span-2.ipc-sub-grid--wraps-at-above-l.ipc-shoveler__grid > div:nth-child(1) > div.ipc-primary-image-list-card__content > div.ipc-primary-image-list-card__content-top > a\").get_attribute(\"href\"))   \u001b[39;00m\n\u001b[1;32m---> 62\u001b[0m lista_url\u001b[38;5;241m.\u001b[39mappend(\u001b[43mdriver\u001b[49m\u001b[38;5;241;43m.\u001b[39;49m\u001b[43mfind_element\u001b[49m\u001b[43m(\u001b[49m\u001b[38;5;124;43m\"\u001b[39;49m\u001b[38;5;124;43mxpath\u001b[39;49m\u001b[38;5;124;43m\"\u001b[39;49m\u001b[43m,\u001b[49m\u001b[38;5;124;43m'\u001b[39;49m\u001b[38;5;124;43m//*[@id=\u001b[39;49m\u001b[38;5;124;43m\"\u001b[39;49m\u001b[38;5;124;43m__next\u001b[39;49m\u001b[38;5;124;43m\"\u001b[39;49m\u001b[38;5;124;43m]/main/div/section[1]/div/section/div/div[1]/div[3]/section[1]/div[2]/div/div[2]/div[1]/div[2]/div[1]/a\u001b[39;49m\u001b[38;5;124;43m'\u001b[39;49m\u001b[43m)\u001b[49m\u001b[38;5;241m.\u001b[39mget_attribute(\u001b[38;5;124m\"\u001b[39m\u001b[38;5;124mhref\u001b[39m\u001b[38;5;124m\"\u001b[39m))   \n\u001b[0;32m     63\u001b[0m \u001b[38;5;28mprint\u001b[39m(lista_url)\n\u001b[0;32m     64\u001b[0m \u001b[38;5;66;03m#driver.back()\u001b[39;00m\n\u001b[0;32m     65\u001b[0m \n\u001b[0;32m     66\u001b[0m \n\u001b[1;32m   (...)\u001b[0m\n\u001b[0;32m     76\u001b[0m \u001b[38;5;66;03m#//*[@id=\"__next\"]/main/div/section[1]/div/section/div/div[1]/div[3]/section[1]/div[2]/div/div[2]/div[3]/div[2]/div[1]/a\u001b[39;00m\n\u001b[0;32m     77\u001b[0m \u001b[38;5;66;03m#//*[@id=\"__next\"]/main/div/section[1]/div/section/div/div[1]/div[3]/section[1]/div[2]/div/div[2]/div[4]/div[2]/div[1]/a\u001b[39;00m\n",
      "File \u001b[1;32m~\\AppData\\Local\\Packages\\PythonSoftwareFoundation.Python.3.11_qbz5n2kfra8p0\\LocalCache\\local-packages\\Python311\\site-packages\\selenium\\webdriver\\remote\\webdriver.py:741\u001b[0m, in \u001b[0;36mWebDriver.find_element\u001b[1;34m(self, by, value)\u001b[0m\n\u001b[0;32m    738\u001b[0m     by \u001b[38;5;241m=\u001b[39m By\u001b[38;5;241m.\u001b[39mCSS_SELECTOR\n\u001b[0;32m    739\u001b[0m     value \u001b[38;5;241m=\u001b[39m \u001b[38;5;124mf\u001b[39m\u001b[38;5;124m'\u001b[39m\u001b[38;5;124m[name=\u001b[39m\u001b[38;5;124m\"\u001b[39m\u001b[38;5;132;01m{\u001b[39;00mvalue\u001b[38;5;132;01m}\u001b[39;00m\u001b[38;5;124m\"\u001b[39m\u001b[38;5;124m]\u001b[39m\u001b[38;5;124m'\u001b[39m\n\u001b[1;32m--> 741\u001b[0m \u001b[38;5;28;01mreturn\u001b[39;00m \u001b[38;5;28;43mself\u001b[39;49m\u001b[38;5;241;43m.\u001b[39;49m\u001b[43mexecute\u001b[49m\u001b[43m(\u001b[49m\u001b[43mCommand\u001b[49m\u001b[38;5;241;43m.\u001b[39;49m\u001b[43mFIND_ELEMENT\u001b[49m\u001b[43m,\u001b[49m\u001b[43m \u001b[49m\u001b[43m{\u001b[49m\u001b[38;5;124;43m\"\u001b[39;49m\u001b[38;5;124;43musing\u001b[39;49m\u001b[38;5;124;43m\"\u001b[39;49m\u001b[43m:\u001b[49m\u001b[43m \u001b[49m\u001b[43mby\u001b[49m\u001b[43m,\u001b[49m\u001b[43m \u001b[49m\u001b[38;5;124;43m\"\u001b[39;49m\u001b[38;5;124;43mvalue\u001b[39;49m\u001b[38;5;124;43m\"\u001b[39;49m\u001b[43m:\u001b[49m\u001b[43m \u001b[49m\u001b[43mvalue\u001b[49m\u001b[43m}\u001b[49m\u001b[43m)\u001b[49m[\u001b[38;5;124m\"\u001b[39m\u001b[38;5;124mvalue\u001b[39m\u001b[38;5;124m\"\u001b[39m]\n",
      "File \u001b[1;32m~\\AppData\\Local\\Packages\\PythonSoftwareFoundation.Python.3.11_qbz5n2kfra8p0\\LocalCache\\local-packages\\Python311\\site-packages\\selenium\\webdriver\\remote\\webdriver.py:347\u001b[0m, in \u001b[0;36mWebDriver.execute\u001b[1;34m(self, driver_command, params)\u001b[0m\n\u001b[0;32m    345\u001b[0m response \u001b[38;5;241m=\u001b[39m \u001b[38;5;28mself\u001b[39m\u001b[38;5;241m.\u001b[39mcommand_executor\u001b[38;5;241m.\u001b[39mexecute(driver_command, params)\n\u001b[0;32m    346\u001b[0m \u001b[38;5;28;01mif\u001b[39;00m response:\n\u001b[1;32m--> 347\u001b[0m     \u001b[38;5;28;43mself\u001b[39;49m\u001b[38;5;241;43m.\u001b[39;49m\u001b[43merror_handler\u001b[49m\u001b[38;5;241;43m.\u001b[39;49m\u001b[43mcheck_response\u001b[49m\u001b[43m(\u001b[49m\u001b[43mresponse\u001b[49m\u001b[43m)\u001b[49m\n\u001b[0;32m    348\u001b[0m     response[\u001b[38;5;124m\"\u001b[39m\u001b[38;5;124mvalue\u001b[39m\u001b[38;5;124m\"\u001b[39m] \u001b[38;5;241m=\u001b[39m \u001b[38;5;28mself\u001b[39m\u001b[38;5;241m.\u001b[39m_unwrap_value(response\u001b[38;5;241m.\u001b[39mget(\u001b[38;5;124m\"\u001b[39m\u001b[38;5;124mvalue\u001b[39m\u001b[38;5;124m\"\u001b[39m, \u001b[38;5;28;01mNone\u001b[39;00m))\n\u001b[0;32m    349\u001b[0m     \u001b[38;5;28;01mreturn\u001b[39;00m response\n",
      "File \u001b[1;32m~\\AppData\\Local\\Packages\\PythonSoftwareFoundation.Python.3.11_qbz5n2kfra8p0\\LocalCache\\local-packages\\Python311\\site-packages\\selenium\\webdriver\\remote\\errorhandler.py:229\u001b[0m, in \u001b[0;36mErrorHandler.check_response\u001b[1;34m(self, response)\u001b[0m\n\u001b[0;32m    227\u001b[0m         alert_text \u001b[38;5;241m=\u001b[39m value[\u001b[38;5;124m\"\u001b[39m\u001b[38;5;124malert\u001b[39m\u001b[38;5;124m\"\u001b[39m]\u001b[38;5;241m.\u001b[39mget(\u001b[38;5;124m\"\u001b[39m\u001b[38;5;124mtext\u001b[39m\u001b[38;5;124m\"\u001b[39m)\n\u001b[0;32m    228\u001b[0m     \u001b[38;5;28;01mraise\u001b[39;00m exception_class(message, screen, stacktrace, alert_text)  \u001b[38;5;66;03m# type: ignore[call-arg]  # mypy is not smart enough here\u001b[39;00m\n\u001b[1;32m--> 229\u001b[0m \u001b[38;5;28;01mraise\u001b[39;00m exception_class(message, screen, stacktrace)\n",
      "\u001b[1;31mNoSuchElementException\u001b[0m: Message: no such element: Unable to locate element: {\"method\":\"xpath\",\"selector\":\"//*[@id=\"__next\"]/main/div/section[1]/div/section/div/div[1]/div[3]/section[1]/div[2]/div/div[2]/div[1]/div[2]/div[1]/a\"}\n  (Session info: chrome=123.0.6312.124); For documentation on this error, please visit: https://www.selenium.dev/documentation/webdriver/troubleshooting/errors#no-such-element-exception\nStacktrace:\n\tGetHandleVerifier [0x00007FF7DBEA7032+63090]\n\t(No symbol) [0x00007FF7DBE12C82]\n\t(No symbol) [0x00007FF7DBCAEC65]\n\t(No symbol) [0x00007FF7DBCF499D]\n\t(No symbol) [0x00007FF7DBCF4ADC]\n\t(No symbol) [0x00007FF7DBD35B37]\n\t(No symbol) [0x00007FF7DBD1701F]\n\t(No symbol) [0x00007FF7DBD33412]\n\t(No symbol) [0x00007FF7DBD16D83]\n\t(No symbol) [0x00007FF7DBCE83A8]\n\t(No symbol) [0x00007FF7DBCE9441]\n\tGetHandleVerifier [0x00007FF7DC2A25AD+4238317]\n\tGetHandleVerifier [0x00007FF7DC2DF70D+4488525]\n\tGetHandleVerifier [0x00007FF7DC2D79EF+4456495]\n\tGetHandleVerifier [0x00007FF7DBF80576+953270]\n\t(No symbol) [0x00007FF7DBE1E54F]\n\t(No symbol) [0x00007FF7DBE19224]\n\t(No symbol) [0x00007FF7DBE1935B]\n\t(No symbol) [0x00007FF7DBE09B94]\n\tBaseThreadInitThunk [0x00007FFF4A057344+20]\n\tRtlUserThreadStart [0x00007FFF4A6426B1+33]\n"
     ]
    }
   ],
   "source": [
    "lista_actores = [\"Adam Sandler\"]\n",
    "\n",
    "''', \"Leonardo DiCaprio\", \"Meryl Streep\",\n",
    "        \"Tom Hanks\",\"Jennifer Lawrence\",\"Brad Pitt\", \"Emma Stone\",\n",
    "        \"Robert Downey Jr.\",\"Denzel Washington\",\"Scarlett Johansson\"]'''\n",
    "\n",
    "\n",
    "# Crear un diccionario llamado \"resultados_actores\" para almacenar la información de cada unos de los actores\n",
    "resultados_actores = {\n",
    "    \"nombre_actor\": [],\n",
    "    \"anno_nacimiento\": [],\n",
    "    \"fecha\": [],\n",
    "    \"peliculas\":[],\n",
    "    \"que_hace\":[],\n",
    "    \"premios\":[]\n",
    "}\n",
    "url_actores=(f\"https://www.imdb.com/\")\n",
    "\n",
    "# Inicializa el navegador Chrome\n",
    "driver = webdriver.Chrome()\n",
    "\n",
    "# Navega a la página web \"https://www.imdb.com/\"\n",
    "driver.get(url_actores)\n",
    "\n",
    "driver.maximize_window()\n",
    "\n",
    "sleep(5)\n",
    "\n",
    "# Aceptar las cookies en la página web\n",
    "driver.find_element(\"css selector\", \"#__next > div > div > div.sc-jrcTuL.bPmWiM > div > button.icb-btn.sc-bcXHqe.sc-dkrFOg.sc-iBYQkv.dcvrLS.ddtuHe.dRCGjd\").click()\n",
    "\n",
    "sleep(5)\n",
    "\n",
    "#driver.close()\n",
    "lista_url = []\n",
    "\n",
    "#Vamos a recorrer la lista\n",
    "for actor in lista_actores:\n",
    "    # Ingresar la el actor de la lista de actores y coger los datos en el campo de búsqueda y presionar Enter\n",
    "    driver.find_element(\"css selector\", \"#suggestion-search\").send_keys(actor, Keys.ENTER)\n",
    "    \n",
    "    sleep(5)\n",
    "    \n",
    "    #driver.execute_script(\"window.scrollTo(0,200)\")\n",
    "    \n",
    "    #pinchamos en el resultado de la busqueda que nos lleva al a info del actor\n",
    "    \n",
    "    driver.find_element(\"css selector\", \"#__next > main > div.ipc-page-content-container.ipc-page-content-container--full.sc-dec63aac-0.uHlFE > div.ipc-page-content-container.ipc-page-content-container--center > section > div > div.ipc-page-grid__item.ipc-page-grid__item--span-2 > section:nth-child(3) > div.sc-17bafbdb-2.iUyFfD > ul > li:nth-child(1) > div.ipc-metadata-list-summary-item__c > div > a\").click()\n",
    "    \n",
    "    #vamos a buscar porque es conocido el actor.\n",
    "    \n",
    "    driver.execute_script(\"window.scrollTo(0,1600)\")\n",
    "    \n",
    "   \n",
    "    #for i in range(1,2):\n",
    "        \n",
    "    #driver.find_element(\"css selector\", \"#__next > main > div > section.ipc-page-background.ipc-page-background--base.sc-304f99f6-0.fSJiHR > div > section > div > div.sc-978e9339-1.ihWZgK.ipc-page-grid__item.ipc-page-grid__item--span-2 > div.celwidget > section:nth-child(1) > div.sc-a6d4b6c0-0.bBRhdF > div > div.ipc-sub-grid.ipc-sub-grid--page-span-2.ipc-sub-grid--wraps-at-above-l.ipc-shoveler__grid > div:nth-child(1) > div.ipc-primary-image-list-card__content > div.ipc-primary-image-list-card__content-top > a\").click()\n",
    "    #driver.find_element(\"xpath\", '/html/body/div[2]/main/div/section[1]/div/section/div/div[1]/div[3]/section[1]/div[2]/div/div[2]/div[1]/div[2]/div[1]/a').click()    \n",
    "    sleep(5) \n",
    "    #lista_url.append(driver.find_element(\"css selector\",\"#__next > main > div > section.ipc-page-background.ipc-page-background--base.sc-304f99f6-0.fSJiHR > div > section > div > div.sc-978e9339-1.ihWZgK.ipc-page-grid__item.ipc-page-grid__item--span-2 > div.celwidget > section:nth-child(1) > div.sc-a6d4b6c0-0.bBRhdF > div > div.ipc-sub-grid.ipc-sub-grid--page-span-2.ipc-sub-grid--wraps-at-above-l.ipc-shoveler__grid > div:nth-child(1) > div.ipc-primary-image-list-card__content > div.ipc-primary-image-list-card__content-top > a\").get_attribute(\"href\"))   \n",
    "    lista_url.append(driver.find_element(\"xpath\",'//*[@id=\"__next\"]/main/div/section[1]/div/section/div/div[1]/div[3]/section[1]/div[2]/div/div[2]/div[1]/div[2]/div[1]/a').get_attribute(\"href\"))   \n",
    "    print(lista_url)\n",
    "    #driver.back()\n",
    "    \n",
    "  \n",
    "    \n",
    "    \n",
    "    #__next > main > div > section.ipc-page-background.ipc-page-background--base.sc-304f99f6-0.fSJiHR > section > div:nth-child(5) > section > section > div.sc-4e4cc5f9-3.dDRspk > div.sc-b7c53eda-0.dUpRPQ > h1 > span\n",
    "    #__next > main > div > section.ipc-page-background.ipc-page-background--base.sc-304f99f6-0.fSJiHR > section > div:nth-child(5) > section > section > div.sc-4e4cc5f9-3.dDRspk > div.sc-b7c53eda-0.dUpRPQ > h1 > span    \n",
    "    #__next > main > div > section.ipc-page-background.ipc-page-background--base.sc-304f99f6-0.fSJiHR > section > div:nth-child(5) > section > section > div.sc-4e4cc5f9-3.dDRspk > div.sc-b7c53eda-0.dUpRPQ > h1 > span\n",
    "    #__next > main > div > section.ipc-page-background.ipc-page-background--base.sc-304f99f6-0.fSJiHR > section > div:nth-child(5) > section > section > div.sc-4e4cc5f9-3.dDRspk > div.sc-b7c53eda-0.dUpRPQ > h1 > span\n",
    "    \n",
    "    #//*[@id=\"__next\"]/main/div/section[1]/div/section/div/div[1]/div[3]/section[1]/div[2]/div/div[2]/div[1]/div[2]/div[1]/a'\n",
    "    #//*[@id=\"__next\"]/main/div/section[1]/div/section/div/div[1]/div[3]/section[1]/div[2]/div/div[2]/div[2]/div[2]/div[1]/a\n",
    "    #//*[@id=\"__next\"]/main/div/section[1]/div/section/div/div[1]/div[3]/section[1]/div[2]/div/div[2]/div[3]/div[2]/div[1]/a\n",
    "    #//*[@id=\"__next\"]/main/div/section[1]/div/section/div/div[1]/div[3]/section[1]/div[2]/div/div[2]/div[4]/div[2]/div[1]/a"
   ]
  },
  {
   "cell_type": "code",
   "execution_count": 3,
   "metadata": {},
   "outputs": [],
   "source": [
    "#__next > main > div > section.ipc-page-background.ipc-page-background--base.sc-304f99f6-0.fSJiHR > div > section > div > div.sc-978e9339-1.ihWZgK.ipc-page-grid__item.ipc-page-grid__item--span-2 > div.celwidget > section:nth-child(1) > div.sc-a6d4b6c0-0.bBRhdF > div > div.ipc-sub-grid.ipc-sub-grid--page-span-2.ipc-sub-grid--wraps-at-above-l.ipc-shoveler__grid > div:nth-child(1) > a\n",
    "#__next > main > div > section.ipc-page-background.ipc-page-background--base.sc-304f99f6-0.fSJiHR > div > section > div > div.sc-978e9339-1.ihWZgK.ipc-page-grid__item.ipc-page-grid__item--span-2 > div.celwidget > section:nth-child(1) > div.sc-a6d4b6c0-0.bBRhdF > div > div.ipc-sub-grid.ipc-sub-grid--page-span-2.ipc-sub-grid--wraps-at-above-l.ipc-shoveler__grid > div:nth-child(2) > a"
   ]
  },
  {
   "cell_type": "code",
   "execution_count": null,
   "metadata": {},
   "outputs": [],
   "source": []
  }
 ],
 "metadata": {
  "kernelspec": {
   "display_name": "Python 3",
   "language": "python",
   "name": "python3"
  },
  "language_info": {
   "codemirror_mode": {
    "name": "ipython",
    "version": 3
   },
   "file_extension": ".py",
   "mimetype": "text/x-python",
   "name": "python",
   "nbconvert_exporter": "python",
   "pygments_lexer": "ipython3",
   "version": "3.11.9"
  }
 },
 "nbformat": 4,
 "nbformat_minor": 2
}
