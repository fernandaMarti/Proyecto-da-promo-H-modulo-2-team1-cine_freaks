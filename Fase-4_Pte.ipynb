{
 "cells": [
  {
   "cell_type": "markdown",
   "metadata": {},
   "source": [
    "Fase 4: Extracción de Tablas de los Premios Oscar con Beautiful Soup\n",
    "En esta fase, trabajarán con la biblioteca Beautiful Soup para extraer información relevante de las tablas de los premios Oscar desde 2000. La tabla la encontrarás en el este link.https://es.wikipedia.org/wiki/Premios_%C3%93scar La información que deberás sacar es:\n",
    "\n",
    "Fecha de la ceremonia.\n",
    "\n",
    "Mejor película.\n",
    "\n",
    "Mejor director.\n",
    "\n",
    "Mejor actor.\n",
    "\n",
    "Mejor actriz.\n",
    "\n",
    "NOTA: La información de la API deberá ser almacenada en una lista de tuplas. Cada tupla corresponderá a una película. Siguiendo el siguiente ejemplo:\n",
    "\n",
    "Copy\n",
    "  [(1990, 'Driving Miss Daisy', 'O. Stone', \"D. Day-Lewis\",' J. Tandy' ),  ...]"
   ]
  },
  {
   "cell_type": "code",
   "execution_count": 4,
   "metadata": {},
   "outputs": [],
   "source": [
    "#importamos las librerías necesarias\n",
    "from bs4 import BeautifulSoup\n",
    "import requests\n",
    "import pandas as pd\n",
    "import re"
   ]
  },
  {
   "cell_type": "code",
   "execution_count": 5,
   "metadata": {},
   "outputs": [
    {
     "data": {
      "text/plain": [
       "200"
      ]
     },
     "execution_count": 5,
     "metadata": {},
     "output_type": "execute_result"
    }
   ],
   "source": [
    "#definimos la url, hacemos la llamada y comprobamos el status.\n",
    "url_oscars='https://es.wikipedia.org/wiki/Premios_%C3%93scar'\n",
    "res_oscars=requests.get(url_oscars)\n",
    "res_oscars.status_code"
   ]
  },
  {
   "cell_type": "code",
   "execution_count": null,
   "metadata": {},
   "outputs": [],
   "source": [
    "#creamos la sopa\n",
    "sopa_oscars=BeautifulSoup(res_oscars.content, 'html.parser')\n",
    "print(sopa_oscars)"
   ]
  },
  {
   "cell_type": "code",
   "execution_count": 12,
   "metadata": {},
   "outputs": [],
   "source": [
    "#buscamos las tablas de la sopa\n",
    "tablas_wiki=sopa_oscars.find_all('table')\n",
    "len(tablas_wiki) #vemos que hay 4 tablas\n",
    "tablas_wiki[2] #probando, hemos visto que la tabla que necesitamos es la tercera\n",
    "tabla_oscars=tablas_wiki[2] #guardamos la tabla en una variable, para saber a cuál referirnos"
   ]
  },
  {
   "cell_type": "code",
   "execution_count": 18,
   "metadata": {},
   "outputs": [
    {
     "data": {
      "text/plain": [
       "[<th style=\"width:1px;\">N.º\n",
       " </th>,\n",
       " <th style=\"width:140px;\">Ceremonia\n",
       " </th>,\n",
       " <th style=\"width:250px;\">Mejor película\n",
       " </th>,\n",
       " <th style=\"width:225px;\">Mejor director\n",
       " </th>,\n",
       " <th style=\"width:225px;\">Mejor actor\n",
       " </th>,\n",
       " <th style=\"width:225px;\">Mejor actriz\n",
       " </th>,\n",
       " <th style=\"width:220px;\">Mejor actor reparto\n",
       " </th>,\n",
       " <th style=\"width:220px;\">Mejor actriz reparto\n",
       " </th>,\n",
       " <th style=\"width:170px;\">Presentador\n",
       " </th>,\n",
       " <th>Audiencia\n",
       " </th>]"
      ]
     },
     "execution_count": 18,
     "metadata": {},
     "output_type": "execute_result"
    }
   ],
   "source": [
    "#guardamos los encabezados en una lista\n",
    "heads_oscars=tabla_oscars.find_all('th')\n",
    "heads_oscars"
   ]
  },
  {
   "cell_type": "code",
   "execution_count": 19,
   "metadata": {},
   "outputs": [
    {
     "data": {
      "text/plain": [
       "['N.º\\n',\n",
       " 'Ceremonia\\n',\n",
       " 'Mejor película\\n',\n",
       " 'Mejor director\\n',\n",
       " 'Mejor actor\\n',\n",
       " 'Mejor actriz\\n',\n",
       " 'Mejor actor reparto\\n',\n",
       " 'Mejor actriz reparto\\n',\n",
       " 'Presentador\\n',\n",
       " 'Audiencia\\n']"
      ]
     },
     "execution_count": 19,
     "metadata": {},
     "output_type": "execute_result"
    }
   ],
   "source": [
    "#sacamos el texto de los heads\n",
    "heads_oscars=[i.text for i in heads_oscars] \n",
    "heads_oscars"
   ]
  },
  {
   "cell_type": "code",
   "execution_count": 21,
   "metadata": {},
   "outputs": [
    {
     "data": {
      "text/plain": [
       "['N.º',\n",
       " 'Ceremonia',\n",
       " 'Mejor película',\n",
       " 'Mejor director',\n",
       " 'Mejor actor',\n",
       " 'Mejor actriz',\n",
       " 'Mejor actor reparto',\n",
       " 'Mejor actriz reparto',\n",
       " 'Presentador',\n",
       " 'Audiencia']"
      ]
     },
     "execution_count": 21,
     "metadata": {},
     "output_type": "execute_result"
    }
   ],
   "source": [
    "#quitamos los \\n\n",
    "heads_oscars=[x.rstrip() for x in heads_oscars]\n",
    "heads_oscars"
   ]
  },
  {
   "cell_type": "code",
   "execution_count": 23,
   "metadata": {},
   "outputs": [
    {
     "data": {
      "text/plain": [
       "'\\n1°\\n\\n16 de mayode 1929\\n\\n Alas (Wings) (1927)\\n\\nDrama:  F. BorzageCom.:  L. Milestone\\n\\n E. Jannings(The Last Command)\\n\\n J. Gaynor(7th Heaven)\\n\\n—\\n\\n—\\n\\nDouglas FairbanksWilliam C. deMille\\n\\n\\n'"
      ]
     },
     "execution_count": 23,
     "metadata": {},
     "output_type": "execute_result"
    }
   ],
   "source": [
    "#guardamos las filas en una lista\n",
    "filas_oscars=tabla_oscars.find_all('tr')\n",
    "filas_oscars[1].text #vemos las primeras para comprobar que están ok"
   ]
  },
  {
   "cell_type": "code",
   "execution_count": null,
   "metadata": {},
   "outputs": [],
   "source": [
    "#guardamos las filas en una lista\n",
    "resultados_oscars=[]\n",
    "for i in filas_oscars:\n",
    "    resultados_oscars.append(i.text)"
   ]
  },
  {
   "cell_type": "code",
   "execution_count": 1,
   "metadata": {},
   "outputs": [],
   "source": [
    "###tengo que eliminar las columnas que no me hacen falta"
   ]
  }
 ],
 "metadata": {
  "kernelspec": {
   "display_name": "base",
   "language": "python",
   "name": "python3"
  },
  "language_info": {
   "codemirror_mode": {
    "name": "ipython",
    "version": 3
   },
   "file_extension": ".py",
   "mimetype": "text/x-python",
   "name": "python",
   "nbconvert_exporter": "python",
   "pygments_lexer": "ipython3",
   "version": "3.9.7"
  }
 },
 "nbformat": 4,
 "nbformat_minor": 2
}
