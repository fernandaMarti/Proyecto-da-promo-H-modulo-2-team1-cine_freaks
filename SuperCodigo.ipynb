{
 "cells": [
  {
   "cell_type": "markdown",
   "metadata": {},
   "source": [
    "# Fase 1: Extracción de Datos de API de MoviesDataset"
   ]
  },
  {
   "cell_type": "code",
   "execution_count": 3,
   "metadata": {},
   "outputs": [],
   "source": [
    "#Importamos las librerias necesarias\n",
    "from bs4 import BeautifulSoup\n",
    "import pandas as pd\n",
    "import requests\n",
    "import re\n",
    "from time import sleep\n",
    "\n",
    "#importamos librerias de selenium\n",
    "from selenium import webdriver\n",
    "from webdriver_manager.chrome import ChromeDriverManager\n",
    "from selenium.webdriver.common.keys import Keys\n",
    "from selenium.webdriver.support.ui import Select\n",
    "\n",
    "# Importar librerías para pausar la ejecución\n",
    "# -----------------------------------------------------------------------\n",
    "from time import sleep  # Sleep se utiliza para pausar la ejecución del programa por un número de segundos.\n",
    "\n",
    "# Configuraciones\n",
    "# -----------------------------------------------------------------------\n",
    "pd.set_option('display.max_columns', None)  # Establece una opción de Pandas para mostrar todas las columnas de un DataFrame."
   ]
  },
  {
   "cell_type": "code",
   "execution_count": 2,
   "metadata": {},
   "outputs": [],
   "source": [
    "#creamos el diccionario donde alamcenaremos la información\n",
    "dic_API_Pelis = {'Tipo':[],\n",
    "                 'Nombre':[],\n",
    "                 'Año_estreno':[],\n",
    "                 'Mes_estreno': [],\n",
    "                 'Id':[]}\n",
    "\n",
    "# creamos una lista para almacenar las respuestas de la funcion de llamada a la API\n",
    "lista_respuestas = []\n",
    "lista_info_respuestas = []\n",
    "\n",
    "\n",
    "#creamos las variables relacionadas con el ENDPOINT\n",
    "url = \"https://moviesdatabase.p.rapidapi.com/titles\"\n",
    "\n",
    "# API_key Nuria = '58296df2a9mshb28a81ec4003c84p15333ejsn11ad25c7c1b8'\n",
    "# API_key Sharon = '2d7083a699mshd0e8039e2063bedp140338jsn9b141653fce1'\n",
    "# API_key3 Silvia = '039163dca0msh7ecfddf47a57b42p193f39jsn80c27500a5c2'\n",
    "\n",
    "# headers = {\"X-RapidAPI-Key\": API_key,\"X-RapidAPI-Host\": \"moviesdatabase.p.rapidapi.com\"}\n",
    "\n",
    "titleType_list = ['movie', 'short']\n",
    "genere_list = ['Drama', 'Action', 'Comedy']\n",
    "\n",
    "# querystring = {\"titleType\":\"short\",\"startYear\":\"2010\",\"endYear\":\"2024\",\"genre\":\"Drama\"}\n"
   ]
  },
  {
   "cell_type": "code",
   "execution_count": 3,
   "metadata": {},
   "outputs": [],
   "source": [
    "# Definimos una fucnción para extraer información de la API y almacenarla en un diccionario\n",
    "\n",
    "def llamar_API (url,type='movie', genere='Drama', **dict):\n",
    "    '''\n",
    "    Esta función realiza una llamada a una API a partir de una url y guarda la información en un diccionario.\n",
    "\n",
    "    Parametros:\n",
    "    -----------\n",
    "    url (str): la dirección url de la API a la que queremos hacer la llamada\n",
    "    type (str): El tipo de pelícua que queremos buscar. By default = movie\n",
    "    genere (dtr): El género que ueremos buscar. By default = Drama\n",
    "    dict (dict): el diccionario dónde se almacenará la información\n",
    "\n",
    "    Returns:\n",
    "    -------\n",
    "    dict (dict): el diccionario donde se almacenará la información\n",
    "    '''\n",
    "    #definimos la querystring y la API key\n",
    "    querystring = {\"titleType\":type,\"startYear\":\"2010\",\"endYear\":\"2024\",\"genre\":genere}\n",
    "\n",
    "    API_key = '2d7083a699mshd0e8039e2063bedp140338jsn9b141653fce1'\n",
    "    # API_key Nuria = '58296df2a9mshb28a81ec4003c84p15333ejsn11ad25c7c1b8'\n",
    "    # API_key Sharon = '2d7083a699mshd0e8039e2063bedp140338jsn9b141653fce1'\n",
    "    # API_key3 Silvia = '039163dca0msh7ecfddf47a57b42p193f39jsn80c27500a5c2'\n",
    "    headers = {\"X-RapidAPI-Key\": API_key,\"X-RapidAPI-Host\": \"moviesdatabase.p.rapidapi.com\"}    \n",
    "\n",
    "    #iniciamos el loop while para navegar por las distintas páginas\n",
    "    while url.startswith('https'):\n",
    "\n",
    "        #realizmos la llamada y almacenamos los códigos de respuesta en la lista de respuestas\n",
    "        response_pelis = requests.get(url, headers=headers, params=querystring)\n",
    "        lista_respuestas.append(response_pelis.status_code)\n",
    "        lista_info_respuestas.append(response_pelis.reason)\n",
    "\n",
    "        if response_pelis.status_code == 200:\n",
    "\n",
    "            #convertimos los resulatos a formato json\n",
    "            js_response_pelis = response_pelis.json()\n",
    "\n",
    "            #guardamos la inforación de la API dónde tenemos la dirección de la siguiente página\n",
    "            next = js_response_pelis['next']\n",
    "\n",
    "            #guardamos la parte donde tenemos la infomación en una variable\n",
    "            info_pelis = js_response_pelis['results']\n",
    "\n",
    "            #guardamos toda la información en el diccionario con un for loop    \n",
    "            for peli in info_pelis:\n",
    "\n",
    "                dict['Tipo'].append(peli['titleType']['text'])\n",
    "                dict['Nombre'].append(peli['titleText']['text'])\n",
    "                dict['Id'].append(peli['id'])\n",
    "                dict['Año_estreno'].append(peli['releaseYear']['year'])\n",
    "\n",
    "                #Hacemos un try/expect para las películas que no se han estrenado todavía            \n",
    "                try:\n",
    "                    dict['Mes_estreno'].append(peli['releaseDate']['month'])\n",
    "                except:            \n",
    "                    dict['Mes_estreno'].append('por estrenar')\n",
    "\n",
    "            #iniciamos el loop try-except para que cree la variable de la nueva url mientras tengamos una url en ´next´\n",
    "            try:\n",
    "                #definimos la base de la nueva url\n",
    "                url_fixed = \"https://moviesdatabase.p.rapidapi.com\"\n",
    "                #definimos la nueva url\n",
    "                url=url_fixed+next\n",
    "                #definimos el nuevo querystring\n",
    "                querystring = {}\n",
    "\n",
    "            except:\n",
    "                break\n",
    "\n",
    "        else:\n",
    "            print(f'Error {response_pelis.status_code} en la llamada a la API')\n",
    "            break\n",
    "\n",
    "    print(f'Fin: Se han añadido l@s {type}s del género {genere} a tu diccionario.')"
   ]
  },
  {
   "cell_type": "code",
   "execution_count": 4,
   "metadata": {},
   "outputs": [
    {
     "name": "stdout",
     "output_type": "stream",
     "text": [
      "Fin: Se han añadido l@s movies del género Drama a tu diccionario.\n",
      "Fin: Se han añadido l@s movies del género Action a tu diccionario.\n",
      "Fin: Se han añadido l@s movies del género Comedy a tu diccionario.\n",
      "Fin: Se han añadido l@s shorts del género Drama a tu diccionario.\n",
      "Fin: Se han añadido l@s shorts del género Action a tu diccionario.\n",
      "Fin: Se han añadido l@s shorts del género Comedy a tu diccionario.\n"
     ]
    }
   ],
   "source": [
    "# Iniciamos el loop for para conseguir información de todos los tipos y géneros\n",
    "for type in titleType_list:\n",
    "    for genere in genere_list:\n",
    "        llamar_API(url,type,genere, **dic_API_Pelis)"
   ]
  },
  {
   "cell_type": "code",
   "execution_count": 5,
   "metadata": {},
   "outputs": [],
   "source": [
    "#Almacenamos la infomacion del diccionario en distintas listas, cada una corresponde a una key \n",
    "lista_tipos = dic_API_Pelis['Tipo']\n",
    "lista_nombre = dic_API_Pelis['Nombre']\n",
    "lista_anno = dic_API_Pelis['Año_estreno']\n",
    "lista_mes = dic_API_Pelis['Mes_estreno']\n",
    "lista_id = dic_API_Pelis['Id']"
   ]
  },
  {
   "cell_type": "code",
   "execution_count": 6,
   "metadata": {},
   "outputs": [
    {
     "data": {
      "text/plain": [
       "6955"
      ]
     },
     "execution_count": 6,
     "metadata": {},
     "output_type": "execute_result"
    }
   ],
   "source": [
    "#Creamos un zip con las listas que hemos creado para que nos guarde la infoamción de cada una de las pelis en una tupla\n",
    "zip_pelis = zip(lista_tipos, lista_nombre, lista_anno, lista_mes, lista_id)\n",
    "lista_tuplas_pelis = list(zip_pelis)\n",
    "len(lista_tuplas_pelis)"
   ]
  }
 ],
 "metadata": {
  "kernelspec": {
   "display_name": "base",
   "language": "python",
   "name": "python3"
  },
  "language_info": {
   "codemirror_mode": {
    "name": "ipython",
    "version": 3
   },
   "file_extension": ".py",
   "mimetype": "text/x-python",
   "name": "python",
   "nbconvert_exporter": "python",
   "pygments_lexer": "ipython3",
   "version": "3.9.7"
  }
 },
 "nbformat": 4,
 "nbformat_minor": 2
}
