{
 "cells": [
  {
   "cell_type": "code",
   "execution_count": 1,
   "metadata": {},
   "outputs": [],
   "source": [
    "#Importamos las librerias necesarias\n",
    "import pandas as pd\n",
    "\n",
    "# Configuraciones\n",
    "# -----------------------------------------------------------------------\n",
    "pd.set_option('display.max_columns', None)  # Establece una opción de Pandas para mostrar todas las columnas de un DataFrame."
   ]
  },
  {
   "cell_type": "code",
   "execution_count": 57,
   "metadata": {},
   "outputs": [],
   "source": [
    "#creamos las variables necesarias\n",
    "genere_list = ['Action', 'Comedy','Drama']\n",
    "genere = str()\n",
    "read_path = f'/Users/Nuria/Desktop/Adalab/Proyecto-da-promo-H-modulo-2-team1-cine_freaks/Fase1_csv/Fase1_2010_to_2024_{genere}.csv'\n",
    "save_path = f'/Users/Nuria/Desktop/Adalab/Proyecto-da-promo-H-modulo-2-team1-cine_freaks/Fase1.csv'\n"
   ]
  },
  {
   "cell_type": "code",
   "execution_count": 6,
   "metadata": {},
   "outputs": [],
   "source": [
    "#Leemos los 3 csv existentes de los tres géneros y os guardamos en tres variables\n",
    "genere = genere_list[0]\n",
    "df_action = pd.read_csv(f'/Users/Nuria/Desktop/Adalab/Proyecto-da-promo-H-modulo-2-team1-cine_freaks/Fase1_csv/Fase1_2010_to_2024_{genere}.csv')\n",
    "\n",
    "genere = genere_list[1]\n",
    "df_comedy = pd.read_csv(f'/Users/Nuria/Desktop/Adalab/Proyecto-da-promo-H-modulo-2-team1-cine_freaks/Fase1_csv/Fase1_2010_to_2024_{genere}.csv')\n",
    "\n",
    "genere = genere_list[2]\n",
    "df_drama = pd.read_csv(f'/Users/Nuria/Desktop/Adalab/Proyecto-da-promo-H-modulo-2-team1-cine_freaks/Fase1_csv/Fase1_2010_to_2024_{genere}.csv')\n"
   ]
  },
  {
   "cell_type": "code",
   "execution_count": 26,
   "metadata": {},
   "outputs": [],
   "source": [
    "#Juntamos los 3 DF en uno\n",
    "frames = [df_action,df_comedy,df_drama]\n",
    "df_fase1 = pd.concat(frames, ignore_index=True)"
   ]
  },
  {
   "cell_type": "code",
   "execution_count": 41,
   "metadata": {},
   "outputs": [],
   "source": [
    "#corregimos un error en los nombres de las columnas\n",
    "df_fase1.columns = ['tipo_pelicula', 'titulo_pelicula', 'anno_estreno', 'mes_estreno', 'id_pelicula','genero_pelicula']"
   ]
  },
  {
   "cell_type": "code",
   "execution_count": 42,
   "metadata": {},
   "outputs": [
    {
     "data": {
      "text/plain": [
       "Index(['tipo_pelicula', 'titulo_pelicula', 'anno_estreno', 'mes_estreno',\n",
       "       'id_pelicula', 'genero_pelicula'],\n",
       "      dtype='object')"
      ]
     },
     "execution_count": 42,
     "metadata": {},
     "output_type": "execute_result"
    }
   ],
   "source": [
    "df_fase1.columns"
   ]
  },
  {
   "cell_type": "code",
   "execution_count": 43,
   "metadata": {},
   "outputs": [
    {
     "name": "stdout",
     "output_type": "stream",
     "text": [
      "<class 'pandas.core.frame.DataFrame'>\n",
      "RangeIndex: 493782 entries, 0 to 493781\n",
      "Data columns (total 6 columns):\n",
      " #   Column           Non-Null Count   Dtype \n",
      "---  ------           --------------   ----- \n",
      " 0   tipo_pelicula    493782 non-null  object\n",
      " 1   titulo_pelicula  493782 non-null  object\n",
      " 2   anno_estreno     493782 non-null  int64 \n",
      " 3   mes_estreno      461052 non-null  object\n",
      " 4   id_pelicula      493782 non-null  object\n",
      " 5   genero_pelicula  493782 non-null  object\n",
      "dtypes: int64(1), object(5)\n",
      "memory usage: 22.6+ MB\n"
     ]
    }
   ],
   "source": [
    "df_fase1.info()"
   ]
  },
  {
   "cell_type": "code",
   "execution_count": null,
   "metadata": {},
   "outputs": [],
   "source": [
    "#Eliminamos los duplicados\n",
    "df_fase1.drop_duplicates(subset='id_pelicula')\n",
    "\n",
    "#Reemplazamos los 'NaN' por 'N/A'\n",
    "df_fase1.fillna('N/A', inplace=True)"
   ]
  },
  {
   "cell_type": "code",
   "execution_count": 51,
   "metadata": {},
   "outputs": [
    {
     "name": "stdout",
     "output_type": "stream",
     "text": [
      "<class 'pandas.core.frame.DataFrame'>\n",
      "RangeIndex: 493782 entries, 0 to 493781\n",
      "Data columns (total 6 columns):\n",
      " #   Column           Non-Null Count   Dtype \n",
      "---  ------           --------------   ----- \n",
      " 0   tipo_pelicula    493782 non-null  object\n",
      " 1   titulo_pelicula  493782 non-null  object\n",
      " 2   anno_estreno     493782 non-null  int64 \n",
      " 3   mes_estreno      493782 non-null  object\n",
      " 4   id_pelicula      493782 non-null  object\n",
      " 5   genero_pelicula  493782 non-null  object\n",
      "dtypes: int64(1), object(5)\n",
      "memory usage: 22.6+ MB\n"
     ]
    }
   ],
   "source": [
    "df_fase1.info()"
   ]
  },
  {
   "cell_type": "code",
   "execution_count": 55,
   "metadata": {},
   "outputs": [
    {
     "data": {
      "text/plain": [
       "array(['Action', 'Drama', 'Comedy'], dtype=object)"
      ]
     },
     "execution_count": 55,
     "metadata": {},
     "output_type": "execute_result"
    }
   ],
   "source": [
    "df_fase1['genero_pelicula'].unique()"
   ]
  },
  {
   "cell_type": "code",
   "execution_count": 56,
   "metadata": {},
   "outputs": [
    {
     "data": {
      "text/html": [
       "<div>\n",
       "<style scoped>\n",
       "    .dataframe tbody tr th:only-of-type {\n",
       "        vertical-align: middle;\n",
       "    }\n",
       "\n",
       "    .dataframe tbody tr th {\n",
       "        vertical-align: top;\n",
       "    }\n",
       "\n",
       "    .dataframe thead th {\n",
       "        text-align: right;\n",
       "    }\n",
       "</style>\n",
       "<table border=\"1\" class=\"dataframe\">\n",
       "  <thead>\n",
       "    <tr style=\"text-align: right;\">\n",
       "      <th></th>\n",
       "      <th>tipo_pelicula</th>\n",
       "      <th>titulo_pelicula</th>\n",
       "      <th>anno_estreno</th>\n",
       "      <th>mes_estreno</th>\n",
       "      <th>id_pelicula</th>\n",
       "      <th>genero_pelicula</th>\n",
       "    </tr>\n",
       "  </thead>\n",
       "  <tbody>\n",
       "    <tr>\n",
       "      <th>246891</th>\n",
       "      <td>Short</td>\n",
       "      <td>Hundstage</td>\n",
       "      <td>2012</td>\n",
       "      <td>6</td>\n",
       "      <td>tt2389944</td>\n",
       "      <td>Drama</td>\n",
       "    </tr>\n",
       "    <tr>\n",
       "      <th>329229</th>\n",
       "      <td>Movie</td>\n",
       "      <td>Hanadama: Gen'ei</td>\n",
       "      <td>2016</td>\n",
       "      <td>4</td>\n",
       "      <td>tt5542208</td>\n",
       "      <td>Drama</td>\n",
       "    </tr>\n",
       "    <tr>\n",
       "      <th>329197</th>\n",
       "      <td>Movie</td>\n",
       "      <td>Madness</td>\n",
       "      <td>2016</td>\n",
       "      <td>N/A</td>\n",
       "      <td>tt5526732</td>\n",
       "      <td>Drama</td>\n",
       "    </tr>\n",
       "    <tr>\n",
       "      <th>329196</th>\n",
       "      <td>Movie</td>\n",
       "      <td>Boku no saboten</td>\n",
       "      <td>2016</td>\n",
       "      <td>7</td>\n",
       "      <td>tt5526492</td>\n",
       "      <td>Drama</td>\n",
       "    </tr>\n",
       "    <tr>\n",
       "      <th>329195</th>\n",
       "      <td>Movie</td>\n",
       "      <td>Tamayura: Sotsugyou shasin - Dai-4-bu: Ashita</td>\n",
       "      <td>2016</td>\n",
       "      <td>4</td>\n",
       "      <td>tt5526070</td>\n",
       "      <td>Drama</td>\n",
       "    </tr>\n",
       "    <tr>\n",
       "      <th>...</th>\n",
       "      <td>...</td>\n",
       "      <td>...</td>\n",
       "      <td>...</td>\n",
       "      <td>...</td>\n",
       "      <td>...</td>\n",
       "      <td>...</td>\n",
       "    </tr>\n",
       "    <tr>\n",
       "      <th>30206</th>\n",
       "      <td>Short</td>\n",
       "      <td>Last Chance Saloon</td>\n",
       "      <td>2017</td>\n",
       "      <td>4</td>\n",
       "      <td>tt6736106</td>\n",
       "      <td>Action</td>\n",
       "    </tr>\n",
       "    <tr>\n",
       "      <th>30205</th>\n",
       "      <td>Short</td>\n",
       "      <td>At Bay</td>\n",
       "      <td>2017</td>\n",
       "      <td>N/A</td>\n",
       "      <td>tt6735656</td>\n",
       "      <td>Action</td>\n",
       "    </tr>\n",
       "    <tr>\n",
       "      <th>30204</th>\n",
       "      <td>Short</td>\n",
       "      <td>Finger Gun</td>\n",
       "      <td>2017</td>\n",
       "      <td>N/A</td>\n",
       "      <td>tt6740282</td>\n",
       "      <td>Action</td>\n",
       "    </tr>\n",
       "    <tr>\n",
       "      <th>30203</th>\n",
       "      <td>Short</td>\n",
       "      <td>Trying to Get Out</td>\n",
       "      <td>2017</td>\n",
       "      <td>N/A</td>\n",
       "      <td>tt6731710</td>\n",
       "      <td>Action</td>\n",
       "    </tr>\n",
       "    <tr>\n",
       "      <th>0</th>\n",
       "      <td>Movie</td>\n",
       "      <td>Multiverso</td>\n",
       "      <td>2024</td>\n",
       "      <td>11</td>\n",
       "      <td>tt10225380</td>\n",
       "      <td>Action</td>\n",
       "    </tr>\n",
       "  </tbody>\n",
       "</table>\n",
       "<p>493782 rows × 6 columns</p>\n",
       "</div>"
      ],
      "text/plain": [
       "       tipo_pelicula                                titulo_pelicula  \\\n",
       "246891         Short                                      Hundstage   \n",
       "329229         Movie                               Hanadama: Gen'ei   \n",
       "329197         Movie                                        Madness   \n",
       "329196         Movie                                Boku no saboten   \n",
       "329195         Movie  Tamayura: Sotsugyou shasin - Dai-4-bu: Ashita   \n",
       "...              ...                                            ...   \n",
       "30206          Short                             Last Chance Saloon   \n",
       "30205          Short                                         At Bay   \n",
       "30204          Short                                     Finger Gun   \n",
       "30203          Short                              Trying to Get Out   \n",
       "0              Movie                                     Multiverso   \n",
       "\n",
       "        anno_estreno mes_estreno id_pelicula genero_pelicula  \n",
       "246891          2012           6   tt2389944           Drama  \n",
       "329229          2016           4   tt5542208           Drama  \n",
       "329197          2016         N/A   tt5526732           Drama  \n",
       "329196          2016           7   tt5526492           Drama  \n",
       "329195          2016           4   tt5526070           Drama  \n",
       "...              ...         ...         ...             ...  \n",
       "30206           2017           4   tt6736106          Action  \n",
       "30205           2017         N/A   tt6735656          Action  \n",
       "30204           2017         N/A   tt6740282          Action  \n",
       "30203           2017         N/A   tt6731710          Action  \n",
       "0               2024          11  tt10225380          Action  \n",
       "\n",
       "[493782 rows x 6 columns]"
      ]
     },
     "execution_count": 56,
     "metadata": {},
     "output_type": "execute_result"
    }
   ],
   "source": [
    "df_fase1.sort_values(by='genero_pelicula',ascending=False)"
   ]
  },
  {
   "cell_type": "code",
   "execution_count": 58,
   "metadata": {},
   "outputs": [],
   "source": [
    "#Guardamos el DF en formato csv\n",
    "df_fase1.to_csv(save_path, index=False)"
   ]
  }
 ],
 "metadata": {
  "kernelspec": {
   "display_name": "base",
   "language": "python",
   "name": "python3"
  },
  "language_info": {
   "codemirror_mode": {
    "name": "ipython",
    "version": 3
   },
   "file_extension": ".py",
   "mimetype": "text/x-python",
   "name": "python",
   "nbconvert_exporter": "python",
   "pygments_lexer": "ipython3",
   "version": "3.9.7"
  }
 },
 "nbformat": 4,
 "nbformat_minor": 2
}
