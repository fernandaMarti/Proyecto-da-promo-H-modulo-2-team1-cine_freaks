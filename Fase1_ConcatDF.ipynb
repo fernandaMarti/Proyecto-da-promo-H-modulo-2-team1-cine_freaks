{
 "cells": [
  {
   "cell_type": "code",
   "execution_count": 1,
   "metadata": {},
   "outputs": [],
   "source": [
    "#Importamos las librerias necesarias\n",
    "import pandas as pd\n",
    "\n",
    "# Configuraciones\n",
    "# -----------------------------------------------------------------------\n",
    "pd.set_option('display.max_columns', None)  # Establece una opción de Pandas para mostrar todas las columnas de un DataFrame."
   ]
  },
  {
   "cell_type": "code",
   "execution_count": 2,
   "metadata": {},
   "outputs": [],
   "source": [
    "#creamos las variables necesarias\n",
    "genere_list = ['Action', 'Comedy','Drama']"
   ]
  },
  {
   "cell_type": "code",
   "execution_count": 3,
   "metadata": {},
   "outputs": [],
   "source": [
    "#Leemos los 3 csv existentes de los tres géneros y os guardamos en tres variables\n",
    "genere = genere_list[0]\n",
    "df_action = pd.read_csv(f'/Users/Nuria/Desktop/Adalab/Proyecto-da-promo-H-modulo-2-team1-cine_freaks/Fase1_csv/Fase1_2010_to_2024_{genere}.csv')\n",
    "\n",
    "genere = genere_list[1]\n",
    "df_comedy = pd.read_csv(f'/Users/Nuria/Desktop/Adalab/Proyecto-da-promo-H-modulo-2-team1-cine_freaks/Fase1_csv/Fase1_2010_to_2024_{genere}.csv')\n",
    "\n",
    "genere = genere_list[2]\n",
    "df_drama = pd.read_csv(f'/Users/Nuria/Desktop/Adalab/Proyecto-da-promo-H-modulo-2-team1-cine_freaks/Fase1_csv/Fase1_2010_to_2024_{genere}.csv')\n"
   ]
  },
  {
   "cell_type": "code",
   "execution_count": 4,
   "metadata": {},
   "outputs": [],
   "source": [
    "#Juntamos los 3 DF en uno\n",
    "frames = [df_action,df_comedy,df_drama]\n",
    "df_fase1 = pd.concat(frames, ignore_index=True)"
   ]
  },
  {
   "cell_type": "code",
   "execution_count": 5,
   "metadata": {},
   "outputs": [],
   "source": [
    "#corregimos un error en los nombres de las columnas\n",
    "df_fase1.columns = ['tipo_pelicula', 'titulo_pelicula', 'anno_estreno', 'mes_estreno', 'id_pelicula','genero_pelicula']"
   ]
  },
  {
   "cell_type": "code",
   "execution_count": 7,
   "metadata": {},
   "outputs": [
    {
     "data": {
      "text/plain": [
       "Index(['tipo_pelicula', 'titulo_pelicula', 'anno_estreno', 'mes_estreno',\n",
       "       'id_pelicula', 'genero_pelicula'],\n",
       "      dtype='object')"
      ]
     },
     "execution_count": 7,
     "metadata": {},
     "output_type": "execute_result"
    }
   ],
   "source": [
    "df_fase1.columns"
   ]
  },
  {
   "cell_type": "code",
   "execution_count": 6,
   "metadata": {},
   "outputs": [
    {
     "name": "stdout",
     "output_type": "stream",
     "text": [
      "<class 'pandas.core.frame.DataFrame'>\n",
      "RangeIndex: 493782 entries, 0 to 493781\n",
      "Data columns (total 6 columns):\n",
      " #   Column           Non-Null Count   Dtype \n",
      "---  ------           --------------   ----- \n",
      " 0   tipo_pelicula    493782 non-null  object\n",
      " 1   titulo_pelicula  493782 non-null  object\n",
      " 2   anno_estreno     493782 non-null  int64 \n",
      " 3   mes_estreno      461052 non-null  object\n",
      " 4   id_pelicula      493782 non-null  object\n",
      " 5   genero_pelicula  493782 non-null  object\n",
      "dtypes: int64(1), object(5)\n",
      "memory usage: 22.6+ MB\n"
     ]
    }
   ],
   "source": [
    "df_fase1.info()"
   ]
  },
  {
   "cell_type": "code",
   "execution_count": 7,
   "metadata": {},
   "outputs": [],
   "source": [
    "#Eliminamos los duplicados\n",
    "df_fase1.drop_duplicates(subset='id_pelicula')\n",
    "\n",
    "#Reemplazamos los 'NaN' por 'N/A'\n",
    "df_fase1.fillna('N/A', inplace=True)"
   ]
  },
  {
   "cell_type": "code",
   "execution_count": 15,
   "metadata": {},
   "outputs": [
    {
     "name": "stdout",
     "output_type": "stream",
     "text": [
      "<class 'pandas.core.frame.DataFrame'>\n",
      "RangeIndex: 493782 entries, 0 to 493781\n",
      "Data columns (total 6 columns):\n",
      " #   Column           Non-Null Count   Dtype \n",
      "---  ------           --------------   ----- \n",
      " 0   tipo_pelicula    493782 non-null  object\n",
      " 1   titulo_pelicula  493782 non-null  object\n",
      " 2   anno_estreno     493782 non-null  int64 \n",
      " 3   mes_estreno      493782 non-null  object\n",
      " 4   id_pelicula      493782 non-null  object\n",
      " 5   genero_pelicula  493782 non-null  object\n",
      "dtypes: int64(1), object(5)\n",
      "memory usage: 22.6+ MB\n"
     ]
    }
   ],
   "source": [
    "df_fase1.info()"
   ]
  },
  {
   "cell_type": "code",
   "execution_count": 8,
   "metadata": {},
   "outputs": [],
   "source": [
    "#Guardamos el DF en formato csv\n",
    "save_path = f'/Users/Nuria/Desktop/Adalab/Proyecto-da-promo-H-modulo-2-team1-cine_freaks/Fase1_csv/Fase1_2010_to_2024_all_generes.csv'\n",
    "df_fase1.to_csv(save_path, index=False)"
   ]
  },
  {
   "cell_type": "code",
   "execution_count": 9,
   "metadata": {},
   "outputs": [],
   "source": [
    "#Extraemos 1000 películas random para que sea más viable trabajar con el DF en las siguientes fases\n",
    "df_fase1_short = df_fase1.sample(1000)"
   ]
  },
  {
   "cell_type": "code",
   "execution_count": 10,
   "metadata": {},
   "outputs": [
    {
     "data": {
      "text/html": [
       "<div>\n",
       "<style scoped>\n",
       "    .dataframe tbody tr th:only-of-type {\n",
       "        vertical-align: middle;\n",
       "    }\n",
       "\n",
       "    .dataframe tbody tr th {\n",
       "        vertical-align: top;\n",
       "    }\n",
       "\n",
       "    .dataframe thead th {\n",
       "        text-align: right;\n",
       "    }\n",
       "</style>\n",
       "<table border=\"1\" class=\"dataframe\">\n",
       "  <thead>\n",
       "    <tr style=\"text-align: right;\">\n",
       "      <th></th>\n",
       "      <th>tipo_pelicula</th>\n",
       "      <th>titulo_pelicula</th>\n",
       "      <th>anno_estreno</th>\n",
       "      <th>mes_estreno</th>\n",
       "      <th>id_pelicula</th>\n",
       "      <th>genero_pelicula</th>\n",
       "    </tr>\n",
       "  </thead>\n",
       "  <tbody>\n",
       "    <tr>\n",
       "      <th>125412</th>\n",
       "      <td>Short</td>\n",
       "      <td>Payday</td>\n",
       "      <td>2016</td>\n",
       "      <td>8</td>\n",
       "      <td>tt5931312</td>\n",
       "      <td>Comedy</td>\n",
       "    </tr>\n",
       "    <tr>\n",
       "      <th>327759</th>\n",
       "      <td>Movie</td>\n",
       "      <td>Planetarium</td>\n",
       "      <td>2016</td>\n",
       "      <td>11</td>\n",
       "      <td>tt4680196</td>\n",
       "      <td>Drama</td>\n",
       "    </tr>\n",
       "    <tr>\n",
       "      <th>68230</th>\n",
       "      <td>Short</td>\n",
       "      <td>5ºA Shortrooms</td>\n",
       "      <td>2012</td>\n",
       "      <td>N/A</td>\n",
       "      <td>tt11323842</td>\n",
       "      <td>Comedy</td>\n",
       "    </tr>\n",
       "    <tr>\n",
       "      <th>63486</th>\n",
       "      <td>Short</td>\n",
       "      <td>Ass Reflections</td>\n",
       "      <td>2011</td>\n",
       "      <td>5</td>\n",
       "      <td>tt2306445</td>\n",
       "      <td>Comedy</td>\n",
       "    </tr>\n",
       "    <tr>\n",
       "      <th>103645</th>\n",
       "      <td>Short</td>\n",
       "      <td>Porky's Boys</td>\n",
       "      <td>2014</td>\n",
       "      <td>11</td>\n",
       "      <td>tt9641578</td>\n",
       "      <td>Comedy</td>\n",
       "    </tr>\n",
       "    <tr>\n",
       "      <th>...</th>\n",
       "      <td>...</td>\n",
       "      <td>...</td>\n",
       "      <td>...</td>\n",
       "      <td>...</td>\n",
       "      <td>...</td>\n",
       "      <td>...</td>\n",
       "    </tr>\n",
       "    <tr>\n",
       "      <th>64088</th>\n",
       "      <td>Short</td>\n",
       "      <td>Happy Day</td>\n",
       "      <td>2011</td>\n",
       "      <td>por estrenar</td>\n",
       "      <td>tt2631102</td>\n",
       "      <td>Comedy</td>\n",
       "    </tr>\n",
       "    <tr>\n",
       "      <th>177487</th>\n",
       "      <td>Movie</td>\n",
       "      <td>Ammaa Ki Boli</td>\n",
       "      <td>2021</td>\n",
       "      <td>3</td>\n",
       "      <td>tt2211174</td>\n",
       "      <td>Comedy</td>\n",
       "    </tr>\n",
       "    <tr>\n",
       "      <th>170738</th>\n",
       "      <td>Short</td>\n",
       "      <td>Aluminum Gardenias</td>\n",
       "      <td>2020</td>\n",
       "      <td>5</td>\n",
       "      <td>tt12390832</td>\n",
       "      <td>Comedy</td>\n",
       "    </tr>\n",
       "    <tr>\n",
       "      <th>357808</th>\n",
       "      <td>Short</td>\n",
       "      <td>Tableau Vivant</td>\n",
       "      <td>2017</td>\n",
       "      <td>2</td>\n",
       "      <td>tt14344998</td>\n",
       "      <td>Drama</td>\n",
       "    </tr>\n",
       "    <tr>\n",
       "      <th>65935</th>\n",
       "      <td>Movie</td>\n",
       "      <td>The Magic of Belle Isle</td>\n",
       "      <td>2012</td>\n",
       "      <td>7</td>\n",
       "      <td>tt1839654</td>\n",
       "      <td>Comedy</td>\n",
       "    </tr>\n",
       "  </tbody>\n",
       "</table>\n",
       "<p>1000 rows × 6 columns</p>\n",
       "</div>"
      ],
      "text/plain": [
       "       tipo_pelicula          titulo_pelicula  anno_estreno   mes_estreno  \\\n",
       "125412         Short                   Payday          2016             8   \n",
       "327759         Movie              Planetarium          2016            11   \n",
       "68230          Short           5ºA Shortrooms          2012           N/A   \n",
       "63486          Short          Ass Reflections          2011             5   \n",
       "103645         Short             Porky's Boys          2014            11   \n",
       "...              ...                      ...           ...           ...   \n",
       "64088          Short                Happy Day          2011  por estrenar   \n",
       "177487         Movie            Ammaa Ki Boli          2021             3   \n",
       "170738         Short       Aluminum Gardenias          2020             5   \n",
       "357808         Short           Tableau Vivant          2017             2   \n",
       "65935          Movie  The Magic of Belle Isle          2012             7   \n",
       "\n",
       "       id_pelicula genero_pelicula  \n",
       "125412   tt5931312          Comedy  \n",
       "327759   tt4680196           Drama  \n",
       "68230   tt11323842          Comedy  \n",
       "63486    tt2306445          Comedy  \n",
       "103645   tt9641578          Comedy  \n",
       "...            ...             ...  \n",
       "64088    tt2631102          Comedy  \n",
       "177487   tt2211174          Comedy  \n",
       "170738  tt12390832          Comedy  \n",
       "357808  tt14344998           Drama  \n",
       "65935    tt1839654          Comedy  \n",
       "\n",
       "[1000 rows x 6 columns]"
      ]
     },
     "execution_count": 10,
     "metadata": {},
     "output_type": "execute_result"
    }
   ],
   "source": [
    "df_fase1_short"
   ]
  },
  {
   "cell_type": "code",
   "execution_count": 11,
   "metadata": {},
   "outputs": [],
   "source": [
    "save_path_short = f'/Users/Nuria/Desktop/Adalab/Proyecto-da-promo-H-modulo-2-team1-cine_freaks/Fase1.csv'\n",
    "df_fase1.to_csv(save_path_short, index=False)"
   ]
  }
 ],
 "metadata": {
  "kernelspec": {
   "display_name": "base",
   "language": "python",
   "name": "python3"
  },
  "language_info": {
   "codemirror_mode": {
    "name": "ipython",
    "version": 3
   },
   "file_extension": ".py",
   "mimetype": "text/x-python",
   "name": "python",
   "nbconvert_exporter": "python",
   "pygments_lexer": "ipython3",
   "version": "3.9.7"
  }
 },
 "nbformat": 4,
 "nbformat_minor": 2
}
