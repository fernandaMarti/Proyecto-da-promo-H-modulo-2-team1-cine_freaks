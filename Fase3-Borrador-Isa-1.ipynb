{
 "cells": [
  {
   "cell_type": "markdown",
   "metadata": {},
   "source": [
    "Fase 3: Extracción de Detalles de Actores con Selenium\n",
    "El siguiente paso es extraer información detallada de los 10 principales actores de cada una de las películas extraidas en la fase 1 utilizando Selenium (desde la página e IMDB). Debereis solo tener en cuenta los 10 primeros actores de cada película o corto (en caso de que los haya)La información que deberás extraer es:\n",
    "\n",
    "Nombre.\n",
    "\n",
    "Año nacimiento.\n",
    "\n",
    "¿Por qué es conocido?\n",
    "\n",
    "¿Qué hace?\n",
    "\n",
    "Premios.\n",
    "NOTA: La información de la API deberá ser almacenada en una lista de tuplas. Cada tupla corresponderá a una película. Siguiendo el siguiente ejemplo:\n",
    "\n",
    "[(\"Adam Sadler\", 1966, [\"El aguador\", \"Little Nicky\", \"Un papá genial\", \"El chico ideal\" ], [\"Reparto\", \"Producción\", \"Guion\"] , [\"American Comedy Awards, USA\", \"Annie Awards\"],   ),  \n",
    "...]\n",
    "( \"Nombre del actor\", # Nombre del actor (cadena de texto) Año de nacimiento, # Año de nacimiento del actor (entero) [\"Película 1\", \"Película 2\", ...], # Lista de películas destacadas del actor (lista de cadenas de texto) [\"Rol 1\", \"Rol 2\", ...], # Lista de roles del actor (lista de cadenas de texto) [\"Premio 1\", \"Premio 2\", ...], # Lista de premios importantes del actor (lista de cadenas de texto) )\n",
    "\n",
    "actores = [ (\"Adam Sandler\", 1966, [\"The Waterboy\", \"Little Nicky\", \"Big Daddy\", \"The Wedding Singer\"], [\"Actor\", \"Producer\", \"Writer\"], [\"MTV Movie Awards\", \"People's Choice Awards\"]), (\"Leonardo DiCaprio\", 1974, [\"Titanic\", \"Inception\", \"The Revenant\", \"The Wolf of Wall Street\"], [\"Actor\", \"Producer\"], [\"Academy Awards\", \"Golden Globe Awards\"]), (\"Meryl Streep\", 1949, [\"The Devil Wears Prada\", \"Sophie's Choice\", \"The Iron Lady\", \"Doubt\"], [\"Actress\"], [\"Academy Awards\", \"BAFTA Awards\"]), (\"Tom Hanks\", 1956, [\"Forrest Gump\", \"Cast Away\", \"Saving Private Ryan\", \"Philadelphia\"], [\"Actor\", \"Producer\"], [\"Academy Awards\", \"Golden Globe Awards\"]), (\"Jennifer Lawrence\", 1990, [\"The Hunger Games\", \"Silver Linings Playbook\", \"Joy\", \"Winter's Bone\"], [\"Actress\"], [\"Academy Awards\", \"Golden Globe Awards\"]), (\"Brad Pitt\", 1963, [\"Fight Club\", \"Inglourious Basterds\", \"The Curious Case of Benjamin Button\", \"Once Upon a Time in Hollywood\"], [\"Actor\", \"Producer\"], [\"Academy Awards\", \"Golden Globe Awards\"]), (\"Emma Stone\", 1988, [\"La La Land\", \"The Help\", \"Birdman\", \"Easy A\"], [\"Actress\"], [\"Academy Awards\", \"BAFTA Awards\"]), (\"Robert Downey Jr.\", 1965, [\"Iron Man\", \"Sherlock Holmes\", \"Chaplin\", \"Tropic Thunder\"], [\"Actor\", \"Producer\"], [\"Golden Globe Awards\", \"BAFTA Awards\"]), (\"Denzel Washington\", 1954, [\"Training Day\", \"Malcolm X\", \"Fences\", \"Flight\"], [\"Actor\", \"Director\", \"Producer\"], [\"Academy Awards\", \"Golden Globe Awards\"]), (\"Scarlett Johansson\", 1984, [\"Lost in Translation\", \"Marriage Story\", \"Avengers: Endgame\", \"Her\"], [\"Actress\"], [\"BAFTA Awards\", \"Tony Awards\"]) ]"
   ]
  },
  {
   "cell_type": "code",
   "execution_count": 1,
   "metadata": {},
   "outputs": [
    {
     "name": "stdout",
     "output_type": "stream",
     "text": [
      "Note: you may need to restart the kernel to use updated packages.Collecting tqdm\n",
      "  Downloading tqdm-4.66.2-py3-none-any.whl (78 kB)\n",
      "     ---------------------------------------- 78.3/78.3 kB 4.5 MB/s eta 0:00:00\n",
      "Requirement already satisfied: colorama in c:\\users\\marti\\appdata\\roaming\\python\\python311\\site-packages (from tqdm) (0.4.6)\n",
      "Installing collected packages: tqdm\n",
      "Successfully installed tqdm-4.66.2\n",
      "\n"
     ]
    },
    {
     "name": "stderr",
     "output_type": "stream",
     "text": [
      "  WARNING: The script tqdm.exe is installed in 'c:\\Users\\marti\\AppData\\Local\\Programs\\Python\\Python311\\Scripts' which is not on PATH.\n",
      "  Consider adding this directory to PATH or, if you prefer to suppress this warning, use --no-warn-script-location.\n",
      "\n",
      "[notice] A new release of pip available: 22.3.1 -> 24.0\n",
      "[notice] To update, run: python.exe -m pip install --upgrade pip\n"
     ]
    }
   ],
   "source": [
    "pip install tqdm"
   ]
  },
  {
   "cell_type": "code",
   "execution_count": 2,
   "metadata": {},
   "outputs": [],
   "source": [
    "from bs4 import BeautifulSoup\n",
    "import requests\n",
    "import re\n",
    "\n",
    "from selenium import webdriver  # Selenium es una herramienta para automatizar la interacción con navegadores web.\n",
    "from webdriver_manager.chrome import ChromeDriverManager  # ChromeDriverManager gestiona la instalación del controlador de Chrome.\n",
    "from selenium.webdriver.common.keys import Keys  # Keys es útil para simular eventos de teclado en Selenium.\n",
    "from selenium.webdriver.support.ui import Select  # Select se utiliza para interactuar con elementos <select> en páginas web.\n",
    "from selenium.webdriver.common.by import By\n",
    "from selenium.webdriver.support.ui import WebDriverWait\n",
    "from selenium.webdriver.support import expected_conditions as EC\n",
    "import pandas as pd\n",
    "\n",
    "from time import sleep\n",
    "\n",
    "pd.set_option('display.max_columns', None)  # Establece una opción de Pandas para mostrar todas las columnas de un DataFrame."
   ]
  },
  {
   "cell_type": "code",
   "execution_count": 3,
   "metadata": {},
   "outputs": [
    {
     "name": "stdout",
     "output_type": "stream",
     "text": [
      "Note: you may need to restart the kernel to use updated packages.Requirement already satisfied: tqdm in c:\\users\\marti\\appdata\\local\\programs\\python\\python311\\lib\\site-packages (4.66.2)\n",
      "Requirement already satisfied: colorama in c:\\users\\marti\\appdata\\roaming\\python\\python311\\site-packages (from tqdm) (0.4.6)\n",
      "\n"
     ]
    },
    {
     "name": "stderr",
     "output_type": "stream",
     "text": [
      "\n",
      "[notice] A new release of pip available: 22.3.1 -> 24.0\n",
      "[notice] To update, run: python.exe -m pip install --upgrade pip\n"
     ]
    }
   ],
   "source": [
    "pip install tqdm"
   ]
  },
  {
   "cell_type": "code",
   "execution_count": 38,
   "metadata": {},
   "outputs": [
    {
     "name": "stdout",
     "output_type": "stream",
     "text": [
      "Adam Sandler\n",
      "{'nombre_actor': ['Adam Sandler'], 'anno_nacimiento': [], 'peliculas': [], 'que_hace': [], 'premios': ['76 PREMIOS & 133 NOMINACIONES']}\n",
      "{'nombre_actor': ['Adam Sandler'], 'anno_nacimiento': ['1966'], 'peliculas': ['El aguador (1998)', 'Little Nicky (2000)', 'El chico ideal (1998)'], 'que_hace': [], 'premios': ['76 PREMIOS & 133 NOMINACIONES']}\n",
      "{'nombre_actor': ['Adam Sandler'], 'anno_nacimiento': ['1966'], 'peliculas': ['El aguador (1998)', 'Little Nicky (2000)', 'El chico ideal (1998)'], 'que_hace': ['Reparto', 'Producción', 'Guion'], 'premios': ['76 PREMIOS & 133 NOMINACIONES']}\n",
      "Leonardo DiCaprio\n",
      "{'nombre_actor': ['Adam Sandler', 'Leonardo DiCaprio'], 'anno_nacimiento': ['1966'], 'peliculas': ['El aguador (1998)', 'Little Nicky (2000)', 'El chico ideal (1998)'], 'que_hace': ['Reparto', 'Producción', 'Guion'], 'premios': ['76 PREMIOS & 133 NOMINACIONES', '106 PREMIOS & 285 NOMINACIONES']}\n",
      "{'nombre_actor': ['Adam Sandler', 'Leonardo DiCaprio'], 'anno_nacimiento': ['1966', '1974'], 'peliculas': ['El aguador (1998)', 'Little Nicky (2000)', 'El chico ideal (1998)', 'Origen (2010)', 'Titanic (1997)', 'El lobo de Wall Street (2013)'], 'que_hace': ['Reparto', 'Producción', 'Guion'], 'premios': ['76 PREMIOS & 133 NOMINACIONES', '106 PREMIOS & 285 NOMINACIONES']}\n",
      "{'nombre_actor': ['Adam Sandler', 'Leonardo DiCaprio'], 'anno_nacimiento': ['1966', '1974'], 'peliculas': ['El aguador (1998)', 'Little Nicky (2000)', 'El chico ideal (1998)', 'Origen (2010)', 'Titanic (1997)', 'El lobo de Wall Street (2013)'], 'que_hace': ['Reparto', 'Producción', 'Guion', 'Producción', 'Reparto', 'Guion'], 'premios': ['76 PREMIOS & 133 NOMINACIONES', '106 PREMIOS & 285 NOMINACIONES']}\n"
     ]
    }
   ],
   "source": [
    "lista_actores = [\"Adam Sandler\",\"Leonardo DiCaprio\"]\n",
    "\n",
    "''', \"Meryl Streep\",\"Tom Hanks\",\n",
    "                 \"Jennifer Lawrence\",\"Brad Pitt\", \"Emma Stone\",\"Robert Downey Jr.\",\n",
    "                 \"Denzel Washington\",\"Scarlett Johansson\"]'''\n",
    "\n",
    "\n",
    "# Crear un diccionario llamado \"resultados_actores\" para almacenar la información de cada unos de los actores\n",
    "resultados_actores = {\n",
    "    \"nombre_actor\": [],\n",
    "    \"anno_nacimiento\": [],\n",
    "    \"peliculas\":[],\n",
    "    \"que_hace\":[],\n",
    "    \"premios\":[]\n",
    "}\n",
    "\n",
    "\n",
    "url_actores=(f\"https://www.imdb.com/\")\n",
    "\n",
    "# Inicializa el navegador Chrome\n",
    "driver = webdriver.Chrome()\n",
    "\n",
    "# Navega a la página web \"https://www.imdb.com/\"\n",
    "driver.get(url_actores)\n",
    "\n",
    "driver.maximize_window()\n",
    "\n",
    "sleep(5)\n",
    "\n",
    "lista_detalles_actores=[]\n",
    "\n",
    "# Aceptar las cookies en la página web\n",
    "driver.find_element(\"css selector\", \"#__next > div > div > div.sc-jrcTuL.bPmWiM > div > button.icb-btn.sc-bcXHqe.sc-dkrFOg.sc-iBYQkv.dcvrLS.ddtuHe.dRCGjd\").click()\n",
    "\n",
    "sleep(5)\n",
    "\n",
    "\n",
    "\n",
    "#Vamos a recorrer la lista\n",
    "\n",
    "for actor in lista_actores:\n",
    "    \n",
    "    info_actores_consumible = []\n",
    "\n",
    "    # Ingresar la el actor de la lista de actores y coger los datos en el campo de búsqueda y presionar Enter\n",
    "    \n",
    "    driver.find_element(\"css selector\", \"#suggestion-search\").send_keys(actor, Keys.ENTER)\n",
    "\n",
    "    sleep(3)\n",
    "    \n",
    "      \n",
    "    #Imprimimos en nombre del actor y lo metemos en el diccionario\n",
    "    \n",
    "    print (actor)\n",
    "    \n",
    "    resultados_actores[\"nombre_actor\"].append(actor)\n",
    "    \n",
    "    #pinchamos en el resultado de la busqueda que nos lleva al a info del actor\n",
    "    sleep(5) \n",
    "    \n",
    "    driver.execute_script(\"window.scrollTo(0,400)\")\n",
    "    \n",
    "    sleep (3)\n",
    "    \n",
    "    driver.find_element(\"css selector\", \"#__next > main > div.ipc-page-content-container.ipc-page-content-container--full.sc-dec63aac-0.uHlFE > div.ipc-page-content-container.ipc-page-content-container--center > section > div > div.ipc-page-grid__item.ipc-page-grid__item--span-2 > section:nth-child(3) > div.sc-ffc93fc1-2.ditJlF > ul > li:nth-child(1) > div.ipc-metadata-list-summary-item__c > div > a\").click()\n",
    "    \n",
    "\n",
    "    #Isa:  buscamos los premios\n",
    "    #primero click en el botón premios\n",
    "    driver.find_element('css selector', '#__next > main > div > section.ipc-page-background.ipc-page-background--base.sc-304f99f6-0.fSJiHR > section > div:nth-child(5) > section > section > div.sc-66ec1b32-0.kbbKze > div > div:nth-child(2) > ul > li:nth-child(2) > a').click()\n",
    "    #ahora busca y guarda los premios\n",
    "    resultados_actores['premios'].append(driver.find_element('css selector', '#__next > main > div > section > div > section > div > div.sc-978e9339-1.ihWZgK.ipc-page-grid__item.ipc-page-grid__item--span-2 > div.sc-cb0e644c-0.bgimHf > div > div').text)\n",
    "    sleep(5)\n",
    "    print(resultados_actores)\n",
    "    driver.back()\n",
    "    sleep(5)\n",
    "\n",
    "    #Conseguimos el año de nacimiento del actor\n",
    "    \n",
    "    driver.execute_script(\"window.scrollTo(0,400)\")\n",
    "      \n",
    "    sleep(5) \n",
    "    \n",
    "    resultados_actores[\"anno_nacimiento\"].append(driver.find_element(\"xpath\", '//*[@id=\"__next\"]/main/div/section[1]/section/div[3]/section/section/div[3]/div[2]/div[2]/section/aside/div/span[2]').text.split(\" \")[-1])\n",
    "  \n",
    "    #Peliculas por las que es conocido\n",
    "    \n",
    "    sleep(5) \n",
    "    \n",
    "    for i in range (1,4):\n",
    "        resultados_actores[\"peliculas\"].append(driver.find_element(\"xpath\",f'//*[@id=\"__next\"]/main/div/section[1]/section/div[3]/section/section/div[3]/div[2]/div[1]/section/div/div/div/div/div/a[{i}]').text)\n",
    "        \n",
    "    sleep(5)\n",
    "    print(resultados_actores)\n",
    "    \n",
    "    for i in range (1,4):\n",
    "        resultados_actores[\"que_hace\"].append(driver.find_element(\"css selector\",f\"#__next > main > div > section.ipc-page-background.ipc-page-background--base.sc-304f99f6-0.fSJiHR > section > div:nth-child(5) > section > section > div.sc-4e4cc5f9-3.dDRspk > div > ul > li:nth-child({i})\").text)\n",
    "    \n",
    "    \n",
    "    sleep(5)\n",
    "    print(resultados_actores)\n",
    "    \n",
    "\n",
    "    \n",
    "    #Esto es lo que no consigo que funciones de momento:\n",
    "    \n",
    "    #resultados_actores[\"premios\"].append(driver.find_element(\"xpath\", '//*[@id=\"__next\"]/main/div/section[1]/div/section/div/div[1]/section[1]/div/ul/li/a[1]').text.split('\\n')[::4])\n",
    "    \n",
    "    \n",
    "    #print(resultados_actores)\n",
    "    \n",
    "    #Luego me quedaría ver como se puede poner en una estructura para que me guarde los datos con esta\n",
    "    #Estructura: [{\"nombre_actor\":{año, que hace, peliculas, premio}}]\n",
    "    \n",
    "    #Como está ahora se mezcla los datos y no sabes de quien son.\n",
    "    \n",
    "    driver.back()\n",
    "    \n",
    "    driver.back()\n",
    "    "
   ]
  },
  {
   "cell_type": "code",
   "execution_count": 39,
   "metadata": {},
   "outputs": [
    {
     "data": {
      "text/plain": [
       "{'nombre_actor': ['Adam Sandler', 'Leonardo DiCaprio'],\n",
       " 'anno_nacimiento': ['1966', '1974'],\n",
       " 'peliculas': ['El aguador (1998)',\n",
       "  'Little Nicky (2000)',\n",
       "  'El chico ideal (1998)',\n",
       "  'Origen (2010)',\n",
       "  'Titanic (1997)',\n",
       "  'El lobo de Wall Street (2013)'],\n",
       " 'que_hace': ['Reparto',\n",
       "  'Producción',\n",
       "  'Guion',\n",
       "  'Producción',\n",
       "  'Reparto',\n",
       "  'Guion'],\n",
       " 'premios': ['76 PREMIOS & 133 NOMINACIONES',\n",
       "  '106 PREMIOS & 285 NOMINACIONES']}"
      ]
     },
     "execution_count": 39,
     "metadata": {},
     "output_type": "execute_result"
    }
   ],
   "source": [
    "resultados_actores"
   ]
  },
  {
   "cell_type": "code",
   "execution_count": null,
   "metadata": {},
   "outputs": [],
   "source": []
  },
  {
   "cell_type": "code",
   "execution_count": null,
   "metadata": {},
   "outputs": [],
   "source": []
  },
  {
   "cell_type": "code",
   "execution_count": null,
   "metadata": {},
   "outputs": [],
   "source": []
  },
  {
   "cell_type": "code",
   "execution_count": null,
   "metadata": {},
   "outputs": [],
   "source": []
  },
  {
   "cell_type": "code",
   "execution_count": null,
   "metadata": {},
   "outputs": [],
   "source": []
  },
  {
   "cell_type": "code",
   "execution_count": 46,
   "metadata": {},
   "outputs": [
    {
     "name": "stdout",
     "output_type": "stream",
     "text": [
      "Adam Sandler\n",
      "[]\n",
      "Leonardo DiCaprio\n",
      "[]\n"
     ]
    }
   ],
   "source": [
    "lista_actores = [\"Adam Sandler\",\"Leonardo DiCaprio\"]\n",
    "\n",
    "#Creo listas para hacer el df de las listas, en vez del diccionario\n",
    "lista_encabezados=['Nombre actor', 'Año nacimiento', 'Películas', 'Qué hace', 'Premios']\n",
    "lista_nombres=[]\n",
    "lista_anios=[]\n",
    "lista_peliculas=[]\n",
    "lista_que_hace=[]\n",
    "lista_premios=[]\n",
    "\n",
    "url_actores=(f\"https://www.imdb.com/\")\n",
    "\n",
    "# Inicializa el navegador Chrome\n",
    "driver = webdriver.Chrome()\n",
    "# Navega a la página web \"https://www.imdb.com/\"\n",
    "driver.get(url_actores)\n",
    "driver.maximize_window()\n",
    "sleep(5)\n",
    "\n",
    "# Aceptar las cookies en la página web\n",
    "driver.find_element(\"css selector\", \"#__next > div > div > div.sc-jrcTuL.bPmWiM > div > button.icb-btn.sc-bcXHqe.sc-dkrFOg.sc-iBYQkv.dcvrLS.ddtuHe.dRCGjd\").click()\n",
    "sleep(5)\n",
    "\n",
    "#Vamos a recorrer la lista\n",
    "for actor in lista_actores:\n",
    "\n",
    "    # Ingresar la el actor de la lista de actores y coger los datos en el campo de búsqueda y presionar Enter\n",
    "    driver.find_element(\"css selector\", \"#suggestion-search\").send_keys(actor, Keys.ENTER)\n",
    "    sleep(3)\n",
    "    lista_nombres.append(actor)\n",
    "    print (actor)\n",
    "    \n",
    "    #pinchamos en el resultado de la busqueda que nos lleva al a info del actor\n",
    "    sleep(5) \n",
    "    driver.execute_script(\"window.scrollTo(0,400)\")\n",
    "    sleep (3)\n",
    "    driver.find_element(\"css selector\", \"#__next > main > div.ipc-page-content-container.ipc-page-content-container--full.sc-dec63aac-0.uHlFE > div.ipc-page-content-container.ipc-page-content-container--center > section > div > div.ipc-page-grid__item.ipc-page-grid__item--span-2 > section:nth-child(3) > div.sc-ffc93fc1-2.ditJlF > ul > li:nth-child(1) > div.ipc-metadata-list-summary-item__c > div > a\").click()\n",
    "    \n",
    "    #Buscamos los premios\n",
    "    #primero click en el botón premios\n",
    "    driver.find_element('css selector', '#__next > main > div > section.ipc-page-background.ipc-page-background--base.sc-304f99f6-0.fSJiHR > section > div:nth-child(5) > section > section > div.sc-66ec1b32-0.kbbKze > div > div:nth-child(2) > ul > li:nth-child(2) > a').click()\n",
    "\n",
    "    #ahora busca y guarda los premios\n",
    "    lista_premios.append(driver.find_element('css selector', '#__next > main > div > section > div > section > div > div.sc-978e9339-1.ihWZgK.ipc-page-grid__item.ipc-page-grid__item--span-2 > div.sc-cb0e644c-0.bgimHf > div > div').text)\n",
    "    sleep(5)\n",
    "    driver.back()\n",
    "    sleep(5)\n",
    "\n",
    "    #Conseguimos el año de nacimiento del actor\n",
    "    driver.execute_script(\"window.scrollTo(0,400)\")\n",
    "    sleep(5)\n",
    "    lista_anios.append(driver.find_element(\"xpath\", '//*[@id=\"__next\"]/main/div/section[1]/section/div[3]/section/section/div[3]/div[2]/div[2]/section/aside/div/span[2]').text.split(\" \")[-1])\n",
    "\n",
    "    #Peliculas por las que es conocido\n",
    "    sleep(5)\n",
    "    for i in range (1,4):\n",
    "        lista_peliculas.append(driver.find_element(\"xpath\",f'//*[@id=\"__next\"]/main/div/section[1]/section/div[3]/section/section/div[3]/div[2]/div[1]/section/div/div/div/div/div/a[{i}]').text)\n",
    "    sleep(5)\n",
    "    \n",
    "    #Qué hacen\n",
    "    for i in range (1,4):\n",
    "        lista_que_hace.append(driver.find_element(\"css selector\",f\"#__next > main > div > section.ipc-page-background.ipc-page-background--base.sc-304f99f6-0.fSJiHR > section > div:nth-child(5) > section > section > div.sc-4e4cc5f9-3.dDRspk > div > ul > li:nth-child({i})\").text)\n",
    "    sleep(5)\n",
    "    print(lista_que_hacen)\n",
    "    \n",
    "    driver.back()\n",
    "    driver.back()\n",
    "    sleep(3)\n",
    "\n",
    "driver.close()"
   ]
  },
  {
   "cell_type": "markdown",
   "metadata": {},
   "source": [
    "bien, saca todos los datos ok, pero teneos que crear sublistas de las listas de que_hace y peliculas para que cada 3 sean un registro (una celda en la futura tabla)"
   ]
  },
  {
   "cell_type": "code",
   "execution_count": 47,
   "metadata": {},
   "outputs": [
    {
     "data": {
      "text/plain": [
       "['76 PREMIOS & 133 NOMINACIONES', '106 PREMIOS & 285 NOMINACIONES']"
      ]
     },
     "execution_count": 47,
     "metadata": {},
     "output_type": "execute_result"
    }
   ],
   "source": [
    "lista_premios"
   ]
  },
  {
   "cell_type": "code",
   "execution_count": 48,
   "metadata": {},
   "outputs": [
    {
     "data": {
      "text/plain": [
       "['Reparto', 'Producción', 'Guion', 'Producción', 'Reparto', 'Guion']"
      ]
     },
     "execution_count": 48,
     "metadata": {},
     "output_type": "execute_result"
    }
   ],
   "source": [
    "lista_que_hace"
   ]
  },
  {
   "cell_type": "code",
   "execution_count": 69,
   "metadata": {},
   "outputs": [
    {
     "name": "stdout",
     "output_type": "stream",
     "text": [
      "[['Reparto', 'Producción', 'Guion'], ['Producción', 'Reparto', 'Guion']]\n"
     ]
    }
   ],
   "source": [
    "#agrupamos qué hacen en sublista de 3 en 3 para posteriormente poder asignarlas a su columna\n",
    "lista_que_hace_tres = [lista_que_hace[i:i+3] for i in range(0, len(lista_que_hace), 3)]\n",
    "print(lista_que_hace_tres)"
   ]
  },
  {
   "cell_type": "code",
   "execution_count": 66,
   "metadata": {},
   "outputs": [
    {
     "data": {
      "text/plain": [
       "['El aguador (1998)',\n",
       " 'Little Nicky (2000)',\n",
       " 'El chico ideal (1998)',\n",
       " 'Origen (2010)',\n",
       " 'Titanic (1997)',\n",
       " 'El lobo de Wall Street (2013)']"
      ]
     },
     "execution_count": 66,
     "metadata": {},
     "output_type": "execute_result"
    }
   ],
   "source": [
    "lista_peliculas"
   ]
  },
  {
   "cell_type": "code",
   "execution_count": 68,
   "metadata": {},
   "outputs": [
    {
     "name": "stdout",
     "output_type": "stream",
     "text": [
      "[['El aguador (1998)', 'Little Nicky (2000)', 'El chico ideal (1998)'], ['Origen (2010)', 'Titanic (1997)', 'El lobo de Wall Street (2013)']]\n"
     ]
    }
   ],
   "source": [
    "#agrupamos las pelis en sublista de 3 en 3 para posteriormente poder asignarlas a su columna\n",
    "lista_peliculas_tres = [lista_peliculas[i:i+3] for i in range(0, len(lista_peliculas), 3)]\n",
    "print(lista_peliculas_tres)"
   ]
  },
  {
   "cell_type": "code",
   "execution_count": 50,
   "metadata": {},
   "outputs": [
    {
     "data": {
      "text/plain": [
       "['1966', '1974']"
      ]
     },
     "execution_count": 50,
     "metadata": {},
     "output_type": "execute_result"
    }
   ],
   "source": [
    "lista_anios"
   ]
  },
  {
   "cell_type": "code",
   "execution_count": 51,
   "metadata": {},
   "outputs": [
    {
     "data": {
      "text/plain": [
       "['Adam Sandler', 'Leonardo DiCaprio']"
      ]
     },
     "execution_count": 51,
     "metadata": {},
     "output_type": "execute_result"
    }
   ],
   "source": [
    "lista_nombres"
   ]
  },
  {
   "cell_type": "code",
   "execution_count": null,
   "metadata": {},
   "outputs": [],
   "source": []
  },
  {
   "cell_type": "markdown",
   "metadata": {},
   "source": [
    "Para crear un df de un diccionario todos los arrays deben ser del mismo largo."
   ]
  },
  {
   "cell_type": "code",
   "execution_count": 21,
   "metadata": {},
   "outputs": [],
   "source": [
    "import pandas as pd\n",
    "import requests\n",
    "from bs4 import BeautifulSoup\n",
    "from datetime import datetime"
   ]
  },
  {
   "cell_type": "code",
   "execution_count": null,
   "metadata": {},
   "outputs": [],
   "source": [
    "df_actores=pd.DataFrame(resultados_actores)\n",
    "df_actores"
   ]
  },
  {
   "cell_type": "code",
   "execution_count": null,
   "metadata": {},
   "outputs": [],
   "source": [
    "#boton premios\n",
    "#__next > main > div > section.ipc-page-background.ipc-page-background--base.sc-304f99f6-0.fSJiHR > section > div:nth-child(5) > section > section > div.sc-66ec1b32-0.kbbKze > div > div:nth-child(2) > ul > li:nth-child(2) > a\n",
    "#__next > main > div > section.ipc-page-background.ipc-page-background--base.sc-304f99f6-0.fSJiHR > section > div:nth-child(5) > section > section > div.sc-66ec1b32-0.kbbKze > div > div:nth-child(2) > ul > li:nth-child(2) > a\n",
    "\n"
   ]
  },
  {
   "cell_type": "code",
   "execution_count": null,
   "metadata": {},
   "outputs": [],
   "source": [
    "#resumen premios\n",
    "#__next > main > div > section > div > section > div > div.sc-978e9339-1.ihWZgK.ipc-page-grid__item.ipc-page-grid__item--span-2 > div.sc-cb0e644c-0.bgimHf > div > div\n",
    "#__next > main > div > section > div > section > div > div.sc-978e9339-1.ihWZgK.ipc-page-grid__item.ipc-page-grid__item--span-2 > div.sc-cb0e644c-0.bgimHf > div > div\n",
    "\n"
   ]
  }
 ],
 "metadata": {
  "kernelspec": {
   "display_name": "base",
   "language": "python",
   "name": "python3"
  },
  "language_info": {
   "codemirror_mode": {
    "name": "ipython",
    "version": 3
   },
   "file_extension": ".py",
   "mimetype": "text/x-python",
   "name": "python",
   "nbconvert_exporter": "python",
   "pygments_lexer": "ipython3",
   "version": "3.11.2"
  }
 },
 "nbformat": 4,
 "nbformat_minor": 2
}
