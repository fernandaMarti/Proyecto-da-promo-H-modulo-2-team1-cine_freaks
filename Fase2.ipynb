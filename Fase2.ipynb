{
 "cells": [
  {
   "cell_type": "markdown",
   "metadata": {},
   "source": [
    "# Fase 2: Extracción de Detalles de Películas con Selenium"
   ]
  },
  {
   "cell_type": "markdown",
   "metadata": {},
   "source": [
    "WEBS\n",
    "- IMDB: https://www.imdb.com/\n",
    "- Rotten Tomatoes: https://www.rottentomatoes.com/"
   ]
  },
  {
   "cell_type": "markdown",
   "metadata": {},
   "source": [
    "- Puntuacion de IMDB (en caso de que la tenga). ✅\n",
    "\n",
    "- Puntuacion de Rotten Tomatoes (Tomatometer). ✅\n",
    "\n",
    "- Dirección (director/a o directore/as de cada película). ✅\n",
    "\n",
    "- Gionistas (de cada película). ✅\n",
    "\n",
    "- Argumento. ✅\n",
    "\n",
    "- Duración (en minutos). ✅\n",
    "\n",
    "- Nombre de la película. ✅"
   ]
  },
  {
   "cell_type": "code",
   "execution_count": 130,
   "metadata": {},
   "outputs": [],
   "source": [
    "#Importamos las librerias necesarias\n",
    "from bs4 import BeautifulSoup\n",
    "import pandas as pd\n",
    "import requests\n",
    "import re\n",
    "from time import sleep\n",
    "\n",
    "#importamos librerias de selenium\n",
    "from selenium import webdriver\n",
    "from webdriver_manager.chrome import ChromeDriverManager\n",
    "from selenium.webdriver.common.keys import Keys\n",
    "from selenium.webdriver.support.ui import Select\n",
    "\n",
    "from selenium.webdriver.common.by import By\n",
    "\n",
    "# Importar librerías para pausar la ejecución\n",
    "# -----------------------------------------------------------------------\n",
    "from time import sleep  # Sleep se utiliza para pausar la ejecución del programa por un número de segundos.\n",
    "\n",
    "#Imoprtamos librería para ver el % de avance\n",
    "from tqdm import tqdm\n",
    "\n",
    "# Configuraciones\n",
    "# -----------------------------------------------------------------------\n",
    "pd.set_option('display.max_columns', None)  # Establece una opción de Pandas para mostrar todas las columnas de un DataFrame."
   ]
  },
  {
   "cell_type": "code",
   "execution_count": 131,
   "metadata": {},
   "outputs": [
    {
     "data": {
      "text/html": [
       "<div>\n",
       "<style scoped>\n",
       "    .dataframe tbody tr th:only-of-type {\n",
       "        vertical-align: middle;\n",
       "    }\n",
       "\n",
       "    .dataframe tbody tr th {\n",
       "        vertical-align: top;\n",
       "    }\n",
       "\n",
       "    .dataframe thead th {\n",
       "        text-align: right;\n",
       "    }\n",
       "</style>\n",
       "<table border=\"1\" class=\"dataframe\">\n",
       "  <thead>\n",
       "    <tr style=\"text-align: right;\">\n",
       "      <th></th>\n",
       "      <th>Tipo</th>\n",
       "      <th>Nombre</th>\n",
       "      <th>Anno_estreno</th>\n",
       "      <th>Mes_estreno</th>\n",
       "      <th>Id_peli</th>\n",
       "      <th>Genero</th>\n",
       "    </tr>\n",
       "  </thead>\n",
       "  <tbody>\n",
       "    <tr>\n",
       "      <th>0</th>\n",
       "      <td>Movie</td>\n",
       "      <td>Multiverso</td>\n",
       "      <td>2024</td>\n",
       "      <td>6</td>\n",
       "      <td>tt10225380</td>\n",
       "      <td>Action</td>\n",
       "    </tr>\n",
       "    <tr>\n",
       "      <th>1</th>\n",
       "      <td>Movie</td>\n",
       "      <td>Detour 95</td>\n",
       "      <td>2024</td>\n",
       "      <td>10</td>\n",
       "      <td>tt10844184</td>\n",
       "      <td>Action</td>\n",
       "    </tr>\n",
       "    <tr>\n",
       "      <th>2</th>\n",
       "      <td>Movie</td>\n",
       "      <td>The Legend of Johnny Jones</td>\n",
       "      <td>2024</td>\n",
       "      <td>10</td>\n",
       "      <td>tt10928904</td>\n",
       "      <td>Action</td>\n",
       "    </tr>\n",
       "    <tr>\n",
       "      <th>3</th>\n",
       "      <td>Movie</td>\n",
       "      <td>Slasher House 3</td>\n",
       "      <td>2024</td>\n",
       "      <td>3</td>\n",
       "      <td>tt11078340</td>\n",
       "      <td>Action</td>\n",
       "    </tr>\n",
       "    <tr>\n",
       "      <th>4</th>\n",
       "      <td>Movie</td>\n",
       "      <td>Clank and the Golden Scar</td>\n",
       "      <td>2024</td>\n",
       "      <td>10</td>\n",
       "      <td>tt11374514</td>\n",
       "      <td>Action</td>\n",
       "    </tr>\n",
       "    <tr>\n",
       "      <th>...</th>\n",
       "      <td>...</td>\n",
       "      <td>...</td>\n",
       "      <td>...</td>\n",
       "      <td>...</td>\n",
       "      <td>...</td>\n",
       "      <td>...</td>\n",
       "    </tr>\n",
       "    <tr>\n",
       "      <th>7267</th>\n",
       "      <td>Short</td>\n",
       "      <td>Pillow</td>\n",
       "      <td>2024</td>\n",
       "      <td>3</td>\n",
       "      <td>tt32314842</td>\n",
       "      <td>Comedy</td>\n",
       "    </tr>\n",
       "    <tr>\n",
       "      <th>7268</th>\n",
       "      <td>Short</td>\n",
       "      <td>C*ck Block</td>\n",
       "      <td>2024</td>\n",
       "      <td>5</td>\n",
       "      <td>tt32314940</td>\n",
       "      <td>Comedy</td>\n",
       "    </tr>\n",
       "    <tr>\n",
       "      <th>7269</th>\n",
       "      <td>Short</td>\n",
       "      <td>Spot the Potted Plant</td>\n",
       "      <td>2024</td>\n",
       "      <td>4</td>\n",
       "      <td>tt32315880</td>\n",
       "      <td>Comedy</td>\n",
       "    </tr>\n",
       "    <tr>\n",
       "      <th>7270</th>\n",
       "      <td>Short</td>\n",
       "      <td>Kodar: The Primordial God of Light and Ether</td>\n",
       "      <td>2024</td>\n",
       "      <td>5</td>\n",
       "      <td>tt32316006</td>\n",
       "      <td>Comedy</td>\n",
       "    </tr>\n",
       "    <tr>\n",
       "      <th>7271</th>\n",
       "      <td>Short</td>\n",
       "      <td>Ash &amp; The Jacket</td>\n",
       "      <td>2023</td>\n",
       "      <td>6</td>\n",
       "      <td>tt32316037</td>\n",
       "      <td>Comedy</td>\n",
       "    </tr>\n",
       "  </tbody>\n",
       "</table>\n",
       "<p>7272 rows × 6 columns</p>\n",
       "</div>"
      ],
      "text/plain": [
       "       Tipo                                        Nombre  Anno_estreno  \\\n",
       "0     Movie                                    Multiverso          2024   \n",
       "1     Movie                                     Detour 95          2024   \n",
       "2     Movie                    The Legend of Johnny Jones          2024   \n",
       "3     Movie                               Slasher House 3          2024   \n",
       "4     Movie                     Clank and the Golden Scar          2024   \n",
       "...     ...                                           ...           ...   \n",
       "7267  Short                                        Pillow          2024   \n",
       "7268  Short                                    C*ck Block          2024   \n",
       "7269  Short                         Spot the Potted Plant          2024   \n",
       "7270  Short  Kodar: The Primordial God of Light and Ether          2024   \n",
       "7271  Short                              Ash & The Jacket          2023   \n",
       "\n",
       "     Mes_estreno     Id_peli  Genero  \n",
       "0              6  tt10225380  Action  \n",
       "1             10  tt10844184  Action  \n",
       "2             10  tt10928904  Action  \n",
       "3              3  tt11078340  Action  \n",
       "4             10  tt11374514  Action  \n",
       "...          ...         ...     ...  \n",
       "7267           3  tt32314842  Comedy  \n",
       "7268           5  tt32314940  Comedy  \n",
       "7269           4  tt32315880  Comedy  \n",
       "7270           5  tt32316006  Comedy  \n",
       "7271           6  tt32316037  Comedy  \n",
       "\n",
       "[7272 rows x 6 columns]"
      ]
     },
     "execution_count": 131,
     "metadata": {},
     "output_type": "execute_result"
    }
   ],
   "source": [
    "# Importamos los datos extraidos de la Fase 1 que estan en formato CSV y os convertimos a DataFrame\n",
    "Fase1 = pd.read_csv('Fase1.csv')\n",
    "Fase1"
   ]
  },
  {
   "cell_type": "code",
   "execution_count": 133,
   "metadata": {},
   "outputs": [],
   "source": [
    "# Extraemos la información de la columna 'Id_peli' y la guardamos en la variable 'lista_id'\n",
    "lista_id = list(Fase1['Id_peli'])\n",
    "\n",
    "#Extraemos la información de las columnas 'Nombre' y 'Anno_estrenao' y las guardamos en las variables 'lista_pelis_cortos' y 'annos_pelis_cortos'\n",
    "lista_nombre_pelis = list(Fase1['Nombre'])\n",
    "lista_anno_pelis = list(Fase1['Anno_estreno'])\n",
    "#Unimos esas dos listas en un zip que utilizaremos para buscar dentro de Rotten Tomatoes\n",
    "zip_pelis_cortos= list(zip(lista_nombre_pelis, lista_anno_pelis))"
   ]
  },
  {
   "cell_type": "code",
   "execution_count": 135,
   "metadata": {},
   "outputs": [],
   "source": [
    "mini_lista = lista_id[0:5]"
   ]
  },
  {
   "cell_type": "code",
   "execution_count": 136,
   "metadata": {},
   "outputs": [],
   "source": [
    "#Estas serían las listas extraídas de la Fase 1: del csv sacamos una lista con todos los títulos y otra con todos los años\n",
    "mini_lista_nombre_pelis= lista_nombre_pelis[0:5]\n",
    "mini_lista_anno_pelis=lista_anno_pelis[0:5]\n",
    "\n",
    "#Unimos esas dos listas en un zip que utilizaremos para buscar dentro de Rotten Tomatoes\n",
    "mini_zip_pelis_cortos= list(zip(mini_lista_nombre_pelis, mini_lista_anno_pelis))"
   ]
  },
  {
   "cell_type": "code",
   "execution_count": 138,
   "metadata": {},
   "outputs": [],
   "source": [
    "# creamos listas para almacenar la información obtetina de las webs\n",
    "lista_punt_IMDB = []\n",
    "lista_punt_tomato = []\n",
    "lista_dire = []\n",
    "lista_guionistas = []\n",
    "lista_argumento = []\n",
    "lista_duracion = []\n",
    "\n",
    "# lista_nombre pelis -> esta lista ya se ha creado extrayendo información de la Fase1"
   ]
  },
  {
   "cell_type": "code",
   "execution_count": 139,
   "metadata": {},
   "outputs": [],
   "source": [
    "# Inicializa el navegador Chrome\n",
    "driver = webdriver.Chrome()\n",
    "\n",
    "# Navega a la página web \"http://www.imdb.com\"\n",
    "driver.get(\"http://www.imdb.com\")\n",
    "\n",
    "# Maximizar la ventana del navegador\n",
    "driver.maximize_window()\n",
    "\n",
    "# Acepta las cookies haciendo clic en el elemento con el selector CSS\n",
    "driver.find_element(\"css selector\", \"#__next > div > div > div.sc-jrcTuL.bPmWiM > div > button.icb-btn.sc-bcXHqe.sc-dkrFOg.sc-iBYQkv.dcvrLS.ddtuHe.dRCGjd\").click()\n",
    "\n",
    "sleep(5)\n",
    "\n",
    "#Iniciamos loop for para iterar en la lista de todas las películas\n",
    "for peli in mini_lista:\n",
    "\n",
    "    # Introducimos el número de ID de la peli en el buscador de la web\n",
    "    driver.find_element('css selector', '#suggestion-search').send_keys(peli, Keys.ENTER)\n",
    "    sleep(2)\n",
    "\n",
    "\n",
    "    #Buscamos la información de las puntaciones de cada película\n",
    "    #Empezamos un try/except loop per si hay películas que no tienen puntuación. En este caso appendearemos NULL en la lista\n",
    "    try:\n",
    "        lista_punt_IMDB.append(float(driver.find_element('css selector', '#__next > main > div > section.ipc-page-background.ipc-page-background--base.sc-304f99f6-0.fSJiHR > section > div:nth-child(5) > section > section > div.sc-92625f35-3.frxYSZ > div.sc-3a4309f8-0.bjXIAP.sc-b7c53eda-1.iIQkEw > div > div:nth-child(1) > a > span > div > div.sc-bde20123-0.dLwiNw > div.sc-bde20123-2.cdQqzc > span.sc-bde20123-1.cMEQkK').text))\n",
    "    except:\n",
    "        lista_punt_IMDB.append(None)\n",
    "\n",
    "\n",
    "    #Buscamos la información de los directorters de cada película  \n",
    "    # Definimos los valores iniciales de nuestras variables para iniciar un loop while que serán:\n",
    "    # un contador i y una lista vacía donde guardar todos los directores de ésta película\n",
    "    i=0\n",
    "    directores=[]\n",
    "    #Iniciamos el loop while\n",
    "    while True:  \n",
    "        i+=1\n",
    "        # Iniciamos try/expect loop para que cuando no tengamos más directores dé error y salganmos del loop while\n",
    "        try:\n",
    "            directores.append(driver.find_element('xpath', f'//*[@id=\"__next\"]/main/div/section[1]/section/div[3]/section/section/div[3]/div[2]/div[1]/section/div[2]/div/ul/li[1]/div/ul/li[{i}]/a').text)\n",
    "        except:\n",
    "            break\n",
    "    #Appendeamos la lista de directores de esta película en la lista general de directores\n",
    "    if len(directores)!=0:\n",
    "        lista_dire.append(directores)\n",
    "    else:\n",
    "        lista_dire.append(None)\n",
    "\n",
    "\n",
    "    #Buscamos la información de los guionistas de cada película  \n",
    "    # Definimos los valores iniciales de nuestras variables para iniciar un loop while que serán:\n",
    "    # un contador i y una lista vacía donde guardar todos los guionistas de ésta película\n",
    "    i=0\n",
    "    guionistas=[]\n",
    "    #Iniciamos el loop while\n",
    "    while True:  \n",
    "        i+=1\n",
    "        # Iniciamos try/expect loop para que cuando no tengamos más guionistas dé error y salganmos del loop while\n",
    "        try:\n",
    "            guionistas.append(driver.find_element('xpath', f'/html/body/div[2]/main/div/section[1]/section/div[3]/section/section/div[3]/div[2]/div[1]/section/div[2]/div/ul/li[2]/div/ul/li[{i}]/a').text)\n",
    "        except:\n",
    "            break\n",
    "    #Appendeamos la lista de guinistas de esta película en la lista general de guionistas\n",
    "    if len(guionistas)!=0:\n",
    "        lista_guionistas.append(guionistas)\n",
    "    else:\n",
    "        lista_guionistas.append(None)\n",
    "\n",
    "\n",
    "    #Buscamos el argumento de cada película  \n",
    "    #Empezamos un try/except loop per si hay películas que no tienen puntuación. En este caso appendearemos NULL en la lista\n",
    "    try:\n",
    "        lista_argumento.append(driver.find_element(\"xpath\", '//*[@id=\"__next\"]/main/div/section[1]/section/div[3]/section/section/div[3]/div[2]/div[1]/section/p/span[3]').text)\n",
    "    except:          \n",
    "        lista_argumento.append(None)\n",
    "\n",
    "\n",
    "    #Buscamos la duración de cada película en minutos \n",
    "    # Definimos las variables que necesitaremos\n",
    "    # duracion = []\n",
    "    #Creamos lista en la que guardaremos los dígitos de las horas y los minutos\n",
    "    horas_y_minutos=[]\n",
    "\n",
    "    # Iniciamos try/expect loop para que busque la sección. Si la encuenta la appendea en seccion_duracion, de lo contrario, appendea None.\n",
    "    try:\n",
    "        duracion = driver.find_element('css selector', '#__next > main > div > section.ipc-page-background.ipc-page-background--base.sc-304f99f6-0.fSJiHR > section > div:nth-child(5) > section > section > div.sc-92625f35-3.frxYSZ > div.sc-b7c53eda-0.dUpRPQ').text\n",
    "    except:\n",
    "        duracion = 'NULL'\n",
    "\n",
    "    #De la sección, nos devuelve una lista con todos los campos. Hacemos un regex para extraer las horas y los minutos.\n",
    "    #Buscamos el patrón \"Xh Ymin\": un número seguido de 'h', seguido de 0 o más espacios, seguido de otro número y 'min'\n",
    "    patron = r'(\\d+)h\\s*(\\d+)min|(\\d+)h\\s*(\\d+)m'\n",
    "    \n",
    "    #Dentro de cada sección, buscamos por texto, que es cada parte de la sección (título, año, duración)\n",
    "    #Buscamos el patrón definido dentro de cada parte de la sección, y lo guardamos en la variable 'match'\n",
    "    match=re.search(patron, duracion)\n",
    "    if match:\n",
    "        #Si ha encontrado el patrón, guarda el primer grupo de captura (\\d+) en la variable 'horas' y el segundo (\\d+) en la variable 'minutos'\n",
    "        horas=match.group(1)\n",
    "        minutos=match.group(2)\n",
    "        horas_y_minutos.append((int(horas), int(minutos)))\n",
    "    else:\n",
    "        #Si no existe la duración en la sección, appendeamos None\n",
    "        horas_y_minutos.append(None)\n",
    "\n",
    "        \n",
    "    #Ahora, el contenido de horas_y_minutos es [(2, 2), (1, 30), (1, 47), (1, 44), ('NULL)]. Vamos a pasarlo a minutos.\n",
    "    #Creamos variable para guardar los minutos, de la que beberá la lista_duracion\n",
    "    duracion_minutos=[]\n",
    "    #Iteramos horas_y_minutos\n",
    "    for tiempo in horas_y_minutos:\n",
    "        #Si es 'NULL', appendeamos None\n",
    "        if tiempo == None:\n",
    "            duracion_minutos.append(None)\n",
    "        #Se puede dar el caso de que sólo haya un dígito, por ejemplo 2 (2 horas exactas). De ser así, multiplicamos las horas por 60.\n",
    "        elif len(tiempo)==1:\n",
    "            duracion_minutos.append(tiempo[0]*60)\n",
    "        else:\n",
    "            #Si hay más de un dígito, multiplicamos el primero por 60 y le sumamos los minutos.\n",
    "            duracion_minutos.append((tiempo[0]*60) + (tiempo[1]))\n",
    "        \n",
    "    #Por último, appendeamos la lista final con los minutos totales\n",
    "    lista_duracion.append(duracion_minutos)  \n",
    "            \n",
    "#Cerramos el navegador      \n",
    "driver.close()   "
   ]
  },
  {
   "cell_type": "code",
   "execution_count": 140,
   "metadata": {},
   "outputs": [
    {
     "name": "stderr",
     "output_type": "stream",
     "text": [
      "100%|██████████| 5/5 [04:17<00:00, 51.45s/it] \n"
     ]
    }
   ],
   "source": [
    "#1. Entramos en la website the 'rotten tomatoes' y aceptamos cookies\n",
    "driver=webdriver.Chrome()\n",
    "driver.get('https://www.rottentomatoes.com/')\n",
    "driver.maximize_window()\n",
    "driver.find_element('css selector', '#onetrust-accept-btn-handler').click()\n",
    "sleep(3)\n",
    "\n",
    "#2. Iteramos el zip para extraer su puntuación\n",
    "for titulo, año in tqdm(mini_zip_pelis_cortos):\n",
    "\n",
    "    #Intentamos buscar por el título; si existe entra en el primer resultado; de lo contrario, appenda un mensaje de None (ponemos NULL para que las futuras consultas en SQL sean más prácticas)\n",
    "    try: #bBuscamos la peli por título y año en la barra del buscador\n",
    "        driver.find_element('css selector', '#header-main > search-algolia > search-algolia-controls > input').send_keys(f'{titulo} {año}', Keys.ENTER)\n",
    "        sleep(3) #Hacemos click en el primer resultado\n",
    "        driver.find_element('css selector', '#search-results > search-page-result:nth-child(2) > ul > search-page-media-row:nth-child(1) > a:nth-child(2)').click()\n",
    "        sleep(3)\n",
    "        try: #busca el tomatómetro y, si existe, lo appendea en la lista_punt_tomato\n",
    "            lista_punt_tomato.append(driver.find_element('css selector', '#modules-wrap > div.media-scorecard.no-border > media-scorecard > rt-button:nth-child(3) > rt-text').text)\n",
    "        except: #si no tiene tomatómetro, appendea None\n",
    "            lista_punt_tomato.append(None)\n",
    "        sleep(3)\n",
    "    except: #si la peli no existe devuelve mensaje None\n",
    "        lista_punt_tomato.append(None)\n",
    "\n",
    "#Cerramos el navegador      \n",
    "driver.close() "
   ]
  },
  {
   "cell_type": "code",
   "execution_count": 141,
   "metadata": {},
   "outputs": [
    {
     "data": {
      "text/plain": [
       "5"
      ]
     },
     "execution_count": 141,
     "metadata": {},
     "output_type": "execute_result"
    }
   ],
   "source": [
    "#Creamos un zip con las listas que hemos creado para que nos guarde la infoamción de cada una de las pelis en una tupla\n",
    "zip_fase2 = zip(lista_id, lista_punt_IMDB, lista_punt_tomato, lista_dire, lista_guionistas, lista_argumento, lista_duracion, lista_nombre_pelis)\n",
    "lista_tuplas_fase2 = list(zip_fase2)\n",
    "len(lista_tuplas_fase2)"
   ]
  },
  {
   "cell_type": "code",
   "execution_count": 142,
   "metadata": {},
   "outputs": [],
   "source": [
    "# Convertimos la lista de tuplas con la informacion a Data Frame y luego lo exportamos con un fichero formato .csv\n",
    "df_fase2=pd.DataFrame(lista_tuplas_fase2)\n",
    "df_fase2.columns = ['Id_peli','Punt_IMDB', 'Tomatometer', 'Direccion', 'Guionistas', 'Argumento','Duracion', 'Nombre']\n",
    "df_fase2.to_csv(\"Fase2.csv\", index=False)"
   ]
  },
  {
   "cell_type": "code",
   "execution_count": 143,
   "metadata": {},
   "outputs": [
    {
     "data": {
      "text/html": [
       "<div>\n",
       "<style scoped>\n",
       "    .dataframe tbody tr th:only-of-type {\n",
       "        vertical-align: middle;\n",
       "    }\n",
       "\n",
       "    .dataframe tbody tr th {\n",
       "        vertical-align: top;\n",
       "    }\n",
       "\n",
       "    .dataframe thead th {\n",
       "        text-align: right;\n",
       "    }\n",
       "</style>\n",
       "<table border=\"1\" class=\"dataframe\">\n",
       "  <thead>\n",
       "    <tr style=\"text-align: right;\">\n",
       "      <th></th>\n",
       "      <th>Id_peli</th>\n",
       "      <th>Punt_IMDB</th>\n",
       "      <th>Tomatometer</th>\n",
       "      <th>Direccion</th>\n",
       "      <th>Guionistas</th>\n",
       "      <th>Argumento</th>\n",
       "      <th>Duracion</th>\n",
       "      <th>Nombre</th>\n",
       "    </tr>\n",
       "  </thead>\n",
       "  <tbody>\n",
       "    <tr>\n",
       "      <th>0</th>\n",
       "      <td>True</td>\n",
       "      <td>False</td>\n",
       "      <td>True</td>\n",
       "      <td>True</td>\n",
       "      <td>True</td>\n",
       "      <td>True</td>\n",
       "      <td>True</td>\n",
       "      <td>True</td>\n",
       "    </tr>\n",
       "    <tr>\n",
       "      <th>1</th>\n",
       "      <td>True</td>\n",
       "      <td>False</td>\n",
       "      <td>True</td>\n",
       "      <td>True</td>\n",
       "      <td>True</td>\n",
       "      <td>True</td>\n",
       "      <td>True</td>\n",
       "      <td>True</td>\n",
       "    </tr>\n",
       "    <tr>\n",
       "      <th>2</th>\n",
       "      <td>True</td>\n",
       "      <td>False</td>\n",
       "      <td>True</td>\n",
       "      <td>True</td>\n",
       "      <td>True</td>\n",
       "      <td>True</td>\n",
       "      <td>True</td>\n",
       "      <td>True</td>\n",
       "    </tr>\n",
       "    <tr>\n",
       "      <th>3</th>\n",
       "      <td>True</td>\n",
       "      <td>False</td>\n",
       "      <td>False</td>\n",
       "      <td>True</td>\n",
       "      <td>True</td>\n",
       "      <td>True</td>\n",
       "      <td>True</td>\n",
       "      <td>True</td>\n",
       "    </tr>\n",
       "    <tr>\n",
       "      <th>4</th>\n",
       "      <td>True</td>\n",
       "      <td>False</td>\n",
       "      <td>False</td>\n",
       "      <td>True</td>\n",
       "      <td>True</td>\n",
       "      <td>True</td>\n",
       "      <td>True</td>\n",
       "      <td>True</td>\n",
       "    </tr>\n",
       "  </tbody>\n",
       "</table>\n",
       "</div>"
      ],
      "text/plain": [
       "   Id_peli  Punt_IMDB  Tomatometer  Direccion  Guionistas  Argumento  \\\n",
       "0     True      False         True       True        True       True   \n",
       "1     True      False         True       True        True       True   \n",
       "2     True      False         True       True        True       True   \n",
       "3     True      False        False       True        True       True   \n",
       "4     True      False        False       True        True       True   \n",
       "\n",
       "   Duracion  Nombre  \n",
       "0      True    True  \n",
       "1      True    True  \n",
       "2      True    True  \n",
       "3      True    True  \n",
       "4      True    True  "
      ]
     },
     "execution_count": 143,
     "metadata": {},
     "output_type": "execute_result"
    }
   ],
   "source": [
    "df_fase2.notnull()"
   ]
  },
  {
   "cell_type": "markdown",
   "metadata": {},
   "source": [
    "## TESTEANDO 👇🏻"
   ]
  },
  {
   "cell_type": "code",
   "execution_count": 144,
   "metadata": {},
   "outputs": [
    {
     "data": {
      "text/plain": [
       "[None, None, None, None, None]"
      ]
     },
     "execution_count": 144,
     "metadata": {},
     "output_type": "execute_result"
    }
   ],
   "source": [
    "lista_punt_IMDB \n"
   ]
  },
  {
   "cell_type": "code",
   "execution_count": 145,
   "metadata": {},
   "outputs": [
    {
     "data": {
      "text/plain": [
       "['90%', '90%', '13%', None, None]"
      ]
     },
     "execution_count": 145,
     "metadata": {},
     "output_type": "execute_result"
    }
   ],
   "source": [
    "lista_punt_tomato \n"
   ]
  },
  {
   "cell_type": "code",
   "execution_count": 146,
   "metadata": {},
   "outputs": [
    {
     "data": {
      "text/plain": [
       "[['Juanjo Martínez'],\n",
       " ['James Twyman'],\n",
       " ['James Twyman'],\n",
       " ['Mj Dixon'],\n",
       " ['Pauli Janhunen Calderón']]"
      ]
     },
     "execution_count": 146,
     "metadata": {},
     "output_type": "execute_result"
    }
   ],
   "source": [
    "lista_dire \n"
   ]
  },
  {
   "cell_type": "code",
   "execution_count": 147,
   "metadata": {},
   "outputs": [
    {
     "data": {
      "text/plain": [
       "[['Juanjo Martínez'],\n",
       " ['Matthew Clark \"Ghost\"', 'Tesha Clark'],\n",
       " ['Matthew Clark \"Ghost\"', 'Tesha Clark'],\n",
       " ['Mj Dixon'],\n",
       " ['Pauli Janhunen Calderón', 'David Anghel']]"
      ]
     },
     "execution_count": 147,
     "metadata": {},
     "output_type": "execute_result"
    }
   ],
   "source": [
    "lista_guionistas \n"
   ]
  },
  {
   "cell_type": "code",
   "execution_count": 148,
   "metadata": {},
   "outputs": [
    {
     "data": {
      "text/plain": [
       "['A drama, which explores unknown earths of the DC Universe.',\n",
       " 'Candace leaves northern New Jersey for Miami, Florida, to escape the violence and poverty; she quickly finds herself fighting for her life in a redneck nightmare.',\n",
       " 'Set in the housing projects of New Jersey. A young man who has known only poverty and abuse all his life suffers a mental breakdown and embarks on a killing spree unlike any other in history.',\n",
       " \"It's out of the frying pan and into the fire for our heroes as they discover the truth behind Project Slasher House and H.E.X.A.G.O.N. where Red makes her last stand against an army of Government ops and NEW deadlier killers, the truth will finally be revealed.\",\n",
       " 'Two missions taking place simultaneously in different decades where both C.I.S. Agents going under the alias Clank went up against the dangerous crime lord known as Goldscar.']"
      ]
     },
     "execution_count": 148,
     "metadata": {},
     "output_type": "execute_result"
    }
   ],
   "source": [
    "lista_argumento\n"
   ]
  },
  {
   "cell_type": "code",
   "execution_count": 149,
   "metadata": {},
   "outputs": [
    {
     "data": {
      "text/plain": [
       "[[None], [None], [None], [None], [None]]"
      ]
     },
     "execution_count": 149,
     "metadata": {},
     "output_type": "execute_result"
    }
   ],
   "source": [
    "lista_duracion "
   ]
  },
  {
   "cell_type": "code",
   "execution_count": 150,
   "metadata": {},
   "outputs": [],
   "source": [
    "# # Inicializa el navegador Chrome\n",
    "# driver = webdriver.Chrome()\n",
    "\n",
    "# # Navega a la página web \"http://www.imdb.com\"\n",
    "# driver.get(\"http://www.imdb.com\")\n",
    "\n",
    "# # Maximizar la ventana del navegador\n",
    "# driver.maximize_window()\n",
    "\n",
    "# # Acepta las cookies haciendo clic en el elemento con el selector CSS\n",
    "# driver.find_element(\"css selector\", \"#__next > div > div > div.sc-jrcTuL.bPmWiM > div > button.icb-btn.sc-bcXHqe.sc-dkrFOg.sc-iBYQkv.dcvrLS.ddtuHe.dRCGjd\").click()\n",
    "\n",
    "# sleep(5)\n",
    "\n",
    "# #Iniciamos loop for para iterar en la lista de todas las películas\n",
    "# for peli in mini_lista:\n",
    "#      # Iniciamos try/expect loop para que busque la sección. Si la encuenta la appendea en seccion_duracion, de lo contrario, appendea 'NULL'.\n",
    "#     # Introducimos el número de ID de la peli en el buscador de la web\n",
    "#     driver.find_element('css selector', '#suggestion-search').send_keys(peli, Keys.ENTER)\n",
    "#     sleep(2)\n",
    "   \n",
    "   \n",
    "#     try:\n",
    "#         seccion_duracion.append(driver.find_element('css selector', '#__next > main > div > section.ipc-page-background.ipc-page-background--base.sc-304f99f6-0.fSJiHR > section > div:nth-child(5) > section > section > div.sc-92625f35-3.frxYSZ > div.sc-b7c53eda-0.dUpRPQ').text)\n",
    "#     except:\n",
    "#         seccion_duracion.append('NULL')\n",
    "   \n",
    "#     print(seccion_duracion)\n",
    "\n",
    "#     if seccion_duracion == 'NULL':\n",
    "#         lista_duracion.append('NULL')\n",
    "\n",
    "#     else:\n",
    "\n",
    "#         patron = r'(\\d+)h\\s*(\\d+)min|(\\d+)h\\s*(\\d+)m'\n",
    "#         #Creamos lista en la que guardaremos los dígitos de las horas y los minutos\n",
    "#         horas_y_minutos=[]\n",
    "#         #Iteramos la lista de secciones que sacamos en el paso anterior\n",
    "#         for i in seccion_duracion:\n",
    "#             print(i)\n",
    "#             #Dentro de cada sección, buscamos por texto, que es cada parte de la sección (título, año, duración)\n",
    "#             #Buscamos el patrón definido dentro de cada parte de la sección, y lo guardamos en la variable 'match'\n",
    "#             match=re.search(patron, i)\n",
    "        \n",
    "#             if match:\n",
    "#                 #Si ha encontrado el patrón, guarda el primer grupo de captura (\\d+) en la variable 'horas' y el segundo (\\d+) en la variable 'minutos'\n",
    "#                 horas=match.group(1)\n",
    "#                 print(horas)\n",
    "#                 minutos=match.group(2)\n",
    "#                 print(minutos)\n",
    "#                 horas_y_minutos.append((int(horas), int(minutos)))\n",
    "#                 print(horas_y_minutos)\n",
    "#             else:\n",
    "#                 #Si no existe la duración en la sección, appendeamos 'NULL'\n",
    "#                 horas_y_minutos.append(None)\n",
    "\n",
    "# #Cerramos el navegador      \n",
    "# driver.close() "
   ]
  }
 ],
 "metadata": {
  "kernelspec": {
   "display_name": "base",
   "language": "python",
   "name": "python3"
  },
  "language_info": {
   "codemirror_mode": {
    "name": "ipython",
    "version": 3
   },
   "file_extension": ".py",
   "mimetype": "text/x-python",
   "name": "python",
   "nbconvert_exporter": "python",
   "pygments_lexer": "ipython3",
   "version": "3.9.7"
  }
 },
 "nbformat": 4,
 "nbformat_minor": 2
}
