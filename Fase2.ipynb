{
 "cells": [
  {
   "cell_type": "markdown",
   "metadata": {},
   "source": [
    "# Fase 2: Extracción de Detalles de Películas con Selenium"
   ]
  },
  {
   "cell_type": "markdown",
   "metadata": {},
   "source": [
    "WEBS\n",
    "- IMDB: https://www.imdb.com/\n",
    "- Rotten Tomatoes: https://www.rottentomatoes.com/"
   ]
  },
  {
   "cell_type": "markdown",
   "metadata": {},
   "source": [
    "- Puntuacion de IMDB (en caso de que la tenga). ✅\n",
    "\n",
    "- Puntuacion de Rotten Tomatoes (Tomatometer).\n",
    "\n",
    "- Dirección (director/a o directore/as de cada película). ✅\n",
    "\n",
    "- Gionistas (de cada película). ✅\n",
    "\n",
    "- Argumento.\n",
    "\n",
    "- Duración (en minutos).\n",
    "\n",
    "- Nombre de la película"
   ]
  },
  {
   "cell_type": "code",
<<<<<<< HEAD
   "execution_count": 4,
=======
   "execution_count": 90,
>>>>>>> Rama_Isa_01
   "metadata": {},
   "outputs": [],
   "source": [
    "#Importamos las librerias necesarias\n",
    "from bs4 import BeautifulSoup\n",
    "import pandas as pd\n",
    "import requests\n",
    "import re\n",
    "from time import sleep\n",
    "\n",
    "#importamos librerias de selenium\n",
    "from selenium import webdriver\n",
    "from webdriver_manager.chrome import ChromeDriverManager\n",
    "from selenium.webdriver.common.keys import Keys\n",
    "from selenium.webdriver.support.ui import Select\n",
    "\n",
    "# Importar librerías para pausar la ejecución\n",
    "# -----------------------------------------------------------------------\n",
    "from time import sleep  # Sleep se utiliza para pausar la ejecución del programa por un número de segundos.\n",
    "\n",
<<<<<<< HEAD
=======
    "#Imoprtamos librería para ver el % de avance\n",
    "from tqdm import tqdm\n",
    "\n",
>>>>>>> Rama_Isa_01
    "# Configuraciones\n",
    "# -----------------------------------------------------------------------\n",
    "pd.set_option('display.max_columns', None)  # Establece una opción de Pandas para mostrar todas las columnas de un DataFrame."
   ]
  },
  {
   "cell_type": "code",
<<<<<<< HEAD
   "execution_count": 6,
=======
   "execution_count": 74,
>>>>>>> Rama_Isa_01
   "metadata": {},
   "outputs": [],
   "source": [
    "mini_lista = ['tt10579986',\n",
    " 'tt10597228',\n",
    " 'tt11097384',\n",
    " 'tt11152168',\n",
    " 'tt11237950']"
   ]
  },
  {
   "cell_type": "code",
<<<<<<< HEAD
   "execution_count": 7,
=======
   "execution_count": 84,
>>>>>>> Rama_Isa_01
   "metadata": {},
   "outputs": [],
   "source": [
    "# creamos listas para almacenar la información obtetina de las webs\n",
    "lista_punt_IMDB = []\n",
    "lista_punt_tomato = []\n",
    "lista_dire = []\n",
    "lista_guionistas = []\n",
    "lista_argumento = []\n",
    "lista_duracion = []"
   ]
  },
  {
<<<<<<< HEAD
   "cell_type": "code",
   "execution_count": 8,
=======
   "cell_type": "markdown",
   "metadata": {},
   "source": [
    "Isa: añado al código la parte de sacar la duración, diferenciada porque está entre:\n",
    "\n",
    "#-------------------------------------------------------------------------\n",
    "\n",
    "#-------------------------------------------------------------------------"
   ]
  },
  {
   "cell_type": "code",
   "execution_count": 9,
>>>>>>> Rama_Isa_01
   "metadata": {},
   "outputs": [],
   "source": [
    "# Inicializa el navegador Chrome\n",
    "driver = webdriver.Chrome()\n",
    "\n",
    "# Navega a la página web \"http://www.imdb.com\"\n",
    "driver.get(\"http://www.imdb.com\")\n",
    "\n",
    "# Maximizar la ventana del navegador\n",
    "driver.maximize_window()\n",
    "\n",
    "# Acepta las cookies haciendo clic en el elemento con el selector CSS\n",
    "driver.find_element(\"css selector\", \"#__next > div > div > div.sc-jrcTuL.bPmWiM > div > button.icb-btn.sc-bcXHqe.sc-dkrFOg.sc-iBYQkv.dcvrLS.ddtuHe.dRCGjd\").click()\n",
    "\n",
    "sleep(5)\n",
    "\n",
<<<<<<< HEAD
=======
    "#-------------------------------------------------------------------------\n",
    "#Para buscar la duración de cada película, tengo que crear aquí (fuera del for) la lista porque si no la sobreescribe.\n",
    "#Hay demasiadas variables de selectores y, además en algunos casos imprime R/PG. Así que sacamos la sección entera y, de ella, extraemos la duración\n",
    "#Creamos lista vacía para guardar esa sección\n",
    "seccion_duracion=[]\n",
    "#-------------------------------------------------------------------------\n",
    "\n",
>>>>>>> Rama_Isa_01
    "#Iniciamos loop for para iterar en la lista de todas las películas\n",
    "for peli in mini_lista:\n",
    "\n",
    "    # Introducimos el número de ID de la peli en el buscador de la web\n",
    "    driver.find_element('css selector', '#suggestion-search').send_keys(peli, Keys.ENTER)\n",
    "    sleep(2)\n",
    "\n",
    "\n",
    "    #Buscamos la información de las puntaciones de cada película\n",
<<<<<<< HEAD
    "    #Empezamos un try/except loop per si hay películas que no tienen puntuación. En este caso appendearemos NULL en la lista\n",
=======
    "    #Empezamos un try/except loop por si hay películas que no tienen puntuación. En este caso appendearemos NULL en la lista\n",
>>>>>>> Rama_Isa_01
    "    try:\n",
    "        lista_punt_IMDB.append(float(driver.find_element('css selector', '#__next > main > div > section.ipc-page-background.ipc-page-background--base.sc-304f99f6-0.fSJiHR > section > div:nth-child(5) > section > section > div.sc-92625f35-3.frxYSZ > div.sc-3a4309f8-0.bjXIAP.sc-b7c53eda-1.iIQkEw > div > div:nth-child(1) > a > span > div > div.sc-bde20123-0.dLwiNw > div.sc-bde20123-2.cdQqzc > span.sc-bde20123-1.cMEQkK').text))\n",
    "    except:\n",
    "        lista_punt_IMDB.append('NULL')\n",
    "\n",
    "\n",
<<<<<<< HEAD
    "    #Buscamos la información de los directorters de cada película  \n",
=======
    "    #Buscamos la información de los directores de cada película  \n",
>>>>>>> Rama_Isa_01
    "    # Definimos los valores iniciales de nuestras variables para iniciar un loop while que serán:\n",
    "    # un contador i y una lista vacía donde guardar todos los directores de ésta película\n",
    "    i=0\n",
    "    directores=[]\n",
    "    #Iniciamos el loop while\n",
    "    while True:  \n",
    "        i+=1\n",
    "        # Iniciamos try/expect loop para que cuando no tengamos más directores dé error y salganmos del loop while\n",
    "        try:\n",
    "            directores.append(driver.find_element('xpath', f'//*[@id=\"__next\"]/main/div/section[1]/section/div[3]/section/section/div[3]/div[2]/div[1]/section/div[2]/div/ul/li[1]/div/ul/li[{i}]/a').text)\n",
    "        except:\n",
    "            break\n",
    "    #Appendeamos la lista de directores de esta película en la lista general de directores\n",
    "    lista_dire.append(directores)\n",
    "\n",
    "\n",
    "    #Buscamos la información de los guionistas de cada película  \n",
    "    # Definimos los valores iniciales de nuestras variables para iniciar un loop while que serán:\n",
    "    # un contador i y una lista vacía donde guardar todos los guionistas de ésta película\n",
    "    i=0\n",
    "    guionistas=[]\n",
    "    #Iniciamos el loop while\n",
    "    while True:  \n",
    "        i+=1\n",
    "        # Iniciamos try/expect loop para que cuando no tengamos más guionistas dé error y salganmos del loop while\n",
    "        try:\n",
    "            guionistas.append(driver.find_element('xpath', f'/html/body/div[2]/main/div/section[1]/section/div[3]/section/section/div[3]/div[2]/div[1]/section/div[2]/div/ul/li[2]/div/ul/li[{i}]/a').text)\n",
    "        except:\n",
    "            break\n",
    "    #Appendeamos la lista de guinistas de esta película en la lista general de guionistas\n",
    "    lista_guionistas.append(guionistas)\n",
    "\n",
    "\n",
    "    #Buscamos el argumento de cada película  \n",
<<<<<<< HEAD
    "    #Empezamos iniciando un while loop para ir haciendo scroll down hasta encontrar la parte de la web donde esta el argumento\n",
=======
    "    #Empezamos iniciando un while loop para ir haciendo scroll down hasta encontrar la parte de la web donde está el argumento\n",
>>>>>>> Rama_Isa_01
    "    #Definimos el valor de las variables que usaremos en el while loop\n",
    "    i=0\n",
    "    #Iniciamos el loop while\n",
    "    while True:\n",
    "        #Incluimos un máximo de scroll down por si no alguna película no tiene argumento\n",
    "        if i<5000:\n",
    "            try:\n",
    "                #Hacemos scroll down\n",
    "                driver.execute_script(f'window.scrollTo(0,{i})')\n",
    "                sleep(3)\n",
    "                #Appendeamos el argumento a la lista de argumentos\n",
    "                lista_argumento.append(driver.find_element('xpath','/html/body/div[2]/main/div/section[1]/div/section/div/div[1]/section[3]/div[2]/div[1]/div/div/div').text)\n",
    "                break\n",
    "            except:\n",
    "                #Si no se ha encontrado el argumento añadimos 500 pixeles más para hacer scroll down\n",
    "                i+=500\n",
    "        else:\n",
    "            lista_argumento.append('NULL')\n",
    "            break\n",
    "    #Hacemos scroll up para volver al inicio de la página y poder seguir con la búsqueda de info\n",
    "    driver.execute_script(f'window.scrollTo({i},0)')\n",
    "\n",
<<<<<<< HEAD
    "    \n",
    "\n",
    "\n",
    "driver.close()   "
=======
    "    #-------------------------------------------------------------------------\n",
    "    ##########Aquí iría la variable seccion_duracion=[] pero si la pongo aquí sólo me guarda la última, si la dejo arriba, fuera del for sí guarda todas las pelis.\n",
    "    # Iniciamos try/expect loop para que busque la sección. Si la encuenta la appendea en seccion_duracion, de lo contrario, appendea 'NULL'.\n",
    "    try:\n",
    "        seccion_duracion.append(driver.find_element('css selector', '#__next > main > div > section.ipc-page-background.ipc-page-background--base.sc-304f99f6-0.fSJiHR > section > div:nth-child(5) > section > section > div.sc-92625f35-3.frxYSZ > div.sc-b7c53eda-0.dUpRPQ').text)\n",
    "    except:\n",
    "        seccion_duracion.append('NULL')\n",
    "    \n",
    "    #De la sección, nos devuelve una lista con todos los campos. Hacemos un regex para extraer las horas y los minutos.\n",
    "    #Buscamos el patrón \"Xh Ymin\": un número seguido de 'h', seguido de 0 o más espacios, seguido de otro número y 'min'\n",
    "    patron = r'(\\d+)h\\s*(\\d+)min'\n",
    "    #Creamos lista en la que guardaremos los dígitos de las horas y los minutos\n",
    "    horas_y_minutos=[]\n",
    "    #Iteramos la lista de secciones que sacamos en el paso anterior\n",
    "    for i in seccion_duracion:\n",
    "        #Dentro de cada sección, buscamos por texto, que es cada parte de la sección (título, año, duración)\n",
    "        #Buscamos el patrón definido dentro de cada parte de la sección, y lo guardamos en la variable 'match'\n",
    "        match=re.search(patron, i)\n",
    "        if match:\n",
    "            #Si ha encontrado el patrón, guarda el primer grupo de captura (\\d+) en la variable 'horas' y el segundo (\\d+) en la variable 'minutos'\n",
    "            horas=match.group(1)\n",
    "            minutos=match.group(2)\n",
    "            horas_y_minutos.append((int(horas), int(minutos)))\n",
    "        else:\n",
    "            #Si no existe la duración en la sección, appendeamos 'NULL'\n",
    "            horas_y_minutos.append('NULL')\n",
    "\n",
    "        \n",
    "        #Ahora, el contenido de horas_y_minutos es [(2, 2), (1, 30), (1, 47), (1, 44), ('NULL)]. Vamos a pasarlo a minutos.\n",
    "        #Creamos variable para guardar los minutos, de la que beberá la lista_duracion\n",
    "        duracion_minutos=[]\n",
    "        #Iteramos horas_y_minutos\n",
    "        for i in horas_y_minutos:\n",
    "            #Si es 'NULL', appendeamos 'NULL'\n",
    "            if i == 'NULL':\n",
    "                duracion_minutos.append('NULL')\n",
    "            #Se puede dar el caso de que sólo haya un dígito, por ejemplo 2 (2 horas exactas). De ser así, multiplicamos las horas por 60.\n",
    "            elif len(i)==1:\n",
    "                duracion_minutos.append(i[0]*60)\n",
    "            else:\n",
    "                #Si hay más de un dígito, multiplicamos el primero por 60 y le sumamos los minutos.\n",
    "                duracion_minutos.append((i[0]*60) + (i[1]))\n",
    "        \n",
    "    #Por último, appendeamos la lista final con los minutos totales\n",
    "    lista_duracion.extend(duracion_minutos)\n",
    "    #-------------------------------------------------------------------------\n",
    "\n",
    "#driver.close()"
   ]
  },
  {
   "cell_type": "code",
   "execution_count": 8,
   "metadata": {},
   "outputs": [
    {
     "name": "stdout",
     "output_type": "stream",
     "text": [
      "['NULL', 'NULL', 'NULL', 'NULL', 'NULL']\n",
      "[]\n",
      "[['Rishiking'], ['Erik Krefeld', 'Eddel Martinez'], ['Johan Renck'], ['John Krasinski'], ['Frederick Keeve']]\n",
      "[['Rishiking'], ['Stevie Kinchen', 'Erik Krefeld'], ['Jaroslav Kalfar', 'Colby Day'], ['John Krasinski'], ['Frederick Keeve']]\n",
      "[\"A soul allegedly with a 20-year-old girl as her daughter, whom she wants to take with her and the elder sister's wants to stop the soul from doing so.\", \"This is a story about finding the courage to be one's self.\", 'NULL', 'NULL', \"Newly engaged lovers, Jason and Brandon return to Los Angeles after two years in New York after Brandon completes his contract as a dancer with the New York Ballet Company. While Jason goes back to work as a piano accompanist at the local ballet studio, Brandon transitions into teaching ballet students. Jason meets a stunningly good-looking dancer Devon with whom he has a strong connection who tries to convince him to help him with his career through the rumored magical healing power of Jason's piano music. Brandon's former partner, Adam, who was violent and abusive when they were together, is back in the picture and making a play for Brandon. Even though Adam has gotten his life together, he is still desperately in love with Brandon. As Jason and Brandon settle into their routine of work and daily life, memories of a tragic family car accident still haunt Jason. Jason's wish of having his children, Max and Isabella, back seems like it may become attainable through his ability to heal people and transcend time with his piano music. However, his inability to control the power of his music and his strong attraction to Devon brings unexpected consequences to the people he loves the most, including his ex-wife Karen and his true love, Brandon. The intersecting themes of karma, grief, loss, true love and reclaiming one's power combine in this fantasy/drama/romance to make a sizzling follow up to the award-winning film, The Accompanist, due in wide release September, 2020.\"]\n",
      "[]\n"
     ]
    }
   ],
   "source": [
    "print(lista_punt_IMDB)\n",
    "print(lista_punt_tomato)\n",
    "print(lista_dire)\n",
    "print(lista_guionistas)\n",
    "print(lista_argumento)\n",
    "print(lista_duracion)"
>>>>>>> Rama_Isa_01
   ]
  },
  {
   "cell_type": "markdown",
   "metadata": {},
   "source": [
    "## TESTEANDO 👇🏻"
   ]
  },
  {
   "cell_type": "code",
   "execution_count": 8,
   "metadata": {},
   "outputs": [
    {
     "ename": "InvalidArgumentException",
     "evalue": "Message: invalid argument: invalid locator\n  (Session info: chrome=124.0.6367.119)\nStacktrace:\n0   chromedriver                        0x000000010f218a18 chromedriver + 5216792\n1   chromedriver                        0x000000010f210653 chromedriver + 5183059\n2   chromedriver                        0x000000010ed82527 chromedriver + 406823\n3   chromedriver                        0x000000010edcd8a1 chromedriver + 714913\n4   chromedriver                        0x000000010edce181 chromedriver + 717185\n5   chromedriver                        0x000000010ee121d4 chromedriver + 995796\n6   chromedriver                        0x000000010edf072d chromedriver + 857901\n7   chromedriver                        0x000000010ee0f6bf chromedriver + 984767\n8   chromedriver                        0x000000010edf04a3 chromedriver + 857251\n9   chromedriver                        0x000000010edc0fe3 chromedriver + 663523\n10  chromedriver                        0x000000010edc192e chromedriver + 665902\n11  chromedriver                        0x000000010f1d6930 chromedriver + 4946224\n12  chromedriver                        0x000000010f1dc9e4 chromedriver + 4970980\n13  chromedriver                        0x000000010f1b742e chromedriver + 4817966\n14  chromedriver                        0x000000010f1dd4f9 chromedriver + 4973817\n15  chromedriver                        0x000000010f1a76b4 chromedriver + 4753076\n16  chromedriver                        0x000000010f1ffba8 chromedriver + 5114792\n17  chromedriver                        0x000000010f1ffd67 chromedriver + 5115239\n18  chromedriver                        0x000000010f210273 chromedriver + 5182067\n19  libsystem_pthread.dylib             0x00007fff207eb8fc _pthread_start + 224\n20  libsystem_pthread.dylib             0x00007fff207e7443 thread_start + 15\n",
     "output_type": "error",
     "traceback": [
      "\u001b[0;31m---------------------------------------------------------------------------\u001b[0m",
      "\u001b[0;31mInvalidArgumentException\u001b[0m                  Traceback (most recent call last)",
      "\u001b[0;32m/var/folders/g3/22l1jqy501nblpbhtydz9b0w0000gn/T/ipykernel_17681/2358799106.py\u001b[0m in \u001b[0;36m<module>\u001b[0;34m\u001b[0m\n\u001b[1;32m     23\u001b[0m \u001b[0;31m#         driver.execute_script(f'window.scrollTo(0,{i})')\u001b[0m\u001b[0;34m\u001b[0m\u001b[0;34m\u001b[0m\u001b[0m\n\u001b[1;32m     24\u001b[0m \u001b[0;31m#         sleep(2)\u001b[0m\u001b[0;34m\u001b[0m\u001b[0;34m\u001b[0m\u001b[0m\n\u001b[0;32m---> 25\u001b[0;31m \u001b[0mtext\u001b[0m\u001b[0;34m=\u001b[0m \u001b[0mdriver\u001b[0m\u001b[0;34m.\u001b[0m\u001b[0mfind_element\u001b[0m\u001b[0;34m(\u001b[0m\u001b[0;34m'div'\u001b[0m\u001b[0;34m,\u001b[0m\u001b[0;34m'class:{ipc-html-content-inner-div}'\u001b[0m\u001b[0;34m)\u001b[0m\u001b[0;34m\u001b[0m\u001b[0;34m\u001b[0m\u001b[0m\n\u001b[0m\u001b[1;32m     26\u001b[0m \u001b[0;31m#         break\u001b[0m\u001b[0;34m\u001b[0m\u001b[0;34m\u001b[0m\u001b[0m\n\u001b[1;32m     27\u001b[0m \u001b[0;31m#     except:\u001b[0m\u001b[0;34m\u001b[0m\u001b[0;34m\u001b[0m\u001b[0m\n",
      "\u001b[0;32m~/opt/anaconda3/lib/python3.9/site-packages/selenium/webdriver/remote/webdriver.py\u001b[0m in \u001b[0;36mfind_element\u001b[0;34m(self, by, value)\u001b[0m\n\u001b[1;32m    739\u001b[0m             \u001b[0mvalue\u001b[0m \u001b[0;34m=\u001b[0m \u001b[0;34mf'[name=\"{value}\"]'\u001b[0m\u001b[0;34m\u001b[0m\u001b[0;34m\u001b[0m\u001b[0m\n\u001b[1;32m    740\u001b[0m \u001b[0;34m\u001b[0m\u001b[0m\n\u001b[0;32m--> 741\u001b[0;31m         \u001b[0;32mreturn\u001b[0m \u001b[0mself\u001b[0m\u001b[0;34m.\u001b[0m\u001b[0mexecute\u001b[0m\u001b[0;34m(\u001b[0m\u001b[0mCommand\u001b[0m\u001b[0;34m.\u001b[0m\u001b[0mFIND_ELEMENT\u001b[0m\u001b[0;34m,\u001b[0m \u001b[0;34m{\u001b[0m\u001b[0;34m\"using\"\u001b[0m\u001b[0;34m:\u001b[0m \u001b[0mby\u001b[0m\u001b[0;34m,\u001b[0m \u001b[0;34m\"value\"\u001b[0m\u001b[0;34m:\u001b[0m \u001b[0mvalue\u001b[0m\u001b[0;34m}\u001b[0m\u001b[0;34m)\u001b[0m\u001b[0;34m[\u001b[0m\u001b[0;34m\"value\"\u001b[0m\u001b[0;34m]\u001b[0m\u001b[0;34m\u001b[0m\u001b[0;34m\u001b[0m\u001b[0m\n\u001b[0m\u001b[1;32m    742\u001b[0m \u001b[0;34m\u001b[0m\u001b[0m\n\u001b[1;32m    743\u001b[0m     \u001b[0;32mdef\u001b[0m \u001b[0mfind_elements\u001b[0m\u001b[0;34m(\u001b[0m\u001b[0mself\u001b[0m\u001b[0;34m,\u001b[0m \u001b[0mby\u001b[0m\u001b[0;34m=\u001b[0m\u001b[0mBy\u001b[0m\u001b[0;34m.\u001b[0m\u001b[0mID\u001b[0m\u001b[0;34m,\u001b[0m \u001b[0mvalue\u001b[0m\u001b[0;34m:\u001b[0m \u001b[0mOptional\u001b[0m\u001b[0;34m[\u001b[0m\u001b[0mstr\u001b[0m\u001b[0;34m]\u001b[0m \u001b[0;34m=\u001b[0m \u001b[0;32mNone\u001b[0m\u001b[0;34m)\u001b[0m \u001b[0;34m->\u001b[0m \u001b[0mList\u001b[0m\u001b[0;34m[\u001b[0m\u001b[0mWebElement\u001b[0m\u001b[0;34m]\u001b[0m\u001b[0;34m:\u001b[0m\u001b[0;34m\u001b[0m\u001b[0;34m\u001b[0m\u001b[0m\n",
      "\u001b[0;32m~/opt/anaconda3/lib/python3.9/site-packages/selenium/webdriver/remote/webdriver.py\u001b[0m in \u001b[0;36mexecute\u001b[0;34m(self, driver_command, params)\u001b[0m\n\u001b[1;32m    345\u001b[0m         \u001b[0mresponse\u001b[0m \u001b[0;34m=\u001b[0m \u001b[0mself\u001b[0m\u001b[0;34m.\u001b[0m\u001b[0mcommand_executor\u001b[0m\u001b[0;34m.\u001b[0m\u001b[0mexecute\u001b[0m\u001b[0;34m(\u001b[0m\u001b[0mdriver_command\u001b[0m\u001b[0;34m,\u001b[0m \u001b[0mparams\u001b[0m\u001b[0;34m)\u001b[0m\u001b[0;34m\u001b[0m\u001b[0;34m\u001b[0m\u001b[0m\n\u001b[1;32m    346\u001b[0m         \u001b[0;32mif\u001b[0m \u001b[0mresponse\u001b[0m\u001b[0;34m:\u001b[0m\u001b[0;34m\u001b[0m\u001b[0;34m\u001b[0m\u001b[0m\n\u001b[0;32m--> 347\u001b[0;31m             \u001b[0mself\u001b[0m\u001b[0;34m.\u001b[0m\u001b[0merror_handler\u001b[0m\u001b[0;34m.\u001b[0m\u001b[0mcheck_response\u001b[0m\u001b[0;34m(\u001b[0m\u001b[0mresponse\u001b[0m\u001b[0;34m)\u001b[0m\u001b[0;34m\u001b[0m\u001b[0;34m\u001b[0m\u001b[0m\n\u001b[0m\u001b[1;32m    348\u001b[0m             \u001b[0mresponse\u001b[0m\u001b[0;34m[\u001b[0m\u001b[0;34m\"value\"\u001b[0m\u001b[0;34m]\u001b[0m \u001b[0;34m=\u001b[0m \u001b[0mself\u001b[0m\u001b[0;34m.\u001b[0m\u001b[0m_unwrap_value\u001b[0m\u001b[0;34m(\u001b[0m\u001b[0mresponse\u001b[0m\u001b[0;34m.\u001b[0m\u001b[0mget\u001b[0m\u001b[0;34m(\u001b[0m\u001b[0;34m\"value\"\u001b[0m\u001b[0;34m,\u001b[0m \u001b[0;32mNone\u001b[0m\u001b[0;34m)\u001b[0m\u001b[0;34m)\u001b[0m\u001b[0;34m\u001b[0m\u001b[0;34m\u001b[0m\u001b[0m\n\u001b[1;32m    349\u001b[0m             \u001b[0;32mreturn\u001b[0m \u001b[0mresponse\u001b[0m\u001b[0;34m\u001b[0m\u001b[0;34m\u001b[0m\u001b[0m\n",
      "\u001b[0;32m~/opt/anaconda3/lib/python3.9/site-packages/selenium/webdriver/remote/errorhandler.py\u001b[0m in \u001b[0;36mcheck_response\u001b[0;34m(self, response)\u001b[0m\n\u001b[1;32m    227\u001b[0m                 \u001b[0malert_text\u001b[0m \u001b[0;34m=\u001b[0m \u001b[0mvalue\u001b[0m\u001b[0;34m[\u001b[0m\u001b[0;34m\"alert\"\u001b[0m\u001b[0;34m]\u001b[0m\u001b[0;34m.\u001b[0m\u001b[0mget\u001b[0m\u001b[0;34m(\u001b[0m\u001b[0;34m\"text\"\u001b[0m\u001b[0;34m)\u001b[0m\u001b[0;34m\u001b[0m\u001b[0;34m\u001b[0m\u001b[0m\n\u001b[1;32m    228\u001b[0m             \u001b[0;32mraise\u001b[0m \u001b[0mexception_class\u001b[0m\u001b[0;34m(\u001b[0m\u001b[0mmessage\u001b[0m\u001b[0;34m,\u001b[0m \u001b[0mscreen\u001b[0m\u001b[0;34m,\u001b[0m \u001b[0mstacktrace\u001b[0m\u001b[0;34m,\u001b[0m \u001b[0malert_text\u001b[0m\u001b[0;34m)\u001b[0m  \u001b[0;31m# type: ignore[call-arg]  # mypy is not smart enough here\u001b[0m\u001b[0;34m\u001b[0m\u001b[0;34m\u001b[0m\u001b[0m\n\u001b[0;32m--> 229\u001b[0;31m         \u001b[0;32mraise\u001b[0m \u001b[0mexception_class\u001b[0m\u001b[0;34m(\u001b[0m\u001b[0mmessage\u001b[0m\u001b[0;34m,\u001b[0m \u001b[0mscreen\u001b[0m\u001b[0;34m,\u001b[0m \u001b[0mstacktrace\u001b[0m\u001b[0;34m)\u001b[0m\u001b[0;34m\u001b[0m\u001b[0;34m\u001b[0m\u001b[0m\n\u001b[0m",
      "\u001b[0;31mInvalidArgumentException\u001b[0m: Message: invalid argument: invalid locator\n  (Session info: chrome=124.0.6367.119)\nStacktrace:\n0   chromedriver                        0x000000010f218a18 chromedriver + 5216792\n1   chromedriver                        0x000000010f210653 chromedriver + 5183059\n2   chromedriver                        0x000000010ed82527 chromedriver + 406823\n3   chromedriver                        0x000000010edcd8a1 chromedriver + 714913\n4   chromedriver                        0x000000010edce181 chromedriver + 717185\n5   chromedriver                        0x000000010ee121d4 chromedriver + 995796\n6   chromedriver                        0x000000010edf072d chromedriver + 857901\n7   chromedriver                        0x000000010ee0f6bf chromedriver + 984767\n8   chromedriver                        0x000000010edf04a3 chromedriver + 857251\n9   chromedriver                        0x000000010edc0fe3 chromedriver + 663523\n10  chromedriver                        0x000000010edc192e chromedriver + 665902\n11  chromedriver                        0x000000010f1d6930 chromedriver + 4946224\n12  chromedriver                        0x000000010f1dc9e4 chromedriver + 4970980\n13  chromedriver                        0x000000010f1b742e chromedriver + 4817966\n14  chromedriver                        0x000000010f1dd4f9 chromedriver + 4973817\n15  chromedriver                        0x000000010f1a76b4 chromedriver + 4753076\n16  chromedriver                        0x000000010f1ffba8 chromedriver + 5114792\n17  chromedriver                        0x000000010f1ffd67 chromedriver + 5115239\n18  chromedriver                        0x000000010f210273 chromedriver + 5182067\n19  libsystem_pthread.dylib             0x00007fff207eb8fc _pthread_start + 224\n20  libsystem_pthread.dylib             0x00007fff207e7443 thread_start + 15\n"
     ]
    }
   ],
   "source": [
    "# Inicializa el navegador Chrome\n",
    "driver = webdriver.Chrome()\n",
    "\n",
    "# Navega a la página web \"http://www.imdb.com\"\n",
    "driver.get(\"http://www.imdb.com\")\n",
    "\n",
    "# Maximizar la ventana del navegador\n",
    "driver.maximize_window()\n",
    "\n",
    "# Acepta las cookies haciendo clic en el elemento con el selector CSS\n",
    "driver.find_element(\"css selector\", \"#__next > div > div > div.sc-jrcTuL.bPmWiM > div > button.icb-btn.sc-bcXHqe.sc-dkrFOg.sc-iBYQkv.dcvrLS.ddtuHe.dRCGjd\").click()\n",
    "\n",
    "sleep(2)\n",
    "\n",
    "\n",
    "driver.find_element('css selector', '#suggestion-search').send_keys('tt11152168', Keys.ENTER)\n",
    "sleep(2)\n",
    "\n",
    "# i=0\n",
    "# while True:\n",
    "    \n",
    "#     try:\n",
    "#         driver.execute_script(f'window.scrollTo(0,{i})')\n",
    "#         sleep(2)\n",
    "text= driver.find_element('div','class:{ipc-html-content-inner-div}')\n",
    "#         break\n",
    "#     except:\n",
    "#         i+=500\n",
    "\n",
    "# driver.execute_script(f'window.scrollTo({i},0)')\n",
    "\n",
    "# driver.close()\n",
    "        \n",
    "        \n",
    "\n",
    "\n",
    "\n",
    "\n",
    "# driver.find_element('css selector', '#__next > button').click()\n",
    "# sleep(2)\n",
    "\n",
    "# driver.close()   "
   ]
  },
  {
   "cell_type": "code",
   "execution_count": null,
   "metadata": {},
   "outputs": [],
   "source": [
    "/html/body/div[2]/main/div/section[1]/div/section/div/div[1]/section[5]/div[2]/div[1]/div/div/div\n",
    "/html/body/div[2]/main/div/section[1]/div/section/div/div[1]/section[3]/div[2]/div[1]/div/div/div"
   ]
  },
  {
   "cell_type": "code",
   "execution_count": 12,
   "metadata": {},
   "outputs": [
    {
     "data": {
      "text/plain": [
       "\"Newly engaged lovers, Jason and Brandon return to Los Angeles after two years in New York after Brandon completes his contract as a dancer with the New York Ballet Company. While Jason goes back to work as a piano accompanist at the local ballet studio, Brandon transitions into teaching ballet students. Jason meets a stunningly good-looking dancer Devon with whom he has a strong connection who tries to convince him to help him with his career through the rumored magical healing power of Jason's piano music. Brandon's former partner, Adam, who was violent and abusive when they were together, is back in the picture and making a play for Brandon. Even though Adam has gotten his life together, he is still desperately in love with Brandon. As Jason and Brandon settle into their routine of work and daily life, memories of a tragic family car accident still haunt Jason. Jason's wish of having his children, Max and Isabella, back seems like it may become attainable through his ability to heal people and transcend time with his piano music. However, his inability to control the power of his music and his strong attraction to Devon brings unexpected consequences to the people he loves the most, including his ex-wife Karen and his true love, Brandon. The intersecting themes of karma, grief, loss, true love and reclaiming one's power combine in this fantasy/drama/romance to make a sizzling follow up to the award-winning film, The Accompanist, due in wide release September, 2020.\""
      ]
     },
     "execution_count": 12,
     "metadata": {},
     "output_type": "execute_result"
    }
   ],
   "source": [
    "text"
   ]
  },
  {
   "cell_type": "code",
   "execution_count": 10,
   "metadata": {},
   "outputs": [
    {
     "data": {
      "text/plain": [
       "[\"A soul allegedly with a 20-year-old girl as her daughter, whom she wants to take with her and the elder sister's wants to stop the soul from doing so.\",\n",
       " \"This is a story about finding the courage to be one's self.\",\n",
       " 'NULL',\n",
       " 'NULL',\n",
       " \"Newly engaged lovers, Jason and Brandon return to Los Angeles after two years in New York after Brandon completes his contract as a dancer with the New York Ballet Company. While Jason goes back to work as a piano accompanist at the local ballet studio, Brandon transitions into teaching ballet students. Jason meets a stunningly good-looking dancer Devon with whom he has a strong connection who tries to convince him to help him with his career through the rumored magical healing power of Jason's piano music. Brandon's former partner, Adam, who was violent and abusive when they were together, is back in the picture and making a play for Brandon. Even though Adam has gotten his life together, he is still desperately in love with Brandon. As Jason and Brandon settle into their routine of work and daily life, memories of a tragic family car accident still haunt Jason. Jason's wish of having his children, Max and Isabella, back seems like it may become attainable through his ability to heal people and transcend time with his piano music. However, his inability to control the power of his music and his strong attraction to Devon brings unexpected consequences to the people he loves the most, including his ex-wife Karen and his true love, Brandon. The intersecting themes of karma, grief, loss, true love and reclaiming one's power combine in this fantasy/drama/romance to make a sizzling follow up to the award-winning film, The Accompanist, due in wide release September, 2020.\"]"
      ]
     },
     "execution_count": 10,
     "metadata": {},
     "output_type": "execute_result"
    }
   ],
   "source": [
    "lista_argumento"
   ]
<<<<<<< HEAD
=======
  },
  {
   "cell_type": "markdown",
   "metadata": {},
   "source": [
    "## Pruebas Isa"
   ]
  },
  {
   "cell_type": "code",
   "execution_count": 85,
   "metadata": {},
   "outputs": [],
   "source": [
    "# Inicializa el navegador Chrome\n",
    "driver = webdriver.Chrome()\n",
    "\n",
    "# Navega a la página web \"http://www.imdb.com\"\n",
    "driver.get(\"http://www.imdb.com\")\n",
    "\n",
    "# Maximizar la ventana del navegador\n",
    "driver.maximize_window()\n",
    "\n",
    "# Acepta las cookies haciendo clic en el elemento con el selector CSS\n",
    "driver.find_element(\"css selector\", \"#__next > div > div > div.sc-jrcTuL.bPmWiM > div > button.icb-btn.sc-bcXHqe.sc-dkrFOg.sc-iBYQkv.dcvrLS.ddtuHe.dRCGjd\").click()\n",
    "\n",
    "sleep(5)\n",
    "\n",
    "#Para buscar la duración de cada película, tengo que crear aquí (fuera del for) la lista porque si no la sobreescribe.\n",
    "#Hay demasiadas variables de selectores y, además en algunos casos imprime R/PG. Así que sacamos la sección entera y, de ella, extraemos la duración\n",
    "#Creamos lista vacía para guardar esa sección\n",
    "seccion_duracion=[]\n",
    "\n",
    "\n",
    "#Iniciamos loop for para iterar en la lista de todas las películas\n",
    "for peli in mini_lista:\n",
    "\n",
    "    # Introducimos el número de ID de la peli en el buscador de la web\n",
    "    driver.find_element('css selector', '#suggestion-search').send_keys(peli, Keys.ENTER)\n",
    "    sleep(2)\n",
    "\n",
    "    ##########Aquí iría la variable seccion_duracion=[] pero si la pongo aquí sólo me guarda la última, si la dejo arriba, fuera del for sí guarda todas las pelis.\n",
    "    # Iniciamos try/expect loop para que busque la sección. Si la encuenta la appendea en seccion_duracion, de lo contrario, appendea 'NULL'.\n",
    "    try:\n",
    "        seccion_duracion.append(driver.find_element('css selector', '#__next > main > div > section.ipc-page-background.ipc-page-background--base.sc-304f99f6-0.fSJiHR > section > div:nth-child(5) > section > section > div.sc-92625f35-3.frxYSZ > div.sc-b7c53eda-0.dUpRPQ').text)\n",
    "    except:\n",
    "        seccion_duracion.append('NULL')\n",
    "    \n",
    "    #De la sección, nos devuelve una lista con todos los campos. Hacemos un regex para extraer las horas y los minutos.\n",
    "    #Buscamos el patrón \"Xh Ymin\": un número seguido de 'h', seguido de 0 o más espacios, seguido de otro número y 'min'\n",
    "    patron = r'(\\d+)h\\s*(\\d+)min'\n",
    "    #Creamos lista en la que guardaremos los dígitos de las horas y los minutos\n",
    "    horas_y_minutos=[]\n",
    "    #Iteramos la lista de secciones que sacamos en el paso anterior\n",
    "    for i in seccion_duracion:\n",
    "        #Dentro de cada sección, buscamos por texto, que es cada parte de la sección (título, año, duración)\n",
    "        #Buscamos el patrón definido dentro de cada parte de la sección, y lo guardamos en la variable 'match'\n",
    "        match=re.search(patron, i)\n",
    "        if match:\n",
    "            #Si ha encontrado el patrón, guarda el primer grupo de captura (\\d+) en la variable 'horas' y el segundo (\\d+) en la variable 'minutos'\n",
    "            horas=match.group(1)\n",
    "            minutos=match.group(2)\n",
    "            horas_y_minutos.append((int(horas), int(minutos)))\n",
    "        else:\n",
    "            #Si no existe la duración en la sección, appendeamos 'NULL'\n",
    "            horas_y_minutos.append('NULL')\n",
    "\n",
    "        \n",
    "        #Ahora, el contenido de horas_y_minutos es [(2, 2), (1, 30), (1, 47), (1, 44), ('NULL)]. Vamos a pasarlo a minutos.\n",
    "        #Creamos variable para guardar los minutos, de la que beberá la lista_duracion\n",
    "        duracion_minutos=[]\n",
    "        #Iteramos horas_y_minutos\n",
    "        for i in horas_y_minutos:\n",
    "            #Si es 'NULL', appendeamos 'NULL'\n",
    "            if i == 'NULL':\n",
    "                duracion_minutos.append('NULL')\n",
    "            #Se puede dar el caso de que sólo haya un dígito, por ejemplo 2 (2 horas exactas). De ser así, multiplicamos las horas por 60.\n",
    "            elif len(i)==1:\n",
    "                duracion_minutos.append(i[0]*60)\n",
    "            else:\n",
    "                #Si hay más de un dígito, multiplicamos el primero por 60 y le sumamos los minutos.\n",
    "                duracion_minutos.append((i[0]*60) + (i[1]))\n",
    "        \n",
    "    #Por último, appendeamos la lista final con los minutos totales\n",
    "    lista_duracion.extend(duracion_minutos)\n"
   ]
  },
  {
   "cell_type": "markdown",
   "metadata": {},
   "source": [
    "Imprimo las variables intermedias para que podáis verlas y entender mejor los pasos"
   ]
  },
  {
   "cell_type": "code",
   "execution_count": 86,
   "metadata": {},
   "outputs": [
    {
     "data": {
      "text/plain": [
       "[\"Mom's Coming\\n2024\\n2h 2min\",\n",
       " 'Love Song and Power\\n2024\\n1h 30min',\n",
       " 'El astronauta\\nTítulo original: Spaceman\\n2024\\nR\\n1h 47min',\n",
       " 'Amigos imaginarios\\nTítulo original: IF\\n2024\\nPG\\n1h 44min',\n",
       " 'The Accompanist Awakening\\n2024']"
      ]
     },
     "execution_count": 86,
     "metadata": {},
     "output_type": "execute_result"
    }
   ],
   "source": [
    "seccion_duracion"
   ]
  },
  {
   "cell_type": "code",
   "execution_count": 87,
   "metadata": {},
   "outputs": [
    {
     "data": {
      "text/plain": [
       "[(2, 2), (1, 30), (1, 47), (1, 44), 'NULL']"
      ]
     },
     "execution_count": 87,
     "metadata": {},
     "output_type": "execute_result"
    }
   ],
   "source": [
    "horas_y_minutos"
   ]
  },
  {
   "cell_type": "code",
   "execution_count": 88,
   "metadata": {},
   "outputs": [
    {
     "data": {
      "text/plain": [
       "[122, 122, 90, 122, 90, 107, 122, 90, 107, 104, 122, 90, 107, 104, 'NULL']"
      ]
     },
     "execution_count": 88,
     "metadata": {},
     "output_type": "execute_result"
    }
   ],
   "source": [
    "lista_duracion"
   ]
  },
  {
   "cell_type": "code",
   "execution_count": 53,
   "metadata": {},
   "outputs": [
    {
     "name": "stdout",
     "output_type": "stream",
     "text": [
      "[(2, 2), (1, 30), (1, 47), (1, 44), (0, 0)]\n"
     ]
    }
   ],
   "source": [
    "patron = r'(\\d+)h\\s*(\\d+)min'\n",
    "horas_y_minutos=[]\n",
    "for i in lista_duracion:\n",
    "    for texto in i:\n",
    "        match=re.search(patron, texto)\n",
    "        if match:\n",
    "            horas=match.group(1)\n",
    "            minutos=match.group(2)\n",
    "            horas_y_minutos.append((int(horas), int(minutos)))\n",
    "        else:\n",
    "            horas_y_minutos.append((0, 0))\n",
    "\n",
    "print(horas_y_minutos)"
   ]
  },
  {
   "cell_type": "code",
   "execution_count": null,
   "metadata": {},
   "outputs": [],
   "source": [
    "#podemos hacer esta parte del código con una list comprenhension\n",
    "patron = r'(\\d+)h\\s*(\\d+)min'\n",
    "horas_y_minutos = [(int(match.group(1)), int(match.group(2))) if match else (0, 0) for i in lista_duracion for texto in i for match in [re.search(patron, texto)]]\n"
   ]
  },
  {
   "cell_type": "code",
   "execution_count": 54,
   "metadata": {},
   "outputs": [
    {
     "name": "stdout",
     "output_type": "stream",
     "text": [
      "[122, 90, 107, 104, 0]\n"
     ]
    }
   ],
   "source": [
    "duracion_minutos=[]\n",
    "for i in horas_y_minutos:\n",
    "    if len(i)==1:\n",
    "        duracion_minutos.append(i[0]*60)\n",
    "    else:\n",
    "        duracion_minutos.append((i[0]*60) + (i[1]))\n",
    "    \n",
    "print(duracion_minutos)"
   ]
  },
  {
   "cell_type": "code",
   "execution_count": null,
   "metadata": {},
   "outputs": [],
   "source": [
    "#podemos hacer esta parte del código con una list comprenhension\n",
    "duracion_minutos = [i[0] * 60 if len(i) == 1 else i[0] * 60 + i[1] for i in horas_y_minutos]\n"
   ]
  },
  {
   "cell_type": "markdown",
   "metadata": {},
   "source": [
    "---\n",
    "Añado aquí al final el código de los tomates, para que unamos con el código de IMDB una vez esté terminado"
   ]
  },
  {
   "cell_type": "code",
   "execution_count": 91,
   "metadata": {},
   "outputs": [
    {
     "name": "stderr",
     "output_type": "stream",
     "text": [
      "100%|██████████| 3/3 [00:54<00:00, 18.27s/it]\n"
     ]
    }
   ],
   "source": [
    "#Estas serían las listas extraídas de la Fase 1: del csv sacamos una lista con todos los títulos y otra con todos los años\n",
    "lista_pelis_cortos=[\"Mom's Coming\", 'Love Song and Power', \"William Shakespeare's Romeo + Juliet\"]\n",
    "años_pelis_cortos=[2024, 2024, 1996]\n",
    "#Unimos esas dos listas en un zip que utilizaremos para buscar dentro de Rotten Tomatoes\n",
    "zip_pelis_cortos= list(zip(lista_pelis_cortos, años_pelis_cortos))\n",
    "\n",
    "#1. Cremamos lista para guardar las puntuaciones\n",
    "tomatometer=[]\n",
    "\n",
    "#2. Entramos en la website y aceptamos cookies\n",
    "driver=webdriver.Chrome()\n",
    "driver.get('https://www.rottentomatoes.com/')\n",
    "driver.maximize_window()\n",
    "driver.find_element('css selector', '#onetrust-accept-btn-handler').click()\n",
    "sleep(3)\n",
    "\n",
    "#3. Iteramos el zip para extraer su puntuación\n",
    "for titulo, año in tqdm(zip_pelis_cortos):\n",
    "\n",
    "    #Intentamos buscar por el título; si existe entra en el primer resultado; de lo contrario, appenda un mensaje de 'NULL' (ponemos NULL para que las futuras consultas en SQL sean más prácticas)\n",
    "    try: #bBuscamos la peli por título y año en la barra del buscador\n",
    "        driver.find_element('css selector', '#header-main > search-algolia > search-algolia-controls > input').send_keys(f'{titulo} {año}', Keys.ENTER)\n",
    "        sleep(3) #Hacemos click en el primer resultado\n",
    "        driver.find_element('css selector', '#search-results > search-page-result:nth-child(2) > ul > search-page-media-row:nth-child(1) > a:nth-child(2)').click()\n",
    "        sleep(3)\n",
    "        try: #busca el tomatómetro y, si existe, lo appendea en la lista tomatometer\n",
    "            tomatometer.append(driver.find_element('css selector', '#modules-wrap > div.media-scorecard.no-border > media-scorecard > rt-button:nth-child(3) > rt-text').text)\n",
    "        except: #si no tiene tomatómetro, appendea 'NULL'\n",
    "            tomatometer.append('NULL')\n",
    "        sleep(3)\n",
    "    except: #si la peli no existe devuelve mensaje 'NULL'\n",
    "        tomatometer.append('NULL')\n"
   ]
  },
  {
   "cell_type": "code",
   "execution_count": 92,
   "metadata": {},
   "outputs": [
    {
     "data": {
      "text/plain": [
       "['90%', 'NULL', '74%']"
      ]
     },
     "execution_count": 92,
     "metadata": {},
     "output_type": "execute_result"
    }
   ],
   "source": [
    "tomatometer"
   ]
>>>>>>> Rama_Isa_01
  }
 ],
 "metadata": {
  "kernelspec": {
   "display_name": "base",
   "language": "python",
   "name": "python3"
  },
  "language_info": {
   "codemirror_mode": {
    "name": "ipython",
    "version": 3
   },
   "file_extension": ".py",
   "mimetype": "text/x-python",
   "name": "python",
   "nbconvert_exporter": "python",
   "pygments_lexer": "ipython3",
<<<<<<< HEAD
   "version": "3.9.7"
=======
   "version": "3.11.2"
>>>>>>> Rama_Isa_01
  }
 },
 "nbformat": 4,
 "nbformat_minor": 2
}
