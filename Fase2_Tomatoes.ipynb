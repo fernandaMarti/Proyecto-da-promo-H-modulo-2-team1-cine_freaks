{
 "cells": [
  {
   "cell_type": "code",
   "execution_count": 4,
   "metadata": {},
   "outputs": [],
   "source": [
    "#0. Importar librerías\n",
    "import pandas as pd\n",
    "import requests\n",
    "from bs4 import BeautifulSoup\n",
    "from datetime import datetime\n",
    "from selenium import webdriver  \n",
    "from webdriver_manager.chrome import ChromeDriverManager  \n",
    "from selenium.webdriver.common.keys import Keys \n",
    "from selenium.webdriver.support.ui import Select  \n",
    "from time import sleep\n",
    "from tqdm import tqdm\n",
    "pd.set_option('display.max_columns', None) "
   ]
  },
  {
   "cell_type": "code",
   "execution_count": 7,
   "metadata": {},
   "outputs": [],
   "source": [
    "#Este será el diccionario en el que guardemos los datos de Rotten Tomatoes y de IMDB\n",
    "diccionario_fase2={'Tomatometer':[],\n",
    "                   'Puntuación':[],\n",
    "                   'Director/es':[],\n",
    "                   'Guinistas':[],\n",
    "                   'Argumento':[],\n",
    "                   'Duración':[],\n",
    "                   'Título':[]}\n",
    "\n",
    "#En lugar de hacer un diccionario, creo que es mejor hacer una lista_imdb a la que se le vaya appendeando cada variable y luego, al hacer el df se establecen los nombres de columnas. Después, se le une el tomatometer con un zip\n",
    "'''\n",
    "lista_imdb\n",
    "tomatometer\n",
    "lista_final=[]\n",
    "for imdb, tomates in zip(lista_imdb, tomatometer):\n",
    "    lista_combinada = imdb + tomatometer\n",
    "    lista_final.append(tuple(lista_combinada)) #y ya la pasamos a tupla porque piden lista de tuplas\n",
    "'''"
   ]
  },
  {
   "cell_type": "code",
   "execution_count": 16,
   "metadata": {},
   "outputs": [
    {
     "name": "stderr",
     "output_type": "stream",
     "text": [
      "100%|██████████| 3/3 [00:55<00:00, 18.55s/it]\n"
     ]
    }
   ],
   "source": [
    "#Esta sería la lista extraída de la Fase 1\n",
    "lista_pelis_cortos=[\"Mom's Coming\", 'Love Song and Power', \"William Shakespeare's Romeo + Juliet\"]\n",
    "años_pelis_cortos=[2024, 2024, 1996]\n",
    "zip_pelis_cortos= list(zip(lista_pelis_cortos, años_pelis_cortos))\n",
    "\n",
    "#1. Cremamos lista para guardar las puntuaciones.\n",
    "tomatometer=[]\n",
    "\n",
    "#2. Entramos en la website y aceptamos cookies\n",
    "driver=webdriver.Chrome()\n",
    "driver.get('https://www.rottentomatoes.com/')\n",
    "driver.maximize_window()\n",
    "driver.find_element('css selector', '#onetrust-accept-btn-handler').click()\n",
    "sleep(3)\n",
    "\n",
    "#3. Iteramos la lista de películas y cortos para extraer su puntuación\n",
    "for titulo, año in tqdm(zip_pelis_cortos):\n",
    "\n",
    "    #intentamos buscar por el título; si existe entra en el primer resultado; de lo contrario, appenda un mensaje de 'no existe'\n",
    "    try:\n",
    "        driver.find_element('css selector', '#header-main > search-algolia > search-algolia-controls > input').send_keys(f'{titulo} {año}', Keys.ENTER)\n",
    "        sleep(3)\n",
    "        driver.find_element('css selector', '#search-results > search-page-result:nth-child(2) > ul > search-page-media-row:nth-child(1) > a:nth-child(2)').click()\n",
    "        sleep(3)\n",
    "        try:\n",
    "            tomatometer.append(driver.find_element('css selector', '#modules-wrap > div.media-scorecard.no-border > media-scorecard > rt-button:nth-child(3) > rt-text').text)\n",
    "        except:\n",
    "            tomatometer.append('Este título no tiene puntuación en Rotten Tomatoes')\n",
    "        sleep(3)\n",
    "        driver.back()\n",
    "    except:\n",
    "        tomatometer.append('Este título no se encuentra en Rotten Tomatoes')\n",
    "\n",
    "#4. Appendeamos el diccionario con la lista\n"
   ]
  },
  {
   "cell_type": "code",
   "execution_count": 19,
   "metadata": {},
   "outputs": [
    {
     "data": {
      "text/plain": [
       "{'Tomatometer': [['90%',\n",
       "   'Este título no tiene puntuación en Rotten Tomatoes',\n",
       "   '74%']],\n",
       " 'Puntuación': [],\n",
       " 'Director/es': [],\n",
       " 'Guinistas': [],\n",
       " 'Argumento': [],\n",
       " 'Duración': [],\n",
       " 'Título': []}"
      ]
     },
     "execution_count": 19,
     "metadata": {},
     "output_type": "execute_result"
    }
   ],
   "source": [
    "prueba={'Tomatometer':[],\n",
    "        'Puntuación':[],\n",
    "        'Director/es':[],\n",
    "        'Guinistas':[],\n",
    "        'Argumento':[],\n",
    "        'Duración':[],\n",
    "        'Título':[]}\n",
    "prueba['Tomatometer'].append(tomatometer)\n",
    "prueba"
   ]
  },
  {
   "cell_type": "code",
   "execution_count": 20,
   "metadata": {},
   "outputs": [
    {
     "data": {
      "text/plain": [
       "[('Tomatometer',\n",
       "  [['90%', 'Este título no tiene puntuación en Rotten Tomatoes', '74%']]),\n",
       " ('Puntuación', []),\n",
       " ('Director/es', []),\n",
       " ('Guinistas', []),\n",
       " ('Argumento', []),\n",
       " ('Duración', []),\n",
       " ('Título', [])]"
      ]
     },
     "execution_count": 20,
     "metadata": {},
     "output_type": "execute_result"
    }
   ],
   "source": [
    "lista_prueba=list(prueba.items())\n",
    "lista_prueba"
   ]
  },
  {
   "cell_type": "code",
   "execution_count": 17,
   "metadata": {},
   "outputs": [
    {
     "data": {
      "text/plain": [
       "['90%', 'Este título no tiene puntuación en Rotten Tomatoes', '74%']"
      ]
     },
     "execution_count": 17,
     "metadata": {},
     "output_type": "execute_result"
    }
   ],
   "source": [
    "tomatometer"
   ]
  },
  {
   "cell_type": "code",
   "execution_count": null,
   "metadata": {},
   "outputs": [],
   "source": [
    "#rso > div:nth-child(1) > div > div > div > div.kb0PBd.cvP2Ce.A9Y9g.jGGQ5e > div > div > span > a > h3\n",
    "#rso > div:nth-child(1) > div > div > div > div.kb0PBd.cvP2Ce.A9Y9g.jGGQ5e > div > div > span > a > h3"
   ]
  },
  {
   "cell_type": "code",
   "execution_count": null,
   "metadata": {},
   "outputs": [],
   "source": [
    "#Cuando busca un título, estos son los selectores del orden en que aparecen\n",
    "#search-results > search-page-result:nth-child(2) > ul > search-page-media-row:nth-child(1) > a:nth-child(2)\n",
    "#search-results > search-page-result:nth-child(2) > ul > search-page-media-row:nth-child(2) > a:nth-child(2)\n",
    "#search-results > search-page-result:nth-child(2) > ul > search-page-media-row:nth-child(3) > a:nth-child(2)"
   ]
  },
  {
   "cell_type": "code",
   "execution_count": null,
   "metadata": {},
   "outputs": [],
   "source": [
    "#Cuando busca un título y no lo encuentra\n",
    "#main-page-content > div > section.search__main.layout__column.layout__column--main > div > div > h1"
   ]
  },
  {
   "cell_type": "code",
   "execution_count": null,
   "metadata": {},
   "outputs": [],
   "source": [
    "#Tomatometer\n",
    "#modules-wrap > div.media-scorecard.no-border > media-scorecard > rt-button:nth-child(3) > rt-text\n",
    "#modules-wrap > div.media-scorecard.no-border > media-scorecard > rt-button:nth-child(3) > rt-text"
   ]
  }
 ],
 "metadata": {
  "kernelspec": {
   "display_name": "Python 3",
   "language": "python",
   "name": "python3"
  },
  "language_info": {
   "codemirror_mode": {
    "name": "ipython",
    "version": 3
   },
   "file_extension": ".py",
   "mimetype": "text/x-python",
   "name": "python",
   "nbconvert_exporter": "python",
   "pygments_lexer": "ipython3",
   "version": "3.11.2"
  }
 },
 "nbformat": 4,
 "nbformat_minor": 2
}
