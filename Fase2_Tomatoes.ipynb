{
 "cells": [
  {
   "cell_type": "code",
   "execution_count": 9,
   "metadata": {},
   "outputs": [],
   "source": [
    "#0. Importar librerías\n",
    "import pandas as pd\n",
    "import requests\n",
    "from bs4 import BeautifulSoup\n",
    "from datetime import datetime\n",
    "from selenium import webdriver  \n",
    "from webdriver_manager.chrome import ChromeDriverManager  \n",
    "from selenium.webdriver.common.keys import Keys \n",
    "from selenium.webdriver.support.ui import Select  \n",
    "from time import sleep\n",
    "from tqdm import tqdm\n",
    "pd.set_option('display.max_columns', None) "
   ]
  },
  {
   "cell_type": "code",
   "execution_count": 11,
   "metadata": {},
   "outputs": [
    {
     "name": "stderr",
     "output_type": "stream",
     "text": [
      "100%|██████████| 3/3 [01:02<00:00, 20.69s/it]\n"
     ]
    }
   ],
   "source": [
    "#Estas serían las listas extraídas de la Fase 1: del csv sacamos una lista con todos los títulos y otra con todos los años\n",
    "lista_pelis_cortos=[\"Mom's Coming\", 'Love Song and Power', \"William Shakespeare's Romeo + Juliet\"]\n",
    "años_pelis_cortos=[2024, 2024, 1996]\n",
    "#Unimos esas dos listas en un zip que utilizaremos para buscar dentro de Rotten Tomatoes\n",
    "zip_pelis_cortos= list(zip(lista_pelis_cortos, años_pelis_cortos))\n",
    "\n",
    "#1. Cremamos lista para guardar las puntuaciones\n",
    "tomatometer=[]\n",
    "\n",
    "#2. Entramos en la website y aceptamos cookies\n",
    "driver=webdriver.Chrome()\n",
    "driver.get('https://www.rottentomatoes.com/')\n",
    "driver.maximize_window()\n",
    "driver.find_element('css selector', '#onetrust-accept-btn-handler').click()\n",
    "sleep(3)\n",
    "\n",
    "#3. Iteramos el zip para extraer su puntuación\n",
    "for titulo, año in tqdm(zip_pelis_cortos):\n",
    "\n",
    "    #Intentamos buscar por el título; si existe entra en el primer resultado; de lo contrario, appenda un mensaje de 'NULL' (ponemos NULL para que las futuras consultas en SQL sean más prácticas)\n",
    "    try: #bBuscamos la peli por título y año en la barra del buscador\n",
    "        driver.find_element('css selector', '#header-main > search-algolia > search-algolia-controls > input').send_keys(f'{titulo} {año}', Keys.ENTER)\n",
    "        sleep(3) #Hacemos click en el primer resultado\n",
    "        driver.find_element('css selector', '#search-results > search-page-result:nth-child(2) > ul > search-page-media-row:nth-child(1) > a:nth-child(2)').click()\n",
    "        sleep(3)\n",
    "        try: #busca el tomatómetro y, si existe, lo appendea en la lista tomatometer\n",
    "            tomatometer.append(driver.find_element('css selector', '#modules-wrap > div.media-scorecard.no-border > media-scorecard > rt-button:nth-child(3) > rt-text').text)\n",
    "        except: #si no tiene tomatómetro, appendea 'NULL'\n",
    "            tomatometer.append('NULL')\n",
    "        sleep(3)\n",
    "    except: #si la peli no existe devuelve mensaje 'NULL'\n",
    "        tomatometer.append('NULL')\n"
   ]
  },
  {
   "cell_type": "code",
   "execution_count": 12,
   "metadata": {},
   "outputs": [
    {
     "data": {
      "text/plain": [
       "['90%', 'NULL', '74%']"
      ]
     },
     "execution_count": 12,
     "metadata": {},
     "output_type": "execute_result"
    }
   ],
   "source": [
    "tomatometer"
   ]
  },
  {
   "cell_type": "code",
   "execution_count": null,
   "metadata": {},
   "outputs": [],
   "source": [
    "#Cuando busca un título, estos son los selectores del orden en que aparecen\n",
    "#search-results > search-page-result:nth-child(2) > ul > search-page-media-row:nth-child(1) > a:nth-child(2)\n",
    "#search-results > search-page-result:nth-child(2) > ul > search-page-media-row:nth-child(2) > a:nth-child(2)\n",
    "#search-results > search-page-result:nth-child(2) > ul > search-page-media-row:nth-child(3) > a:nth-child(2)"
   ]
  },
  {
   "cell_type": "code",
   "execution_count": null,
   "metadata": {},
   "outputs": [],
   "source": [
    "#Cuando busca un título y no lo encuentra\n",
    "#main-page-content > div > section.search__main.layout__column.layout__column--main > div > div > h1"
   ]
  },
  {
   "cell_type": "code",
   "execution_count": null,
   "metadata": {},
   "outputs": [],
   "source": [
    "#Tomatometer\n",
    "#modules-wrap > div.media-scorecard.no-border > media-scorecard > rt-button:nth-child(3) > rt-text\n",
    "#modules-wrap > div.media-scorecard.no-border > media-scorecard > rt-button:nth-child(3) > rt-text"
   ]
  }
 ],
 "metadata": {
  "kernelspec": {
   "display_name": "Python 3",
   "language": "python",
   "name": "python3"
  },
  "language_info": {
   "codemirror_mode": {
    "name": "ipython",
    "version": 3
   },
   "file_extension": ".py",
   "mimetype": "text/x-python",
   "name": "python",
   "nbconvert_exporter": "python",
   "pygments_lexer": "ipython3",
   "version": "3.11.2"
  }
 },
 "nbformat": 4,
 "nbformat_minor": 2
}
